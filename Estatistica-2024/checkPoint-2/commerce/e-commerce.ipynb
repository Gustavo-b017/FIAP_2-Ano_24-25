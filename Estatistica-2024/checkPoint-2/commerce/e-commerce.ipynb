{
 "cells": [
  {
   "cell_type": "code",
   "execution_count": 1,
   "metadata": {},
   "outputs": [
    {
     "data": {
      "text/html": [
       "<div>\n",
       "<style scoped>\n",
       "    .dataframe tbody tr th:only-of-type {\n",
       "        vertical-align: middle;\n",
       "    }\n",
       "\n",
       "    .dataframe tbody tr th {\n",
       "        vertical-align: top;\n",
       "    }\n",
       "\n",
       "    .dataframe thead th {\n",
       "        text-align: right;\n",
       "    }\n",
       "</style>\n",
       "<table border=\"1\" class=\"dataframe\">\n",
       "  <thead>\n",
       "    <tr style=\"text-align: right;\">\n",
       "      <th></th>\n",
       "      <th>Customer ID</th>\n",
       "      <th>Age</th>\n",
       "      <th>Gender</th>\n",
       "      <th>Location</th>\n",
       "      <th>Annual Income</th>\n",
       "      <th>Purchase History</th>\n",
       "      <th>Browsing History</th>\n",
       "      <th>Product Reviews</th>\n",
       "      <th>Time on Site</th>\n",
       "    </tr>\n",
       "  </thead>\n",
       "  <tbody>\n",
       "    <tr>\n",
       "      <th>0</th>\n",
       "      <td>1001</td>\n",
       "      <td>25</td>\n",
       "      <td>Female</td>\n",
       "      <td>City D</td>\n",
       "      <td>45000</td>\n",
       "      <td>[{\"Date\": \"2022-03-05\", \"Category\": \"Clothing\"...</td>\n",
       "      <td>[{\"Timestamp\": \"2022-03-10T14:30:00Z\"}, {\"Time...</td>\n",
       "      <td>Great pair of jeans, very comfortable. Rating:...</td>\n",
       "      <td>32.50</td>\n",
       "    </tr>\n",
       "    <tr>\n",
       "      <th>1</th>\n",
       "      <td>1001</td>\n",
       "      <td>28</td>\n",
       "      <td>Female</td>\n",
       "      <td>City D</td>\n",
       "      <td>52000</td>\n",
       "      <td>[{\"Product Category\": \"Clothing\", \"Purchase Da...</td>\n",
       "      <td>[{\"Product Category\": \"Home &amp; Garden\", \"Timest...</td>\n",
       "      <td>Great customer service!</td>\n",
       "      <td>123.45</td>\n",
       "    </tr>\n",
       "    <tr>\n",
       "      <th>2</th>\n",
       "      <td>1001</td>\n",
       "      <td>28</td>\n",
       "      <td>Female</td>\n",
       "      <td>City D</td>\n",
       "      <td>65000</td>\n",
       "      <td>[{\"Product Category\": \"Electronics\", \"Purchase...</td>\n",
       "      <td>[{\"Product Category\": \"Clothing\", \"Timestamp\":...</td>\n",
       "      <td>Great electronics. The sound quality is excell...</td>\n",
       "      <td>125.60</td>\n",
       "    </tr>\n",
       "    <tr>\n",
       "      <th>3</th>\n",
       "      <td>1001</td>\n",
       "      <td>45</td>\n",
       "      <td>Female</td>\n",
       "      <td>City D</td>\n",
       "      <td>70000</td>\n",
       "      <td>{'Purchase Date': '2022-08-15', 'Product Categ...</td>\n",
       "      <td>{'Timestamp': '2022-09-03 14:30:00'}</td>\n",
       "      <td>{\"Product 1\": {\"Rating\": 4, \"Review\": \"Great e...</td>\n",
       "      <td>327.60</td>\n",
       "    </tr>\n",
       "    <tr>\n",
       "      <th>4</th>\n",
       "      <td>1002</td>\n",
       "      <td>34</td>\n",
       "      <td>Male</td>\n",
       "      <td>City E</td>\n",
       "      <td>45000</td>\n",
       "      <td>{'Purchase Date': '2022-07-25', 'Product Categ...</td>\n",
       "      <td>{'Timestamp': '2022-08-10 17:15:00'}</td>\n",
       "      <td>{\"Product 1\": {\"Rating\": 3, \"Review\": \"Good pr...</td>\n",
       "      <td>214.90</td>\n",
       "    </tr>\n",
       "  </tbody>\n",
       "</table>\n",
       "</div>"
      ],
      "text/plain": [
       "   Customer ID  Age  Gender Location  Annual Income  \\\n",
       "0         1001   25  Female   City D          45000   \n",
       "1         1001   28  Female   City D          52000   \n",
       "2         1001   28  Female   City D          65000   \n",
       "3         1001   45  Female   City D          70000   \n",
       "4         1002   34    Male   City E          45000   \n",
       "\n",
       "                                    Purchase History  \\\n",
       "0  [{\"Date\": \"2022-03-05\", \"Category\": \"Clothing\"...   \n",
       "1  [{\"Product Category\": \"Clothing\", \"Purchase Da...   \n",
       "2  [{\"Product Category\": \"Electronics\", \"Purchase...   \n",
       "3  {'Purchase Date': '2022-08-15', 'Product Categ...   \n",
       "4  {'Purchase Date': '2022-07-25', 'Product Categ...   \n",
       "\n",
       "                                    Browsing History  \\\n",
       "0  [{\"Timestamp\": \"2022-03-10T14:30:00Z\"}, {\"Time...   \n",
       "1  [{\"Product Category\": \"Home & Garden\", \"Timest...   \n",
       "2  [{\"Product Category\": \"Clothing\", \"Timestamp\":...   \n",
       "3               {'Timestamp': '2022-09-03 14:30:00'}   \n",
       "4               {'Timestamp': '2022-08-10 17:15:00'}   \n",
       "\n",
       "                                     Product Reviews  Time on Site  \n",
       "0  Great pair of jeans, very comfortable. Rating:...         32.50  \n",
       "1                            Great customer service!        123.45  \n",
       "2  Great electronics. The sound quality is excell...        125.60  \n",
       "3  {\"Product 1\": {\"Rating\": 4, \"Review\": \"Great e...        327.60  \n",
       "4  {\"Product 1\": {\"Rating\": 3, \"Review\": \"Good pr...        214.90  "
      ]
     },
     "execution_count": 1,
     "metadata": {},
     "output_type": "execute_result"
    }
   ],
   "source": [
    "import pandas as pd\n",
    "\n",
    "# Load the CSV file to examine its contents\n",
    "file_path = '../commerce/E-commerce.csv'\n",
    "df = pd.read_csv(file_path)\n",
    "\n",
    "# Display the first few rows of the dataframe to understand its structure\n",
    "df.head()\n"
   ]
  },
  {
   "cell_type": "markdown",
   "metadata": {},
   "source": [
    "# Tratamento dos dados"
   ]
  },
  {
   "cell_type": "code",
   "execution_count": 2,
   "metadata": {},
   "outputs": [
    {
     "data": {
      "text/html": [
       "<div>\n",
       "<style scoped>\n",
       "    .dataframe tbody tr th:only-of-type {\n",
       "        vertical-align: middle;\n",
       "    }\n",
       "\n",
       "    .dataframe tbody tr th {\n",
       "        vertical-align: top;\n",
       "    }\n",
       "\n",
       "    .dataframe thead th {\n",
       "        text-align: right;\n",
       "    }\n",
       "</style>\n",
       "<table border=\"1\" class=\"dataframe\">\n",
       "  <thead>\n",
       "    <tr style=\"text-align: right;\">\n",
       "      <th></th>\n",
       "      <th>ID do Cliente</th>\n",
       "      <th>Data</th>\n",
       "      <th>Categoria</th>\n",
       "      <th>Preço</th>\n",
       "      <th>Tempo no Site</th>\n",
       "      <th>Renda Anual</th>\n",
       "      <th>Idade</th>\n",
       "    </tr>\n",
       "  </thead>\n",
       "  <tbody>\n",
       "    <tr>\n",
       "      <th>0</th>\n",
       "      <td>1001</td>\n",
       "      <td>2022-03-05</td>\n",
       "      <td>Clothing</td>\n",
       "      <td>34.99</td>\n",
       "      <td>32.50</td>\n",
       "      <td>45000</td>\n",
       "      <td>25</td>\n",
       "    </tr>\n",
       "    <tr>\n",
       "      <th>1</th>\n",
       "      <td>1001</td>\n",
       "      <td>2022-02-12</td>\n",
       "      <td>Electronics</td>\n",
       "      <td>129.99</td>\n",
       "      <td>32.50</td>\n",
       "      <td>45000</td>\n",
       "      <td>25</td>\n",
       "    </tr>\n",
       "    <tr>\n",
       "      <th>2</th>\n",
       "      <td>1001</td>\n",
       "      <td>2022-01-20</td>\n",
       "      <td>Home &amp; Garden</td>\n",
       "      <td>29.99</td>\n",
       "      <td>32.50</td>\n",
       "      <td>45000</td>\n",
       "      <td>25</td>\n",
       "    </tr>\n",
       "    <tr>\n",
       "      <th>3</th>\n",
       "      <td>1001</td>\n",
       "      <td>2022-05-15</td>\n",
       "      <td>Clothing</td>\n",
       "      <td>34.56</td>\n",
       "      <td>123.45</td>\n",
       "      <td>52000</td>\n",
       "      <td>28</td>\n",
       "    </tr>\n",
       "    <tr>\n",
       "      <th>4</th>\n",
       "      <td>1001</td>\n",
       "      <td>2022-06-02</td>\n",
       "      <td>Electronics</td>\n",
       "      <td>150.99</td>\n",
       "      <td>123.45</td>\n",
       "      <td>52000</td>\n",
       "      <td>28</td>\n",
       "    </tr>\n",
       "    <tr>\n",
       "      <th>5</th>\n",
       "      <td>1001</td>\n",
       "      <td>2022-08-15</td>\n",
       "      <td>Electronics</td>\n",
       "      <td>345.50</td>\n",
       "      <td>125.60</td>\n",
       "      <td>65000</td>\n",
       "      <td>28</td>\n",
       "    </tr>\n",
       "    <tr>\n",
       "      <th>6</th>\n",
       "      <td>1001</td>\n",
       "      <td>2022-07-02</td>\n",
       "      <td>Home &amp; Garden</td>\n",
       "      <td>279.99</td>\n",
       "      <td>125.60</td>\n",
       "      <td>65000</td>\n",
       "      <td>28</td>\n",
       "    </tr>\n",
       "    <tr>\n",
       "      <th>7</th>\n",
       "      <td>1001</td>\n",
       "      <td>2022-09-15</td>\n",
       "      <td>Clothing</td>\n",
       "      <td>34.50</td>\n",
       "      <td>120.50</td>\n",
       "      <td>45000</td>\n",
       "      <td>24</td>\n",
       "    </tr>\n",
       "    <tr>\n",
       "      <th>8</th>\n",
       "      <td>1001</td>\n",
       "      <td>2022-08-15</td>\n",
       "      <td>Clothing</td>\n",
       "      <td>45.23</td>\n",
       "      <td>72.30</td>\n",
       "      <td>65000</td>\n",
       "      <td>32</td>\n",
       "    </tr>\n",
       "    <tr>\n",
       "      <th>9</th>\n",
       "      <td>1001</td>\n",
       "      <td>2022-07-20</td>\n",
       "      <td>Electronics</td>\n",
       "      <td>250.34</td>\n",
       "      <td>72.30</td>\n",
       "      <td>65000</td>\n",
       "      <td>32</td>\n",
       "    </tr>\n",
       "    <tr>\n",
       "      <th>10</th>\n",
       "      <td>1001</td>\n",
       "      <td>2022-03-15</td>\n",
       "      <td>Electronics</td>\n",
       "      <td>250.50</td>\n",
       "      <td>123.60</td>\n",
       "      <td>60000</td>\n",
       "      <td>35</td>\n",
       "    </tr>\n",
       "    <tr>\n",
       "      <th>11</th>\n",
       "      <td>1001</td>\n",
       "      <td>2022-02-01</td>\n",
       "      <td>Clothing</td>\n",
       "      <td>125.80</td>\n",
       "      <td>123.60</td>\n",
       "      <td>60000</td>\n",
       "      <td>35</td>\n",
       "    </tr>\n",
       "    <tr>\n",
       "      <th>12</th>\n",
       "      <td>1002</td>\n",
       "      <td>2022-02-20</td>\n",
       "      <td>Clothing</td>\n",
       "      <td>150.20</td>\n",
       "      <td>246.90</td>\n",
       "      <td>75000</td>\n",
       "      <td>42</td>\n",
       "    </tr>\n",
       "    <tr>\n",
       "      <th>13</th>\n",
       "      <td>1002</td>\n",
       "      <td>2022-01-12</td>\n",
       "      <td>Home &amp; Garden</td>\n",
       "      <td>450.00</td>\n",
       "      <td>246.90</td>\n",
       "      <td>75000</td>\n",
       "      <td>42</td>\n",
       "    </tr>\n",
       "    <tr>\n",
       "      <th>14</th>\n",
       "      <td>1001</td>\n",
       "      <td>2022-03-15</td>\n",
       "      <td>Electronics</td>\n",
       "      <td>249.99</td>\n",
       "      <td>75.20</td>\n",
       "      <td>55000</td>\n",
       "      <td>32</td>\n",
       "    </tr>\n",
       "    <tr>\n",
       "      <th>15</th>\n",
       "      <td>1001</td>\n",
       "      <td>2022-06-12</td>\n",
       "      <td>Clothing</td>\n",
       "      <td>45.99</td>\n",
       "      <td>120.50</td>\n",
       "      <td>65000</td>\n",
       "      <td>28</td>\n",
       "    </tr>\n",
       "    <tr>\n",
       "      <th>16</th>\n",
       "      <td>1001</td>\n",
       "      <td>2022-05-08</td>\n",
       "      <td>Electronics</td>\n",
       "      <td>199.99</td>\n",
       "      <td>120.50</td>\n",
       "      <td>65000</td>\n",
       "      <td>28</td>\n",
       "    </tr>\n",
       "    <tr>\n",
       "      <th>17</th>\n",
       "      <td>1002</td>\n",
       "      <td>2022-07-03</td>\n",
       "      <td>Electronics</td>\n",
       "      <td>249.99</td>\n",
       "      <td>250.00</td>\n",
       "      <td>80000</td>\n",
       "      <td>42</td>\n",
       "    </tr>\n",
       "    <tr>\n",
       "      <th>18</th>\n",
       "      <td>1002</td>\n",
       "      <td>2022-06-17</td>\n",
       "      <td>Home &amp; Garden</td>\n",
       "      <td>129.99</td>\n",
       "      <td>250.00</td>\n",
       "      <td>80000</td>\n",
       "      <td>42</td>\n",
       "    </tr>\n",
       "    <tr>\n",
       "      <th>19</th>\n",
       "      <td>1003</td>\n",
       "      <td>2022-06-22</td>\n",
       "      <td>Clothing</td>\n",
       "      <td>34.99</td>\n",
       "      <td>75.00</td>\n",
       "      <td>50000</td>\n",
       "      <td>35</td>\n",
       "    </tr>\n",
       "    <tr>\n",
       "      <th>20</th>\n",
       "      <td>1003</td>\n",
       "      <td>2022-05-15</td>\n",
       "      <td>Electronics</td>\n",
       "      <td>149.99</td>\n",
       "      <td>75.00</td>\n",
       "      <td>50000</td>\n",
       "      <td>35</td>\n",
       "    </tr>\n",
       "    <tr>\n",
       "      <th>21</th>\n",
       "      <td>1004</td>\n",
       "      <td>2022-07-08</td>\n",
       "      <td>Clothing</td>\n",
       "      <td>79.99</td>\n",
       "      <td>300.00</td>\n",
       "      <td>100000</td>\n",
       "      <td>52</td>\n",
       "    </tr>\n",
       "    <tr>\n",
       "      <th>22</th>\n",
       "      <td>1004</td>\n",
       "      <td>2022-06-24</td>\n",
       "      <td>Home &amp; Garden</td>\n",
       "      <td>399.99</td>\n",
       "      <td>300.00</td>\n",
       "      <td>100000</td>\n",
       "      <td>52</td>\n",
       "    </tr>\n",
       "    <tr>\n",
       "      <th>23</th>\n",
       "      <td>1005</td>\n",
       "      <td>2022-06-01</td>\n",
       "      <td>Electronics</td>\n",
       "      <td>129.99</td>\n",
       "      <td>100.00</td>\n",
       "      <td>45000</td>\n",
       "      <td>24</td>\n",
       "    </tr>\n",
       "    <tr>\n",
       "      <th>24</th>\n",
       "      <td>1005</td>\n",
       "      <td>2022-05-18</td>\n",
       "      <td>Home &amp; Garden</td>\n",
       "      <td>59.99</td>\n",
       "      <td>100.00</td>\n",
       "      <td>45000</td>\n",
       "      <td>24</td>\n",
       "    </tr>\n",
       "    <tr>\n",
       "      <th>25</th>\n",
       "      <td>1001</td>\n",
       "      <td>2022-07-02</td>\n",
       "      <td>Clothing</td>\n",
       "      <td>25.60</td>\n",
       "      <td>120.00</td>\n",
       "      <td>55000</td>\n",
       "      <td>34</td>\n",
       "    </tr>\n",
       "    <tr>\n",
       "      <th>26</th>\n",
       "      <td>1001</td>\n",
       "      <td>2022-06-15</td>\n",
       "      <td>Electronics</td>\n",
       "      <td>120.00</td>\n",
       "      <td>120.00</td>\n",
       "      <td>55000</td>\n",
       "      <td>34</td>\n",
       "    </tr>\n",
       "    <tr>\n",
       "      <th>27</th>\n",
       "      <td>1001</td>\n",
       "      <td>2022-05-10</td>\n",
       "      <td>Home &amp; Garden</td>\n",
       "      <td>35.00</td>\n",
       "      <td>120.00</td>\n",
       "      <td>55000</td>\n",
       "      <td>34</td>\n",
       "    </tr>\n",
       "    <tr>\n",
       "      <th>28</th>\n",
       "      <td>1002</td>\n",
       "      <td>2022-07-08</td>\n",
       "      <td>Electronics</td>\n",
       "      <td>420.00</td>\n",
       "      <td>350.00</td>\n",
       "      <td>87000</td>\n",
       "      <td>45</td>\n",
       "    </tr>\n",
       "    <tr>\n",
       "      <th>29</th>\n",
       "      <td>1002</td>\n",
       "      <td>2022-06-23</td>\n",
       "      <td>Clothing</td>\n",
       "      <td>75.00</td>\n",
       "      <td>350.00</td>\n",
       "      <td>87000</td>\n",
       "      <td>45</td>\n",
       "    </tr>\n",
       "    <tr>\n",
       "      <th>30</th>\n",
       "      <td>1002</td>\n",
       "      <td>2022-05-12</td>\n",
       "      <td>Home &amp; Garden</td>\n",
       "      <td>200.00</td>\n",
       "      <td>350.00</td>\n",
       "      <td>87000</td>\n",
       "      <td>45</td>\n",
       "    </tr>\n",
       "    <tr>\n",
       "      <th>31</th>\n",
       "      <td>1003</td>\n",
       "      <td>2022-07-01</td>\n",
       "      <td>Electronics</td>\n",
       "      <td>180.00</td>\n",
       "      <td>200.00</td>\n",
       "      <td>42000</td>\n",
       "      <td>29</td>\n",
       "    </tr>\n",
       "    <tr>\n",
       "      <th>32</th>\n",
       "      <td>1003</td>\n",
       "      <td>2022-06-18</td>\n",
       "      <td>Clothing</td>\n",
       "      <td>50.00</td>\n",
       "      <td>200.00</td>\n",
       "      <td>42000</td>\n",
       "      <td>29</td>\n",
       "    </tr>\n",
       "    <tr>\n",
       "      <th>33</th>\n",
       "      <td>1003</td>\n",
       "      <td>2022-05-09</td>\n",
       "      <td>Home &amp; Garden</td>\n",
       "      <td>30.00</td>\n",
       "      <td>200.00</td>\n",
       "      <td>42000</td>\n",
       "      <td>29</td>\n",
       "    </tr>\n",
       "  </tbody>\n",
       "</table>\n",
       "</div>"
      ],
      "text/plain": [
       "    ID do Cliente       Data      Categoria   Preço  Tempo no Site  \\\n",
       "0            1001 2022-03-05       Clothing   34.99          32.50   \n",
       "1            1001 2022-02-12    Electronics  129.99          32.50   \n",
       "2            1001 2022-01-20  Home & Garden   29.99          32.50   \n",
       "3            1001 2022-05-15       Clothing   34.56         123.45   \n",
       "4            1001 2022-06-02    Electronics  150.99         123.45   \n",
       "5            1001 2022-08-15    Electronics  345.50         125.60   \n",
       "6            1001 2022-07-02  Home & Garden  279.99         125.60   \n",
       "7            1001 2022-09-15       Clothing   34.50         120.50   \n",
       "8            1001 2022-08-15       Clothing   45.23          72.30   \n",
       "9            1001 2022-07-20    Electronics  250.34          72.30   \n",
       "10           1001 2022-03-15    Electronics  250.50         123.60   \n",
       "11           1001 2022-02-01       Clothing  125.80         123.60   \n",
       "12           1002 2022-02-20       Clothing  150.20         246.90   \n",
       "13           1002 2022-01-12  Home & Garden  450.00         246.90   \n",
       "14           1001 2022-03-15    Electronics  249.99          75.20   \n",
       "15           1001 2022-06-12       Clothing   45.99         120.50   \n",
       "16           1001 2022-05-08    Electronics  199.99         120.50   \n",
       "17           1002 2022-07-03    Electronics  249.99         250.00   \n",
       "18           1002 2022-06-17  Home & Garden  129.99         250.00   \n",
       "19           1003 2022-06-22       Clothing   34.99          75.00   \n",
       "20           1003 2022-05-15    Electronics  149.99          75.00   \n",
       "21           1004 2022-07-08       Clothing   79.99         300.00   \n",
       "22           1004 2022-06-24  Home & Garden  399.99         300.00   \n",
       "23           1005 2022-06-01    Electronics  129.99         100.00   \n",
       "24           1005 2022-05-18  Home & Garden   59.99         100.00   \n",
       "25           1001 2022-07-02       Clothing   25.60         120.00   \n",
       "26           1001 2022-06-15    Electronics  120.00         120.00   \n",
       "27           1001 2022-05-10  Home & Garden   35.00         120.00   \n",
       "28           1002 2022-07-08    Electronics  420.00         350.00   \n",
       "29           1002 2022-06-23       Clothing   75.00         350.00   \n",
       "30           1002 2022-05-12  Home & Garden  200.00         350.00   \n",
       "31           1003 2022-07-01    Electronics  180.00         200.00   \n",
       "32           1003 2022-06-18       Clothing   50.00         200.00   \n",
       "33           1003 2022-05-09  Home & Garden   30.00         200.00   \n",
       "\n",
       "    Renda Anual  Idade  \n",
       "0         45000     25  \n",
       "1         45000     25  \n",
       "2         45000     25  \n",
       "3         52000     28  \n",
       "4         52000     28  \n",
       "5         65000     28  \n",
       "6         65000     28  \n",
       "7         45000     24  \n",
       "8         65000     32  \n",
       "9         65000     32  \n",
       "10        60000     35  \n",
       "11        60000     35  \n",
       "12        75000     42  \n",
       "13        75000     42  \n",
       "14        55000     32  \n",
       "15        65000     28  \n",
       "16        65000     28  \n",
       "17        80000     42  \n",
       "18        80000     42  \n",
       "19        50000     35  \n",
       "20        50000     35  \n",
       "21       100000     52  \n",
       "22       100000     52  \n",
       "23        45000     24  \n",
       "24        45000     24  \n",
       "25        55000     34  \n",
       "26        55000     34  \n",
       "27        55000     34  \n",
       "28        87000     45  \n",
       "29        87000     45  \n",
       "30        87000     45  \n",
       "31        42000     29  \n",
       "32        42000     29  \n",
       "33        42000     29  "
      ]
     },
     "execution_count": 2,
     "metadata": {},
     "output_type": "execute_result"
    }
   ],
   "source": [
    "import pandas as pd\n",
    "import ast\n",
    "\n",
    "# Função para analisar strings em objetos Python (se possível)\n",
    "def parse_history(history):\n",
    "    try:\n",
    "        return ast.literal_eval(history)\n",
    "    except (ValueError, SyntaxError):\n",
    "        return None\n",
    "\n",
    "# Carregar o arquivo CSV\n",
    "file_path = '../commerce/E-commerce.csv'\n",
    "df = pd.read_csv(file_path)\n",
    "\n",
    "# Analisar as colunas 'Purchase History' e 'Browsing History' para convertê-las em listas/dicionários Python\n",
    "df['Purchase History'] = df['Purchase History'].apply(parse_history)\n",
    "df['Browsing History'] = df['Browsing History'].apply(parse_history)\n",
    "\n",
    "# Extrair informações relevantes para análise\n",
    "# Para 'Purchase History': Extrair Data, Categoria e Preço (se disponível)\n",
    "purchase_expanded = []\n",
    "for index, row in df.iterrows():\n",
    "    customer_id = row['Customer ID']\n",
    "    purchase_history = row['Purchase History']\n",
    "    time_on_site = row['Time on Site']\n",
    "    annual_income = row['Annual Income']\n",
    "    age = row['Age']\n",
    "    if isinstance(purchase_history, list):\n",
    "        for purchase in purchase_history:\n",
    "            date = purchase.get('Date') or purchase.get('Purchase Date')\n",
    "            category = purchase.get('Category') or purchase.get('Product Category')\n",
    "            price = purchase.get('Price', None)\n",
    "            purchase_expanded.append((customer_id, date, category, price, time_on_site, annual_income, age))\n",
    "\n",
    "# Criar um novo DataFrame para 'Purchase History'\n",
    "purchase_df = pd.DataFrame(purchase_expanded, columns=['Customer ID', 'Date', 'Category', 'Price', 'Time on Site', 'Annual Income', 'Age'])\n",
    "\n",
    "# Converter 'Date' para datetime para análise baseada no tempo\n",
    "purchase_df['Date'] = pd.to_datetime(purchase_df['Date'], errors='coerce')\n",
    "\n",
    "# Atualizar os nomes das colunas para o português\n",
    "purchase_df.rename(columns={\n",
    "    'Customer ID': 'ID do Cliente',\n",
    "    'Date': 'Data',\n",
    "    'Category': 'Categoria',\n",
    "    'Price': 'Preço',\n",
    "    'Time on Site': 'Tempo no Site',\n",
    "    'Annual Income': 'Renda Anual',\n",
    "    'Age': 'Idade'\n",
    "}, inplace=True)\n",
    "\n",
    "# Exibir o DataFrame atualizado\n",
    "purchase_df"
   ]
  },
  {
   "cell_type": "code",
   "execution_count": 6,
   "metadata": {},
   "outputs": [
    {
     "data": {
      "text/html": [
       "<div>\n",
       "<style scoped>\n",
       "    .dataframe tbody tr th:only-of-type {\n",
       "        vertical-align: middle;\n",
       "    }\n",
       "\n",
       "    .dataframe tbody tr th {\n",
       "        vertical-align: top;\n",
       "    }\n",
       "\n",
       "    .dataframe thead th {\n",
       "        text-align: right;\n",
       "    }\n",
       "</style>\n",
       "<table border=\"1\" class=\"dataframe\">\n",
       "  <thead>\n",
       "    <tr style=\"text-align: right;\">\n",
       "      <th></th>\n",
       "      <th>ID do Cliente</th>\n",
       "      <th>Data</th>\n",
       "      <th>Categoria</th>\n",
       "      <th>Preço</th>\n",
       "      <th>Tempo no Site</th>\n",
       "      <th>Renda Anual</th>\n",
       "      <th>Idade</th>\n",
       "      <th>Sucesso</th>\n",
       "    </tr>\n",
       "  </thead>\n",
       "  <tbody>\n",
       "    <tr>\n",
       "      <th>0</th>\n",
       "      <td>1001</td>\n",
       "      <td>2022-03-05</td>\n",
       "      <td>Clothing</td>\n",
       "      <td>34.99</td>\n",
       "      <td>32.50</td>\n",
       "      <td>45000</td>\n",
       "      <td>25</td>\n",
       "      <td>False</td>\n",
       "    </tr>\n",
       "    <tr>\n",
       "      <th>1</th>\n",
       "      <td>1001</td>\n",
       "      <td>2022-02-12</td>\n",
       "      <td>Electronics</td>\n",
       "      <td>129.99</td>\n",
       "      <td>32.50</td>\n",
       "      <td>45000</td>\n",
       "      <td>25</td>\n",
       "      <td>False</td>\n",
       "    </tr>\n",
       "    <tr>\n",
       "      <th>2</th>\n",
       "      <td>1001</td>\n",
       "      <td>2022-01-20</td>\n",
       "      <td>Home &amp; Garden</td>\n",
       "      <td>29.99</td>\n",
       "      <td>32.50</td>\n",
       "      <td>45000</td>\n",
       "      <td>25</td>\n",
       "      <td>False</td>\n",
       "    </tr>\n",
       "    <tr>\n",
       "      <th>3</th>\n",
       "      <td>1001</td>\n",
       "      <td>2022-05-15</td>\n",
       "      <td>Clothing</td>\n",
       "      <td>34.56</td>\n",
       "      <td>123.45</td>\n",
       "      <td>52000</td>\n",
       "      <td>28</td>\n",
       "      <td>True</td>\n",
       "    </tr>\n",
       "    <tr>\n",
       "      <th>4</th>\n",
       "      <td>1001</td>\n",
       "      <td>2022-06-02</td>\n",
       "      <td>Electronics</td>\n",
       "      <td>150.99</td>\n",
       "      <td>123.45</td>\n",
       "      <td>52000</td>\n",
       "      <td>28</td>\n",
       "      <td>True</td>\n",
       "    </tr>\n",
       "    <tr>\n",
       "      <th>5</th>\n",
       "      <td>1001</td>\n",
       "      <td>2022-08-15</td>\n",
       "      <td>Electronics</td>\n",
       "      <td>345.50</td>\n",
       "      <td>125.60</td>\n",
       "      <td>65000</td>\n",
       "      <td>28</td>\n",
       "      <td>True</td>\n",
       "    </tr>\n",
       "    <tr>\n",
       "      <th>6</th>\n",
       "      <td>1001</td>\n",
       "      <td>2022-07-02</td>\n",
       "      <td>Home &amp; Garden</td>\n",
       "      <td>279.99</td>\n",
       "      <td>125.60</td>\n",
       "      <td>65000</td>\n",
       "      <td>28</td>\n",
       "      <td>True</td>\n",
       "    </tr>\n",
       "    <tr>\n",
       "      <th>7</th>\n",
       "      <td>1001</td>\n",
       "      <td>2022-09-15</td>\n",
       "      <td>Clothing</td>\n",
       "      <td>34.50</td>\n",
       "      <td>120.50</td>\n",
       "      <td>45000</td>\n",
       "      <td>24</td>\n",
       "      <td>False</td>\n",
       "    </tr>\n",
       "    <tr>\n",
       "      <th>8</th>\n",
       "      <td>1001</td>\n",
       "      <td>2022-08-15</td>\n",
       "      <td>Clothing</td>\n",
       "      <td>45.23</td>\n",
       "      <td>72.30</td>\n",
       "      <td>65000</td>\n",
       "      <td>32</td>\n",
       "      <td>True</td>\n",
       "    </tr>\n",
       "    <tr>\n",
       "      <th>9</th>\n",
       "      <td>1001</td>\n",
       "      <td>2022-07-20</td>\n",
       "      <td>Electronics</td>\n",
       "      <td>250.34</td>\n",
       "      <td>72.30</td>\n",
       "      <td>65000</td>\n",
       "      <td>32</td>\n",
       "      <td>True</td>\n",
       "    </tr>\n",
       "    <tr>\n",
       "      <th>10</th>\n",
       "      <td>1001</td>\n",
       "      <td>2022-03-15</td>\n",
       "      <td>Electronics</td>\n",
       "      <td>250.50</td>\n",
       "      <td>123.60</td>\n",
       "      <td>60000</td>\n",
       "      <td>35</td>\n",
       "      <td>True</td>\n",
       "    </tr>\n",
       "    <tr>\n",
       "      <th>11</th>\n",
       "      <td>1001</td>\n",
       "      <td>2022-02-01</td>\n",
       "      <td>Clothing</td>\n",
       "      <td>125.80</td>\n",
       "      <td>123.60</td>\n",
       "      <td>60000</td>\n",
       "      <td>35</td>\n",
       "      <td>True</td>\n",
       "    </tr>\n",
       "    <tr>\n",
       "      <th>12</th>\n",
       "      <td>1002</td>\n",
       "      <td>2022-02-20</td>\n",
       "      <td>Clothing</td>\n",
       "      <td>150.20</td>\n",
       "      <td>246.90</td>\n",
       "      <td>75000</td>\n",
       "      <td>42</td>\n",
       "      <td>True</td>\n",
       "    </tr>\n",
       "    <tr>\n",
       "      <th>13</th>\n",
       "      <td>1002</td>\n",
       "      <td>2022-01-12</td>\n",
       "      <td>Home &amp; Garden</td>\n",
       "      <td>450.00</td>\n",
       "      <td>246.90</td>\n",
       "      <td>75000</td>\n",
       "      <td>42</td>\n",
       "      <td>True</td>\n",
       "    </tr>\n",
       "    <tr>\n",
       "      <th>14</th>\n",
       "      <td>1001</td>\n",
       "      <td>2022-03-15</td>\n",
       "      <td>Electronics</td>\n",
       "      <td>249.99</td>\n",
       "      <td>75.20</td>\n",
       "      <td>55000</td>\n",
       "      <td>32</td>\n",
       "      <td>True</td>\n",
       "    </tr>\n",
       "    <tr>\n",
       "      <th>15</th>\n",
       "      <td>1001</td>\n",
       "      <td>2022-06-12</td>\n",
       "      <td>Clothing</td>\n",
       "      <td>45.99</td>\n",
       "      <td>120.50</td>\n",
       "      <td>65000</td>\n",
       "      <td>28</td>\n",
       "      <td>True</td>\n",
       "    </tr>\n",
       "    <tr>\n",
       "      <th>16</th>\n",
       "      <td>1001</td>\n",
       "      <td>2022-05-08</td>\n",
       "      <td>Electronics</td>\n",
       "      <td>199.99</td>\n",
       "      <td>120.50</td>\n",
       "      <td>65000</td>\n",
       "      <td>28</td>\n",
       "      <td>True</td>\n",
       "    </tr>\n",
       "    <tr>\n",
       "      <th>17</th>\n",
       "      <td>1002</td>\n",
       "      <td>2022-07-03</td>\n",
       "      <td>Electronics</td>\n",
       "      <td>249.99</td>\n",
       "      <td>250.00</td>\n",
       "      <td>80000</td>\n",
       "      <td>42</td>\n",
       "      <td>True</td>\n",
       "    </tr>\n",
       "    <tr>\n",
       "      <th>18</th>\n",
       "      <td>1002</td>\n",
       "      <td>2022-06-17</td>\n",
       "      <td>Home &amp; Garden</td>\n",
       "      <td>129.99</td>\n",
       "      <td>250.00</td>\n",
       "      <td>80000</td>\n",
       "      <td>42</td>\n",
       "      <td>True</td>\n",
       "    </tr>\n",
       "    <tr>\n",
       "      <th>19</th>\n",
       "      <td>1003</td>\n",
       "      <td>2022-06-22</td>\n",
       "      <td>Clothing</td>\n",
       "      <td>34.99</td>\n",
       "      <td>75.00</td>\n",
       "      <td>50000</td>\n",
       "      <td>35</td>\n",
       "      <td>True</td>\n",
       "    </tr>\n",
       "    <tr>\n",
       "      <th>20</th>\n",
       "      <td>1003</td>\n",
       "      <td>2022-05-15</td>\n",
       "      <td>Electronics</td>\n",
       "      <td>149.99</td>\n",
       "      <td>75.00</td>\n",
       "      <td>50000</td>\n",
       "      <td>35</td>\n",
       "      <td>True</td>\n",
       "    </tr>\n",
       "    <tr>\n",
       "      <th>21</th>\n",
       "      <td>1004</td>\n",
       "      <td>2022-07-08</td>\n",
       "      <td>Clothing</td>\n",
       "      <td>79.99</td>\n",
       "      <td>300.00</td>\n",
       "      <td>100000</td>\n",
       "      <td>52</td>\n",
       "      <td>True</td>\n",
       "    </tr>\n",
       "    <tr>\n",
       "      <th>22</th>\n",
       "      <td>1004</td>\n",
       "      <td>2022-06-24</td>\n",
       "      <td>Home &amp; Garden</td>\n",
       "      <td>399.99</td>\n",
       "      <td>300.00</td>\n",
       "      <td>100000</td>\n",
       "      <td>52</td>\n",
       "      <td>True</td>\n",
       "    </tr>\n",
       "    <tr>\n",
       "      <th>23</th>\n",
       "      <td>1005</td>\n",
       "      <td>2022-06-01</td>\n",
       "      <td>Electronics</td>\n",
       "      <td>129.99</td>\n",
       "      <td>100.00</td>\n",
       "      <td>45000</td>\n",
       "      <td>24</td>\n",
       "      <td>False</td>\n",
       "    </tr>\n",
       "    <tr>\n",
       "      <th>24</th>\n",
       "      <td>1005</td>\n",
       "      <td>2022-05-18</td>\n",
       "      <td>Home &amp; Garden</td>\n",
       "      <td>59.99</td>\n",
       "      <td>100.00</td>\n",
       "      <td>45000</td>\n",
       "      <td>24</td>\n",
       "      <td>False</td>\n",
       "    </tr>\n",
       "    <tr>\n",
       "      <th>25</th>\n",
       "      <td>1001</td>\n",
       "      <td>2022-07-02</td>\n",
       "      <td>Clothing</td>\n",
       "      <td>25.60</td>\n",
       "      <td>120.00</td>\n",
       "      <td>55000</td>\n",
       "      <td>34</td>\n",
       "      <td>True</td>\n",
       "    </tr>\n",
       "    <tr>\n",
       "      <th>26</th>\n",
       "      <td>1001</td>\n",
       "      <td>2022-06-15</td>\n",
       "      <td>Electronics</td>\n",
       "      <td>120.00</td>\n",
       "      <td>120.00</td>\n",
       "      <td>55000</td>\n",
       "      <td>34</td>\n",
       "      <td>True</td>\n",
       "    </tr>\n",
       "    <tr>\n",
       "      <th>27</th>\n",
       "      <td>1001</td>\n",
       "      <td>2022-05-10</td>\n",
       "      <td>Home &amp; Garden</td>\n",
       "      <td>35.00</td>\n",
       "      <td>120.00</td>\n",
       "      <td>55000</td>\n",
       "      <td>34</td>\n",
       "      <td>True</td>\n",
       "    </tr>\n",
       "    <tr>\n",
       "      <th>28</th>\n",
       "      <td>1002</td>\n",
       "      <td>2022-07-08</td>\n",
       "      <td>Electronics</td>\n",
       "      <td>420.00</td>\n",
       "      <td>350.00</td>\n",
       "      <td>87000</td>\n",
       "      <td>45</td>\n",
       "      <td>True</td>\n",
       "    </tr>\n",
       "    <tr>\n",
       "      <th>29</th>\n",
       "      <td>1002</td>\n",
       "      <td>2022-06-23</td>\n",
       "      <td>Clothing</td>\n",
       "      <td>75.00</td>\n",
       "      <td>350.00</td>\n",
       "      <td>87000</td>\n",
       "      <td>45</td>\n",
       "      <td>True</td>\n",
       "    </tr>\n",
       "    <tr>\n",
       "      <th>30</th>\n",
       "      <td>1002</td>\n",
       "      <td>2022-05-12</td>\n",
       "      <td>Home &amp; Garden</td>\n",
       "      <td>200.00</td>\n",
       "      <td>350.00</td>\n",
       "      <td>87000</td>\n",
       "      <td>45</td>\n",
       "      <td>True</td>\n",
       "    </tr>\n",
       "    <tr>\n",
       "      <th>31</th>\n",
       "      <td>1003</td>\n",
       "      <td>2022-07-01</td>\n",
       "      <td>Electronics</td>\n",
       "      <td>180.00</td>\n",
       "      <td>200.00</td>\n",
       "      <td>42000</td>\n",
       "      <td>29</td>\n",
       "      <td>False</td>\n",
       "    </tr>\n",
       "    <tr>\n",
       "      <th>32</th>\n",
       "      <td>1003</td>\n",
       "      <td>2022-06-18</td>\n",
       "      <td>Clothing</td>\n",
       "      <td>50.00</td>\n",
       "      <td>200.00</td>\n",
       "      <td>42000</td>\n",
       "      <td>29</td>\n",
       "      <td>False</td>\n",
       "    </tr>\n",
       "    <tr>\n",
       "      <th>33</th>\n",
       "      <td>1003</td>\n",
       "      <td>2022-05-09</td>\n",
       "      <td>Home &amp; Garden</td>\n",
       "      <td>30.00</td>\n",
       "      <td>200.00</td>\n",
       "      <td>42000</td>\n",
       "      <td>29</td>\n",
       "      <td>False</td>\n",
       "    </tr>\n",
       "  </tbody>\n",
       "</table>\n",
       "</div>"
      ],
      "text/plain": [
       "    ID do Cliente       Data      Categoria   Preço  Tempo no Site  \\\n",
       "0            1001 2022-03-05       Clothing   34.99          32.50   \n",
       "1            1001 2022-02-12    Electronics  129.99          32.50   \n",
       "2            1001 2022-01-20  Home & Garden   29.99          32.50   \n",
       "3            1001 2022-05-15       Clothing   34.56         123.45   \n",
       "4            1001 2022-06-02    Electronics  150.99         123.45   \n",
       "5            1001 2022-08-15    Electronics  345.50         125.60   \n",
       "6            1001 2022-07-02  Home & Garden  279.99         125.60   \n",
       "7            1001 2022-09-15       Clothing   34.50         120.50   \n",
       "8            1001 2022-08-15       Clothing   45.23          72.30   \n",
       "9            1001 2022-07-20    Electronics  250.34          72.30   \n",
       "10           1001 2022-03-15    Electronics  250.50         123.60   \n",
       "11           1001 2022-02-01       Clothing  125.80         123.60   \n",
       "12           1002 2022-02-20       Clothing  150.20         246.90   \n",
       "13           1002 2022-01-12  Home & Garden  450.00         246.90   \n",
       "14           1001 2022-03-15    Electronics  249.99          75.20   \n",
       "15           1001 2022-06-12       Clothing   45.99         120.50   \n",
       "16           1001 2022-05-08    Electronics  199.99         120.50   \n",
       "17           1002 2022-07-03    Electronics  249.99         250.00   \n",
       "18           1002 2022-06-17  Home & Garden  129.99         250.00   \n",
       "19           1003 2022-06-22       Clothing   34.99          75.00   \n",
       "20           1003 2022-05-15    Electronics  149.99          75.00   \n",
       "21           1004 2022-07-08       Clothing   79.99         300.00   \n",
       "22           1004 2022-06-24  Home & Garden  399.99         300.00   \n",
       "23           1005 2022-06-01    Electronics  129.99         100.00   \n",
       "24           1005 2022-05-18  Home & Garden   59.99         100.00   \n",
       "25           1001 2022-07-02       Clothing   25.60         120.00   \n",
       "26           1001 2022-06-15    Electronics  120.00         120.00   \n",
       "27           1001 2022-05-10  Home & Garden   35.00         120.00   \n",
       "28           1002 2022-07-08    Electronics  420.00         350.00   \n",
       "29           1002 2022-06-23       Clothing   75.00         350.00   \n",
       "30           1002 2022-05-12  Home & Garden  200.00         350.00   \n",
       "31           1003 2022-07-01    Electronics  180.00         200.00   \n",
       "32           1003 2022-06-18       Clothing   50.00         200.00   \n",
       "33           1003 2022-05-09  Home & Garden   30.00         200.00   \n",
       "\n",
       "    Renda Anual  Idade  Sucesso  \n",
       "0         45000     25    False  \n",
       "1         45000     25    False  \n",
       "2         45000     25    False  \n",
       "3         52000     28     True  \n",
       "4         52000     28     True  \n",
       "5         65000     28     True  \n",
       "6         65000     28     True  \n",
       "7         45000     24    False  \n",
       "8         65000     32     True  \n",
       "9         65000     32     True  \n",
       "10        60000     35     True  \n",
       "11        60000     35     True  \n",
       "12        75000     42     True  \n",
       "13        75000     42     True  \n",
       "14        55000     32     True  \n",
       "15        65000     28     True  \n",
       "16        65000     28     True  \n",
       "17        80000     42     True  \n",
       "18        80000     42     True  \n",
       "19        50000     35     True  \n",
       "20        50000     35     True  \n",
       "21       100000     52     True  \n",
       "22       100000     52     True  \n",
       "23        45000     24    False  \n",
       "24        45000     24    False  \n",
       "25        55000     34     True  \n",
       "26        55000     34     True  \n",
       "27        55000     34     True  \n",
       "28        87000     45     True  \n",
       "29        87000     45     True  \n",
       "30        87000     45     True  \n",
       "31        42000     29    False  \n",
       "32        42000     29    False  \n",
       "33        42000     29    False  "
      ]
     },
     "execution_count": 6,
     "metadata": {},
     "output_type": "execute_result"
    }
   ],
   "source": [
    "import pandas as pd\n",
    "import ast\n",
    "\n",
    "# Função para analisar strings em objetos Python (se possível)\n",
    "def parse_history(history):\n",
    "    try:\n",
    "        return ast.literal_eval(history)\n",
    "    except (ValueError, SyntaxError):\n",
    "        return None\n",
    "\n",
    "# Carregar o arquivo CSV\n",
    "file_path = '../commerce/E-commerce.csv'\n",
    "df = pd.read_csv(file_path)\n",
    "\n",
    "# Analisar as colunas 'Purchase History' e 'Browsing History' para convertê-las em listas/dicionários Python\n",
    "df['Purchase History'] = df['Purchase History'].apply(parse_history)\n",
    "df['Browsing History'] = df['Browsing History'].apply(parse_history)\n",
    "\n",
    "# Extrair informações relevantes para análise\n",
    "purchase_expanded = []\n",
    "for index, row in df.iterrows():\n",
    "    customer_id = row['Customer ID']\n",
    "    purchase_history = row['Purchase History']\n",
    "    time_on_site = row['Time on Site']\n",
    "    annual_income = row['Annual Income']\n",
    "    age = row['Age']\n",
    "    \n",
    "    if isinstance(purchase_history, list):\n",
    "        for purchase in purchase_history:\n",
    "            date = purchase.get('Date') or purchase.get('Purchase Date')\n",
    "            category = purchase.get('Category') or purchase.get('Product Category')\n",
    "            price = purchase.get('Price', None)\n",
    "            purchase_expanded.append((customer_id, date, category, price, time_on_site, annual_income, age))\n",
    "\n",
    "# Criar um novo DataFrame para 'Purchase History'\n",
    "purchase_df = pd.DataFrame(purchase_expanded, columns=[\n",
    "    'ID do Cliente', 'Data', 'Categoria', 'Preço', 'Tempo no Site', 'Renda Anual', 'Idade'\n",
    "])\n",
    "\n",
    "# Converter 'Data' para datetime\n",
    "purchase_df['Data'] = pd.to_datetime(purchase_df['Data'], errors='coerce')\n",
    "\n",
    "# Adicionar a coluna 'Sucesso' baseada em 'Renda Anual'\n",
    "purchase_df['Sucesso'] = purchase_df['Renda Anual'] > 48000\n",
    "\n",
    "# Exibir o DataFrame atualizado\n",
    "purchase_df\n"
   ]
  },
  {
   "cell_type": "code",
   "execution_count": 7,
   "metadata": {},
   "outputs": [
    {
     "data": {
      "text/plain": [
       "0.7352941176470589"
      ]
     },
     "execution_count": 7,
     "metadata": {},
     "output_type": "execute_result"
    }
   ],
   "source": [
    "n_sucesso = 25\n",
    "total = 34\n",
    "\n",
    "p = n_sucesso / total\n",
    "p"
   ]
  },
  {
   "cell_type": "code",
   "execution_count": 13,
   "metadata": {},
   "outputs": [],
   "source": [
    "import plotly.express as px\n",
    "import pandas as pd\n",
    "from scipy.stats import binom\n",
    "\n",
    "def gerar_distribuicao_bernoulli(proporcao_sucesso, k):\n",
    "  \"\"\"\n",
    "  Gera a distribuição de Bernoulli para o número de jogos com mais de 2.5 gols em k jogos.\n",
    "\n",
    "  Args:\n",
    "    proporcao_sucesso: A proporção de jogos com mais de 2.5 gols (obtida do proportions_df).\n",
    "    k: O número de jogos.\n",
    "\n",
    "  Returns:\n",
    "    Um DataFrame com a tabela de distribuição e um gráfico da distribuição.\n",
    "  \"\"\"\n",
    "\n",
    "  # Calcula a probabilidade de cada número de jogos com mais de 2.5 gols\n",
    "  probabilidades = [binom.pmf(i, k, proporcao_sucesso) for i in range(k + 1)]\n",
    "\n",
    "  # Cria um DataFrame com a tabela de distribuição\n",
    "  tabela_distribuicao = pd.DataFrame({\n",
    "      'Numero de Jogos com Mais de 2.5 Gols': list(range(k + 1)),\n",
    "      'Probabilidade': probabilidades\n",
    "  })\n",
    "\n",
    "  # Cria um gráfico da distribuição\n",
    "  fig = px.bar(tabela_distribuicao,\n",
    "               x='Numero de Jogos com Mais de 2.5 Gols',\n",
    "               y='Probabilidade',\n",
    "               title=f'Distribuição de Bernoulli para {k} Jogos com Probabilidade de Sucesso {proporcao_sucesso:.2f}')\n",
    "  fig.show()\n",
    "\n",
    "  return tabela_distribuicao\n",
    "\n",
    "\n"
   ]
  },
  {
   "cell_type": "code",
   "execution_count": 16,
   "metadata": {},
   "outputs": [
    {
     "data": {
      "application/vnd.plotly.v1+json": {
       "config": {
        "plotlyServerURL": "https://plot.ly"
       },
       "data": [
        {
         "alignmentgroup": "True",
         "hovertemplate": "Numero de Jogos com Mais de 2.5 Gols=%{x}<br>Probabilidade=%{y}<extra></extra>",
         "legendgroup": "",
         "marker": {
          "color": "#636efa",
          "pattern": {
           "shape": ""
          }
         },
         "name": "",
         "offsetgroup": "",
         "orientation": "v",
         "showlegend": false,
         "textposition": "auto",
         "type": "bar",
         "x": [
          0,
          1,
          2,
          3,
          4,
          5,
          6,
          7,
          8,
          9,
          10,
          11,
          12,
          13,
          14,
          15,
          16,
          17,
          18,
          19,
          20,
          21,
          22,
          23,
          24,
          25,
          26,
          27,
          28,
          29,
          30,
          31,
          32,
          33,
          34,
          35,
          36,
          37,
          38,
          39,
          40,
          41,
          42,
          43,
          44,
          45,
          46,
          47,
          48,
          49,
          50
         ],
         "xaxis": "x",
         "y": [
          1.3746103825646265e-29,
          1.9091810868953162e-27,
          1.2993037952482006e-25,
          5.774683534436423e-24,
          1.8847925424896677e-22,
          4.816692053029157e-21,
          1.0034775110477406e-19,
          1.7521035907182864e-18,
          2.61598800003076e-17,
          3.3910955555954415e-16,
          3.862081049428124e-15,
          3.901091969119344e-14,
          3.5218191387882815e-13,
          2.8595967366229666e-12,
          2.09930712807639e-11,
          1.3995380853842586e-10,
          8.504137671605735e-10,
          4.724520928669866e-9,
          2.406006028489287e-8,
          1.1256168554335804e-7,
          4.846405905339036e-7,
          0.0000019231769465631093,
          0.0000070419357891830925,
          0.00002381330943202022,
          0.00007441659197506314,
          0.00021498126570573833,
          0.0005742020985730186,
          0.0014177829594395508,
          0.003235020641578343,
          0.006817093306007971,
          0.013255459206126622,
          0.02375530323678614,
          0.039179753602338295,
          0.05936326303384589,
          0.08244897643589692,
          0.10469711293447259,
          0.12117721404452854,
          0.12736343818493967,
          0.12103250704709184,
          0.1034465872197368,
          0.07902169857063235,
          0.05353773615896508,
          0.03186770009462208,
          0.01646909565613546,
          0.007278009443999206,
          0.0026955590533330447,
          0.0008138765257648105,
          0.00019240579805314658,
          0.000033403784384226996,
          0.0000037872771410688317,
          2.1040428561493407e-7
         ],
         "yaxis": "y"
        }
       ],
       "layout": {
        "barmode": "relative",
        "legend": {
         "tracegroupgap": 0
        },
        "template": {
         "data": {
          "bar": [
           {
            "error_x": {
             "color": "#2a3f5f"
            },
            "error_y": {
             "color": "#2a3f5f"
            },
            "marker": {
             "line": {
              "color": "#E5ECF6",
              "width": 0.5
             },
             "pattern": {
              "fillmode": "overlay",
              "size": 10,
              "solidity": 0.2
             }
            },
            "type": "bar"
           }
          ],
          "barpolar": [
           {
            "marker": {
             "line": {
              "color": "#E5ECF6",
              "width": 0.5
             },
             "pattern": {
              "fillmode": "overlay",
              "size": 10,
              "solidity": 0.2
             }
            },
            "type": "barpolar"
           }
          ],
          "carpet": [
           {
            "aaxis": {
             "endlinecolor": "#2a3f5f",
             "gridcolor": "white",
             "linecolor": "white",
             "minorgridcolor": "white",
             "startlinecolor": "#2a3f5f"
            },
            "baxis": {
             "endlinecolor": "#2a3f5f",
             "gridcolor": "white",
             "linecolor": "white",
             "minorgridcolor": "white",
             "startlinecolor": "#2a3f5f"
            },
            "type": "carpet"
           }
          ],
          "choropleth": [
           {
            "colorbar": {
             "outlinewidth": 0,
             "ticks": ""
            },
            "type": "choropleth"
           }
          ],
          "contour": [
           {
            "colorbar": {
             "outlinewidth": 0,
             "ticks": ""
            },
            "colorscale": [
             [
              0,
              "#0d0887"
             ],
             [
              0.1111111111111111,
              "#46039f"
             ],
             [
              0.2222222222222222,
              "#7201a8"
             ],
             [
              0.3333333333333333,
              "#9c179e"
             ],
             [
              0.4444444444444444,
              "#bd3786"
             ],
             [
              0.5555555555555556,
              "#d8576b"
             ],
             [
              0.6666666666666666,
              "#ed7953"
             ],
             [
              0.7777777777777778,
              "#fb9f3a"
             ],
             [
              0.8888888888888888,
              "#fdca26"
             ],
             [
              1,
              "#f0f921"
             ]
            ],
            "type": "contour"
           }
          ],
          "contourcarpet": [
           {
            "colorbar": {
             "outlinewidth": 0,
             "ticks": ""
            },
            "type": "contourcarpet"
           }
          ],
          "heatmap": [
           {
            "colorbar": {
             "outlinewidth": 0,
             "ticks": ""
            },
            "colorscale": [
             [
              0,
              "#0d0887"
             ],
             [
              0.1111111111111111,
              "#46039f"
             ],
             [
              0.2222222222222222,
              "#7201a8"
             ],
             [
              0.3333333333333333,
              "#9c179e"
             ],
             [
              0.4444444444444444,
              "#bd3786"
             ],
             [
              0.5555555555555556,
              "#d8576b"
             ],
             [
              0.6666666666666666,
              "#ed7953"
             ],
             [
              0.7777777777777778,
              "#fb9f3a"
             ],
             [
              0.8888888888888888,
              "#fdca26"
             ],
             [
              1,
              "#f0f921"
             ]
            ],
            "type": "heatmap"
           }
          ],
          "heatmapgl": [
           {
            "colorbar": {
             "outlinewidth": 0,
             "ticks": ""
            },
            "colorscale": [
             [
              0,
              "#0d0887"
             ],
             [
              0.1111111111111111,
              "#46039f"
             ],
             [
              0.2222222222222222,
              "#7201a8"
             ],
             [
              0.3333333333333333,
              "#9c179e"
             ],
             [
              0.4444444444444444,
              "#bd3786"
             ],
             [
              0.5555555555555556,
              "#d8576b"
             ],
             [
              0.6666666666666666,
              "#ed7953"
             ],
             [
              0.7777777777777778,
              "#fb9f3a"
             ],
             [
              0.8888888888888888,
              "#fdca26"
             ],
             [
              1,
              "#f0f921"
             ]
            ],
            "type": "heatmapgl"
           }
          ],
          "histogram": [
           {
            "marker": {
             "pattern": {
              "fillmode": "overlay",
              "size": 10,
              "solidity": 0.2
             }
            },
            "type": "histogram"
           }
          ],
          "histogram2d": [
           {
            "colorbar": {
             "outlinewidth": 0,
             "ticks": ""
            },
            "colorscale": [
             [
              0,
              "#0d0887"
             ],
             [
              0.1111111111111111,
              "#46039f"
             ],
             [
              0.2222222222222222,
              "#7201a8"
             ],
             [
              0.3333333333333333,
              "#9c179e"
             ],
             [
              0.4444444444444444,
              "#bd3786"
             ],
             [
              0.5555555555555556,
              "#d8576b"
             ],
             [
              0.6666666666666666,
              "#ed7953"
             ],
             [
              0.7777777777777778,
              "#fb9f3a"
             ],
             [
              0.8888888888888888,
              "#fdca26"
             ],
             [
              1,
              "#f0f921"
             ]
            ],
            "type": "histogram2d"
           }
          ],
          "histogram2dcontour": [
           {
            "colorbar": {
             "outlinewidth": 0,
             "ticks": ""
            },
            "colorscale": [
             [
              0,
              "#0d0887"
             ],
             [
              0.1111111111111111,
              "#46039f"
             ],
             [
              0.2222222222222222,
              "#7201a8"
             ],
             [
              0.3333333333333333,
              "#9c179e"
             ],
             [
              0.4444444444444444,
              "#bd3786"
             ],
             [
              0.5555555555555556,
              "#d8576b"
             ],
             [
              0.6666666666666666,
              "#ed7953"
             ],
             [
              0.7777777777777778,
              "#fb9f3a"
             ],
             [
              0.8888888888888888,
              "#fdca26"
             ],
             [
              1,
              "#f0f921"
             ]
            ],
            "type": "histogram2dcontour"
           }
          ],
          "mesh3d": [
           {
            "colorbar": {
             "outlinewidth": 0,
             "ticks": ""
            },
            "type": "mesh3d"
           }
          ],
          "parcoords": [
           {
            "line": {
             "colorbar": {
              "outlinewidth": 0,
              "ticks": ""
             }
            },
            "type": "parcoords"
           }
          ],
          "pie": [
           {
            "automargin": true,
            "type": "pie"
           }
          ],
          "scatter": [
           {
            "fillpattern": {
             "fillmode": "overlay",
             "size": 10,
             "solidity": 0.2
            },
            "type": "scatter"
           }
          ],
          "scatter3d": [
           {
            "line": {
             "colorbar": {
              "outlinewidth": 0,
              "ticks": ""
             }
            },
            "marker": {
             "colorbar": {
              "outlinewidth": 0,
              "ticks": ""
             }
            },
            "type": "scatter3d"
           }
          ],
          "scattercarpet": [
           {
            "marker": {
             "colorbar": {
              "outlinewidth": 0,
              "ticks": ""
             }
            },
            "type": "scattercarpet"
           }
          ],
          "scattergeo": [
           {
            "marker": {
             "colorbar": {
              "outlinewidth": 0,
              "ticks": ""
             }
            },
            "type": "scattergeo"
           }
          ],
          "scattergl": [
           {
            "marker": {
             "colorbar": {
              "outlinewidth": 0,
              "ticks": ""
             }
            },
            "type": "scattergl"
           }
          ],
          "scattermapbox": [
           {
            "marker": {
             "colorbar": {
              "outlinewidth": 0,
              "ticks": ""
             }
            },
            "type": "scattermapbox"
           }
          ],
          "scatterpolar": [
           {
            "marker": {
             "colorbar": {
              "outlinewidth": 0,
              "ticks": ""
             }
            },
            "type": "scatterpolar"
           }
          ],
          "scatterpolargl": [
           {
            "marker": {
             "colorbar": {
              "outlinewidth": 0,
              "ticks": ""
             }
            },
            "type": "scatterpolargl"
           }
          ],
          "scatterternary": [
           {
            "marker": {
             "colorbar": {
              "outlinewidth": 0,
              "ticks": ""
             }
            },
            "type": "scatterternary"
           }
          ],
          "surface": [
           {
            "colorbar": {
             "outlinewidth": 0,
             "ticks": ""
            },
            "colorscale": [
             [
              0,
              "#0d0887"
             ],
             [
              0.1111111111111111,
              "#46039f"
             ],
             [
              0.2222222222222222,
              "#7201a8"
             ],
             [
              0.3333333333333333,
              "#9c179e"
             ],
             [
              0.4444444444444444,
              "#bd3786"
             ],
             [
              0.5555555555555556,
              "#d8576b"
             ],
             [
              0.6666666666666666,
              "#ed7953"
             ],
             [
              0.7777777777777778,
              "#fb9f3a"
             ],
             [
              0.8888888888888888,
              "#fdca26"
             ],
             [
              1,
              "#f0f921"
             ]
            ],
            "type": "surface"
           }
          ],
          "table": [
           {
            "cells": {
             "fill": {
              "color": "#EBF0F8"
             },
             "line": {
              "color": "white"
             }
            },
            "header": {
             "fill": {
              "color": "#C8D4E3"
             },
             "line": {
              "color": "white"
             }
            },
            "type": "table"
           }
          ]
         },
         "layout": {
          "annotationdefaults": {
           "arrowcolor": "#2a3f5f",
           "arrowhead": 0,
           "arrowwidth": 1
          },
          "autotypenumbers": "strict",
          "coloraxis": {
           "colorbar": {
            "outlinewidth": 0,
            "ticks": ""
           }
          },
          "colorscale": {
           "diverging": [
            [
             0,
             "#8e0152"
            ],
            [
             0.1,
             "#c51b7d"
            ],
            [
             0.2,
             "#de77ae"
            ],
            [
             0.3,
             "#f1b6da"
            ],
            [
             0.4,
             "#fde0ef"
            ],
            [
             0.5,
             "#f7f7f7"
            ],
            [
             0.6,
             "#e6f5d0"
            ],
            [
             0.7,
             "#b8e186"
            ],
            [
             0.8,
             "#7fbc41"
            ],
            [
             0.9,
             "#4d9221"
            ],
            [
             1,
             "#276419"
            ]
           ],
           "sequential": [
            [
             0,
             "#0d0887"
            ],
            [
             0.1111111111111111,
             "#46039f"
            ],
            [
             0.2222222222222222,
             "#7201a8"
            ],
            [
             0.3333333333333333,
             "#9c179e"
            ],
            [
             0.4444444444444444,
             "#bd3786"
            ],
            [
             0.5555555555555556,
             "#d8576b"
            ],
            [
             0.6666666666666666,
             "#ed7953"
            ],
            [
             0.7777777777777778,
             "#fb9f3a"
            ],
            [
             0.8888888888888888,
             "#fdca26"
            ],
            [
             1,
             "#f0f921"
            ]
           ],
           "sequentialminus": [
            [
             0,
             "#0d0887"
            ],
            [
             0.1111111111111111,
             "#46039f"
            ],
            [
             0.2222222222222222,
             "#7201a8"
            ],
            [
             0.3333333333333333,
             "#9c179e"
            ],
            [
             0.4444444444444444,
             "#bd3786"
            ],
            [
             0.5555555555555556,
             "#d8576b"
            ],
            [
             0.6666666666666666,
             "#ed7953"
            ],
            [
             0.7777777777777778,
             "#fb9f3a"
            ],
            [
             0.8888888888888888,
             "#fdca26"
            ],
            [
             1,
             "#f0f921"
            ]
           ]
          },
          "colorway": [
           "#636efa",
           "#EF553B",
           "#00cc96",
           "#ab63fa",
           "#FFA15A",
           "#19d3f3",
           "#FF6692",
           "#B6E880",
           "#FF97FF",
           "#FECB52"
          ],
          "font": {
           "color": "#2a3f5f"
          },
          "geo": {
           "bgcolor": "white",
           "lakecolor": "white",
           "landcolor": "#E5ECF6",
           "showlakes": true,
           "showland": true,
           "subunitcolor": "white"
          },
          "hoverlabel": {
           "align": "left"
          },
          "hovermode": "closest",
          "mapbox": {
           "style": "light"
          },
          "paper_bgcolor": "white",
          "plot_bgcolor": "#E5ECF6",
          "polar": {
           "angularaxis": {
            "gridcolor": "white",
            "linecolor": "white",
            "ticks": ""
           },
           "bgcolor": "#E5ECF6",
           "radialaxis": {
            "gridcolor": "white",
            "linecolor": "white",
            "ticks": ""
           }
          },
          "scene": {
           "xaxis": {
            "backgroundcolor": "#E5ECF6",
            "gridcolor": "white",
            "gridwidth": 2,
            "linecolor": "white",
            "showbackground": true,
            "ticks": "",
            "zerolinecolor": "white"
           },
           "yaxis": {
            "backgroundcolor": "#E5ECF6",
            "gridcolor": "white",
            "gridwidth": 2,
            "linecolor": "white",
            "showbackground": true,
            "ticks": "",
            "zerolinecolor": "white"
           },
           "zaxis": {
            "backgroundcolor": "#E5ECF6",
            "gridcolor": "white",
            "gridwidth": 2,
            "linecolor": "white",
            "showbackground": true,
            "ticks": "",
            "zerolinecolor": "white"
           }
          },
          "shapedefaults": {
           "line": {
            "color": "#2a3f5f"
           }
          },
          "ternary": {
           "aaxis": {
            "gridcolor": "white",
            "linecolor": "white",
            "ticks": ""
           },
           "baxis": {
            "gridcolor": "white",
            "linecolor": "white",
            "ticks": ""
           },
           "bgcolor": "#E5ECF6",
           "caxis": {
            "gridcolor": "white",
            "linecolor": "white",
            "ticks": ""
           }
          },
          "title": {
           "x": 0.05
          },
          "xaxis": {
           "automargin": true,
           "gridcolor": "white",
           "linecolor": "white",
           "ticks": "",
           "title": {
            "standoff": 15
           },
           "zerolinecolor": "white",
           "zerolinewidth": 2
          },
          "yaxis": {
           "automargin": true,
           "gridcolor": "white",
           "linecolor": "white",
           "ticks": "",
           "title": {
            "standoff": 15
           },
           "zerolinecolor": "white",
           "zerolinewidth": 2
          }
         }
        },
        "title": {
         "text": "Distribuição de Bernoulli para 50 Jogos com Probabilidade de Sucesso 0.74"
        },
        "xaxis": {
         "anchor": "y",
         "domain": [
          0,
          1
         ],
         "title": {
          "text": "Numero de Jogos com Mais de 2.5 Gols"
         }
        },
        "yaxis": {
         "anchor": "x",
         "domain": [
          0,
          1
         ],
         "title": {
          "text": "Probabilidade"
         }
        }
       }
      }
     },
     "metadata": {},
     "output_type": "display_data"
    },
    {
     "data": {
      "text/html": [
       "<div>\n",
       "<style scoped>\n",
       "    .dataframe tbody tr th:only-of-type {\n",
       "        vertical-align: middle;\n",
       "    }\n",
       "\n",
       "    .dataframe tbody tr th {\n",
       "        vertical-align: top;\n",
       "    }\n",
       "\n",
       "    .dataframe thead th {\n",
       "        text-align: right;\n",
       "    }\n",
       "</style>\n",
       "<table border=\"1\" class=\"dataframe\">\n",
       "  <thead>\n",
       "    <tr style=\"text-align: right;\">\n",
       "      <th></th>\n",
       "      <th>Numero de Jogos com Mais de 2.5 Gols</th>\n",
       "      <th>Probabilidade</th>\n",
       "    </tr>\n",
       "  </thead>\n",
       "  <tbody>\n",
       "    <tr>\n",
       "      <th>0</th>\n",
       "      <td>0</td>\n",
       "      <td>1.374610e-29</td>\n",
       "    </tr>\n",
       "    <tr>\n",
       "      <th>1</th>\n",
       "      <td>1</td>\n",
       "      <td>1.909181e-27</td>\n",
       "    </tr>\n",
       "    <tr>\n",
       "      <th>2</th>\n",
       "      <td>2</td>\n",
       "      <td>1.299304e-25</td>\n",
       "    </tr>\n",
       "    <tr>\n",
       "      <th>3</th>\n",
       "      <td>3</td>\n",
       "      <td>5.774684e-24</td>\n",
       "    </tr>\n",
       "    <tr>\n",
       "      <th>4</th>\n",
       "      <td>4</td>\n",
       "      <td>1.884793e-22</td>\n",
       "    </tr>\n",
       "    <tr>\n",
       "      <th>5</th>\n",
       "      <td>5</td>\n",
       "      <td>4.816692e-21</td>\n",
       "    </tr>\n",
       "    <tr>\n",
       "      <th>6</th>\n",
       "      <td>6</td>\n",
       "      <td>1.003478e-19</td>\n",
       "    </tr>\n",
       "    <tr>\n",
       "      <th>7</th>\n",
       "      <td>7</td>\n",
       "      <td>1.752104e-18</td>\n",
       "    </tr>\n",
       "    <tr>\n",
       "      <th>8</th>\n",
       "      <td>8</td>\n",
       "      <td>2.615988e-17</td>\n",
       "    </tr>\n",
       "    <tr>\n",
       "      <th>9</th>\n",
       "      <td>9</td>\n",
       "      <td>3.391096e-16</td>\n",
       "    </tr>\n",
       "    <tr>\n",
       "      <th>10</th>\n",
       "      <td>10</td>\n",
       "      <td>3.862081e-15</td>\n",
       "    </tr>\n",
       "    <tr>\n",
       "      <th>11</th>\n",
       "      <td>11</td>\n",
       "      <td>3.901092e-14</td>\n",
       "    </tr>\n",
       "    <tr>\n",
       "      <th>12</th>\n",
       "      <td>12</td>\n",
       "      <td>3.521819e-13</td>\n",
       "    </tr>\n",
       "    <tr>\n",
       "      <th>13</th>\n",
       "      <td>13</td>\n",
       "      <td>2.859597e-12</td>\n",
       "    </tr>\n",
       "    <tr>\n",
       "      <th>14</th>\n",
       "      <td>14</td>\n",
       "      <td>2.099307e-11</td>\n",
       "    </tr>\n",
       "    <tr>\n",
       "      <th>15</th>\n",
       "      <td>15</td>\n",
       "      <td>1.399538e-10</td>\n",
       "    </tr>\n",
       "    <tr>\n",
       "      <th>16</th>\n",
       "      <td>16</td>\n",
       "      <td>8.504138e-10</td>\n",
       "    </tr>\n",
       "    <tr>\n",
       "      <th>17</th>\n",
       "      <td>17</td>\n",
       "      <td>4.724521e-09</td>\n",
       "    </tr>\n",
       "    <tr>\n",
       "      <th>18</th>\n",
       "      <td>18</td>\n",
       "      <td>2.406006e-08</td>\n",
       "    </tr>\n",
       "    <tr>\n",
       "      <th>19</th>\n",
       "      <td>19</td>\n",
       "      <td>1.125617e-07</td>\n",
       "    </tr>\n",
       "    <tr>\n",
       "      <th>20</th>\n",
       "      <td>20</td>\n",
       "      <td>4.846406e-07</td>\n",
       "    </tr>\n",
       "    <tr>\n",
       "      <th>21</th>\n",
       "      <td>21</td>\n",
       "      <td>1.923177e-06</td>\n",
       "    </tr>\n",
       "    <tr>\n",
       "      <th>22</th>\n",
       "      <td>22</td>\n",
       "      <td>7.041936e-06</td>\n",
       "    </tr>\n",
       "    <tr>\n",
       "      <th>23</th>\n",
       "      <td>23</td>\n",
       "      <td>2.381331e-05</td>\n",
       "    </tr>\n",
       "    <tr>\n",
       "      <th>24</th>\n",
       "      <td>24</td>\n",
       "      <td>7.441659e-05</td>\n",
       "    </tr>\n",
       "    <tr>\n",
       "      <th>25</th>\n",
       "      <td>25</td>\n",
       "      <td>2.149813e-04</td>\n",
       "    </tr>\n",
       "    <tr>\n",
       "      <th>26</th>\n",
       "      <td>26</td>\n",
       "      <td>5.742021e-04</td>\n",
       "    </tr>\n",
       "    <tr>\n",
       "      <th>27</th>\n",
       "      <td>27</td>\n",
       "      <td>1.417783e-03</td>\n",
       "    </tr>\n",
       "    <tr>\n",
       "      <th>28</th>\n",
       "      <td>28</td>\n",
       "      <td>3.235021e-03</td>\n",
       "    </tr>\n",
       "    <tr>\n",
       "      <th>29</th>\n",
       "      <td>29</td>\n",
       "      <td>6.817093e-03</td>\n",
       "    </tr>\n",
       "    <tr>\n",
       "      <th>30</th>\n",
       "      <td>30</td>\n",
       "      <td>1.325546e-02</td>\n",
       "    </tr>\n",
       "    <tr>\n",
       "      <th>31</th>\n",
       "      <td>31</td>\n",
       "      <td>2.375530e-02</td>\n",
       "    </tr>\n",
       "    <tr>\n",
       "      <th>32</th>\n",
       "      <td>32</td>\n",
       "      <td>3.917975e-02</td>\n",
       "    </tr>\n",
       "    <tr>\n",
       "      <th>33</th>\n",
       "      <td>33</td>\n",
       "      <td>5.936326e-02</td>\n",
       "    </tr>\n",
       "    <tr>\n",
       "      <th>34</th>\n",
       "      <td>34</td>\n",
       "      <td>8.244898e-02</td>\n",
       "    </tr>\n",
       "    <tr>\n",
       "      <th>35</th>\n",
       "      <td>35</td>\n",
       "      <td>1.046971e-01</td>\n",
       "    </tr>\n",
       "    <tr>\n",
       "      <th>36</th>\n",
       "      <td>36</td>\n",
       "      <td>1.211772e-01</td>\n",
       "    </tr>\n",
       "    <tr>\n",
       "      <th>37</th>\n",
       "      <td>37</td>\n",
       "      <td>1.273634e-01</td>\n",
       "    </tr>\n",
       "    <tr>\n",
       "      <th>38</th>\n",
       "      <td>38</td>\n",
       "      <td>1.210325e-01</td>\n",
       "    </tr>\n",
       "    <tr>\n",
       "      <th>39</th>\n",
       "      <td>39</td>\n",
       "      <td>1.034466e-01</td>\n",
       "    </tr>\n",
       "    <tr>\n",
       "      <th>40</th>\n",
       "      <td>40</td>\n",
       "      <td>7.902170e-02</td>\n",
       "    </tr>\n",
       "    <tr>\n",
       "      <th>41</th>\n",
       "      <td>41</td>\n",
       "      <td>5.353774e-02</td>\n",
       "    </tr>\n",
       "    <tr>\n",
       "      <th>42</th>\n",
       "      <td>42</td>\n",
       "      <td>3.186770e-02</td>\n",
       "    </tr>\n",
       "    <tr>\n",
       "      <th>43</th>\n",
       "      <td>43</td>\n",
       "      <td>1.646910e-02</td>\n",
       "    </tr>\n",
       "    <tr>\n",
       "      <th>44</th>\n",
       "      <td>44</td>\n",
       "      <td>7.278009e-03</td>\n",
       "    </tr>\n",
       "    <tr>\n",
       "      <th>45</th>\n",
       "      <td>45</td>\n",
       "      <td>2.695559e-03</td>\n",
       "    </tr>\n",
       "    <tr>\n",
       "      <th>46</th>\n",
       "      <td>46</td>\n",
       "      <td>8.138765e-04</td>\n",
       "    </tr>\n",
       "    <tr>\n",
       "      <th>47</th>\n",
       "      <td>47</td>\n",
       "      <td>1.924058e-04</td>\n",
       "    </tr>\n",
       "    <tr>\n",
       "      <th>48</th>\n",
       "      <td>48</td>\n",
       "      <td>3.340378e-05</td>\n",
       "    </tr>\n",
       "    <tr>\n",
       "      <th>49</th>\n",
       "      <td>49</td>\n",
       "      <td>3.787277e-06</td>\n",
       "    </tr>\n",
       "    <tr>\n",
       "      <th>50</th>\n",
       "      <td>50</td>\n",
       "      <td>2.104043e-07</td>\n",
       "    </tr>\n",
       "  </tbody>\n",
       "</table>\n",
       "</div>"
      ],
      "text/plain": [
       "    Numero de Jogos com Mais de 2.5 Gols  Probabilidade\n",
       "0                                      0   1.374610e-29\n",
       "1                                      1   1.909181e-27\n",
       "2                                      2   1.299304e-25\n",
       "3                                      3   5.774684e-24\n",
       "4                                      4   1.884793e-22\n",
       "5                                      5   4.816692e-21\n",
       "6                                      6   1.003478e-19\n",
       "7                                      7   1.752104e-18\n",
       "8                                      8   2.615988e-17\n",
       "9                                      9   3.391096e-16\n",
       "10                                    10   3.862081e-15\n",
       "11                                    11   3.901092e-14\n",
       "12                                    12   3.521819e-13\n",
       "13                                    13   2.859597e-12\n",
       "14                                    14   2.099307e-11\n",
       "15                                    15   1.399538e-10\n",
       "16                                    16   8.504138e-10\n",
       "17                                    17   4.724521e-09\n",
       "18                                    18   2.406006e-08\n",
       "19                                    19   1.125617e-07\n",
       "20                                    20   4.846406e-07\n",
       "21                                    21   1.923177e-06\n",
       "22                                    22   7.041936e-06\n",
       "23                                    23   2.381331e-05\n",
       "24                                    24   7.441659e-05\n",
       "25                                    25   2.149813e-04\n",
       "26                                    26   5.742021e-04\n",
       "27                                    27   1.417783e-03\n",
       "28                                    28   3.235021e-03\n",
       "29                                    29   6.817093e-03\n",
       "30                                    30   1.325546e-02\n",
       "31                                    31   2.375530e-02\n",
       "32                                    32   3.917975e-02\n",
       "33                                    33   5.936326e-02\n",
       "34                                    34   8.244898e-02\n",
       "35                                    35   1.046971e-01\n",
       "36                                    36   1.211772e-01\n",
       "37                                    37   1.273634e-01\n",
       "38                                    38   1.210325e-01\n",
       "39                                    39   1.034466e-01\n",
       "40                                    40   7.902170e-02\n",
       "41                                    41   5.353774e-02\n",
       "42                                    42   3.186770e-02\n",
       "43                                    43   1.646910e-02\n",
       "44                                    44   7.278009e-03\n",
       "45                                    45   2.695559e-03\n",
       "46                                    46   8.138765e-04\n",
       "47                                    47   1.924058e-04\n",
       "48                                    48   3.340378e-05\n",
       "49                                    49   3.787277e-06\n",
       "50                                    50   2.104043e-07"
      ]
     },
     "execution_count": 16,
     "metadata": {},
     "output_type": "execute_result"
    }
   ],
   "source": [
    "gerar_distribuicao_bernoulli(p, 50)"
   ]
  },
  {
   "cell_type": "markdown",
   "metadata": {},
   "source": [
    "# Plotando um gráfico do preço ao longo do tempo\n",
    "\n",
    "*  Análise de tendências de preços ao longo do tempo.\n",
    "*  O objetivo é visualizar como os preços médios dos produtos variam mês a mês.\n",
    "*  Permite identificar tendências como aumento, queda ou estabilização dos preços.\n",
    "\n",
    "## Perguntas com dados \n",
    "\n",
    "Podemos verificar se há uma tendência de crescimento ou queda nos preços e em quais períodos isso ocorre. ?\n",
    "\n",
    "Em quais meses ou épocas do ano os preços tendem a ser mais altos ou mais baixos ?\n",
    "\n",
    "\n",
    "\n"
   ]
  },
  {
   "cell_type": "code",
   "execution_count": 4,
   "metadata": {},
   "outputs": [
    {
     "name": "stdout",
     "output_type": "stream",
     "text": [
      "   ID do Cliente       Data      Categoria   Preço  Tempo no Site  \\\n",
      "0           1001 2022-03-05       Clothing   34.99          32.50   \n",
      "1           1001 2022-02-12    Electronics  129.99          32.50   \n",
      "2           1001 2022-01-20  Home & Garden   29.99          32.50   \n",
      "3           1001 2022-05-15       Clothing   34.56         123.45   \n",
      "4           1001 2022-06-02    Electronics  150.99         123.45   \n",
      "\n",
      "   Renda Anual  Idade  \n",
      "0        45000     25  \n",
      "1        45000     25  \n",
      "2        45000     25  \n",
      "3        52000     28  \n",
      "4        52000     28  \n"
     ]
    },
    {
     "data": {
      "image/png": "[encoded data removed]",
      "text/plain": [
       "<Figure size 1000x600 with 1 Axes>"
      ]
     },
     "metadata": {},
     "output_type": "display_data"
    },
    {
     "name": "stdout",
     "output_type": "stream",
     "text": [
      "Mês com mais vendas: 6 (Total de vendas: 9)\n",
      "Mês com menos vendas: 9 (Total de vendas: 1)\n"
     ]
    },
    {
     "name": "stderr",
     "output_type": "stream",
     "text": [
      "C:\\Users\\Gustavo\\AppData\\Local\\Temp\\ipykernel_13332\\2007593059.py:91: FutureWarning: \n",
      "\n",
      "Passing `palette` without assigning `hue` is deprecated and will be removed in v0.14.0. Assign the `x` variable to `hue` and set `legend=False` for the same effect.\n",
      "\n",
      "  sns.barplot(x=monthly_sales.index, y=monthly_sales.values, palette='viridis')\n"
     ]
    },
    {
     "data": {
      "image/png": "[encoded data removed]",
      "text/plain": [
       "<Figure size 1000x600 with 1 Axes>"
      ]
     },
     "metadata": {},
     "output_type": "display_data"
    },
    {
     "name": "stdout",
     "output_type": "stream",
     "text": [
      "Estatísticas descritivas dos preços por categoria:\n",
      "               count        mean         std     min       25%     50%  \\\n",
      "Categoria                                                                \n",
      "Clothing        12.0   61.404167   39.672359   25.60   34.8825   45.61   \n",
      "Electronics     13.0  217.482308   89.993144  120.00  149.9900  199.99   \n",
      "Home & Garden    9.0  179.438889  163.791852   29.99   35.0000  129.99   \n",
      "\n",
      "                    75%    max  \n",
      "Categoria                       \n",
      "Clothing        76.2475  150.2  \n",
      "Electronics    250.3400  420.0  \n",
      "Home & Garden  279.9900  450.0  \n"
     ]
    },
    {
     "name": "stderr",
     "output_type": "stream",
     "text": [
      "C:\\Users\\Gustavo\\AppData\\Local\\Temp\\ipykernel_13332\\2007593059.py:108: FutureWarning: \n",
      "\n",
      "Passing `palette` without assigning `hue` is deprecated and will be removed in v0.14.0. Assign the `x` variable to `hue` and set `legend=False` for the same effect.\n",
      "\n",
      "  sns.boxplot(data=purchase_df, x='Categoria', y='Preço', palette='viridis')\n"
     ]
    },
    {
     "data": {
      "image/png": "[encoded data removed]",
      "text/plain": [
       "<Figure size 1200x600 with 1 Axes>"
      ]
     },
     "metadata": {},
     "output_type": "display_data"
    },
    {
     "name": "stdout",
     "output_type": "stream",
     "text": [
      "A categoria que vendeu mais foi: 'Electronics' com um total de 13 vendas.\n",
      "Vendas por categoria, do menor para o maior:\n",
      "Categoria\n",
      "Home & Garden     9\n",
      "Clothing         12\n",
      "Electronics      13\n",
      "Name: count, dtype: int64\n"
     ]
    }
   ],
   "source": [
    "import pandas as pd\n",
    "import ast\n",
    "import matplotlib.pyplot as plt\n",
    "import seaborn as sns\n",
    "\n",
    "# Função para analisar strings em objetos Python (se possível)\n",
    "def parse_history(history):\n",
    "    try:\n",
    "        return ast.literal_eval(history)\n",
    "    except (ValueError, SyntaxError):\n",
    "        return None\n",
    "\n",
    "# Carregar o arquivo CSV\n",
    "file_path = '../commerce/E-commerce.csv'\n",
    "df = pd.read_csv(file_path)\n",
    "\n",
    "# Analisar as colunas 'Purchase History' e 'Browsing History' para convertê-las em listas/dicionários Python\n",
    "df['Purchase History'] = df['Purchase History'].apply(parse_history)\n",
    "df['Browsing History'] = df['Browsing History'].apply(parse_history)\n",
    "\n",
    "# Extrair informações relevantes para análise\n",
    "# Para 'Purchase History': Extrair Data, Categoria e Preço (se disponível)\n",
    "purchase_expanded = []\n",
    "for index, row in df.iterrows():\n",
    "    customer_id = row['Customer ID']\n",
    "    purchase_history = row['Purchase History']\n",
    "    time_on_site = row['Time on Site']\n",
    "    annual_income = row['Annual Income']\n",
    "    age = row['Age']\n",
    "    if isinstance(purchase_history, list):\n",
    "        for purchase in purchase_history:\n",
    "            date = purchase.get('Date') or purchase.get('Purchase Date')\n",
    "            category = purchase.get('Category') or purchase.get('Product Category')\n",
    "            price = purchase.get('Price', None)\n",
    "            purchase_expanded.append((customer_id, date, category, price, time_on_site, annual_income, age))\n",
    "\n",
    "# Criar um novo DataFrame para 'Purchase History'\n",
    "purchase_df = pd.DataFrame(purchase_expanded, columns=['Customer ID', 'Date', 'Category', 'Price', 'Time on Site', 'Annual Income', 'Age'])\n",
    "\n",
    "# Converter 'Date' para datetime para análise baseada no tempo\n",
    "purchase_df['Date'] = pd.to_datetime(purchase_df['Date'], errors='coerce')\n",
    "\n",
    "# Atualizar os nomes das colunas para o português\n",
    "purchase_df.rename(columns={\n",
    "    'Customer ID': 'ID do Cliente',\n",
    "    'Date': 'Data',\n",
    "    'Category': 'Categoria',\n",
    "    'Price': 'Preço',\n",
    "    'Time on Site': 'Tempo no Site',\n",
    "    'Annual Income': 'Renda Anual',\n",
    "    'Age': 'Idade'\n",
    "}, inplace=True)\n",
    "\n",
    "# Exibir o DataFrame atualizado\n",
    "print(purchase_df.head())\n",
    "\n",
    "# Analisando tendências de preços ao longo do tempo\n",
    "sns.set(style=\"whitegrid\")\n",
    "\n",
    "# Agrupar por período mensal e calcular a média dos preços\n",
    "price_trend = purchase_df.groupby(purchase_df['Data'].dt.to_period('M')).agg({'Preço': 'mean'}).reset_index()\n",
    "price_trend['Data'] = price_trend['Data'].dt.to_timestamp()\n",
    "\n",
    "# Plotando a tendência de preços ao longo do tempo\n",
    "plt.figure(figsize=(10, 6))\n",
    "sns.lineplot(data=price_trend, x='Data', y='Preço', marker='o', color='b')\n",
    "plt.title('Tendência de Preços ao Longo do Tempo')\n",
    "plt.xlabel('Data')\n",
    "plt.ylabel('Preço Médio')\n",
    "plt.xticks(rotation=45)\n",
    "plt.grid(True)\n",
    "plt.tight_layout()\n",
    "plt.show()\n",
    "\n",
    "# Criando uma nova coluna que extrai o mês da data de cada compra\n",
    "purchase_df['Mês'] = purchase_df['Data'].dt.month\n",
    "\n",
    "# Contando o número de compras por mês\n",
    "monthly_sales = purchase_df['Mês'].value_counts().sort_index()\n",
    "\n",
    "# Identificando o mês com mais e menos vendas\n",
    "month_most_sales = monthly_sales.idxmax()\n",
    "month_least_sales = monthly_sales.idxmin()\n",
    "\n",
    "# Exibindo os resultados\n",
    "print(f\"Mês com mais vendas: {month_most_sales} (Total de vendas: {monthly_sales[month_most_sales]})\")\n",
    "print(f\"Mês com menos vendas: {month_least_sales} (Total de vendas: {monthly_sales[month_least_sales]})\")\n",
    "\n",
    "# Visualizando a quantidade de vendas por mês\n",
    "plt.figure(figsize=(10, 6))\n",
    "sns.barplot(x=monthly_sales.index, y=monthly_sales.values, palette='viridis')\n",
    "plt.title('Quantidade de Vendas por Mês')\n",
    "plt.xlabel('Mês')\n",
    "plt.ylabel('Número de Vendas')\n",
    "plt.xticks(rotation=45)\n",
    "plt.tight_layout()\n",
    "plt.show()\n",
    "\n",
    "# Análise descritiva dos preços por categoria\n",
    "price_stats = purchase_df.groupby('Categoria')['Preço'].describe()\n",
    "\n",
    "# Exibindo as estatísticas descritivas\n",
    "print(\"Estatísticas descritivas dos preços por categoria:\")\n",
    "print(price_stats)\n",
    "\n",
    "# Visualizando as distribuições de preços por categoria com um boxplot\n",
    "plt.figure(figsize=(12, 6))\n",
    "sns.boxplot(data=purchase_df, x='Categoria', y='Preço', palette='viridis')\n",
    "plt.title('Distribuição de Preços por Categoria')\n",
    "plt.xlabel('Categoria')\n",
    "plt.ylabel('Preço')\n",
    "plt.xticks(rotation=45)\n",
    "plt.tight_layout()\n",
    "plt.show()\n",
    "\n",
    "# Contando o número de vendas por categoria\n",
    "sales_by_category = purchase_df['Categoria'].value_counts()\n",
    "\n",
    "# Identificando a categoria que mais vendeu\n",
    "top_category = sales_by_category.idxmax()\n",
    "top_sales = sales_by_category.max()\n",
    "\n",
    "# Exibindo o resultado\n",
    "print(f\"A categoria que vendeu mais foi: '{top_category}' com um total de {top_sales} vendas.\")\n",
    "\n",
    "# Ordenando as categorias do menor para o maior número de vendas\n",
    "sorted_sales = sales_by_category.sort_values(ascending=True)\n",
    "\n",
    "# Exibindo o resultado\n",
    "print(\"Vendas por categoria, do menor para o maior:\")\n",
    "print(sorted_sales)"
   ]
  },
  {
   "cell_type": "code",
   "execution_count": 5,
   "metadata": {},
   "outputs": [
    {
     "data": {
      "image/png": "[encoded data removed]",
      "text/plain": [
       "<Figure size 1000x600 with 1 Axes>"
      ]
     },
     "metadata": {},
     "output_type": "display_data"
    },
    {
     "name": "stdout",
     "output_type": "stream",
     "text": [
      "Coeficiente de correlação de Pearson entre Idade e Renda Anual: 0.81\n"
     ]
    }
   ],
   "source": [
    "import pandas as pd\n",
    "import matplotlib.pyplot as plt\n",
    "from scipy.stats import pearsonr\n",
    "\n",
    "# Carregar o arquivo CSV\n",
    "file_path = '../commerce/E-commerce.csv'\n",
    "df = pd.read_csv(file_path)\n",
    "\n",
    "# Extrair as colunas 'Age' e 'Annual Income'\n",
    "age = df['Age']\n",
    "annual_income = df['Annual Income']\n",
    "\n",
    "# Calcular o coeficiente de correlação de Pearson\n",
    "correlation, _ = pearsonr(age, annual_income)\n",
    "\n",
    "# Criar um gráfico de dispersão\n",
    "plt.figure(figsize=(10, 6))\n",
    "plt.scatter(age, annual_income, alpha=0.5)\n",
    "plt.title(f'Gráfico de Dispersão: Idade vs Renda Anual\\nCoeficiente de Pearson: {correlation:.2f}')\n",
    "plt.xlabel('Idade')\n",
    "plt.ylabel('Renda Anual')\n",
    "plt.grid(True)\n",
    "plt.show()\n",
    "\n",
    "# Exibir o valor do coeficiente de correlação de Pearson\n",
    "print(f'Coeficiente de correlação de Pearson entre Idade e Renda Anual: {correlation:.2f}')"
   ]
  },
  {
   "cell_type": "code",
   "execution_count": 6,
   "metadata": {},
   "outputs": [
    {
     "data": {
      "image/png": "[encoded data removed]",
      "text/plain": [
       "<Figure size 1000x600 with 1 Axes>"
      ]
     },
     "metadata": {},
     "output_type": "display_data"
    },
    {
     "name": "stdout",
     "output_type": "stream",
     "text": [
      "Coeficiente de correlação de Pearson entre Idade e Tempo no Site: 0.60\n"
     ]
    }
   ],
   "source": [
    "import pandas as pd\n",
    "import matplotlib.pyplot as plt\n",
    "from scipy.stats import pearsonr\n",
    "\n",
    "# Carregar o arquivo CSV\n",
    "file_path = '../commerce/E-commerce.csv'\n",
    "df = pd.read_csv(file_path)\n",
    "\n",
    "# Extrair as colunas 'Age' e 'Time on Site'\n",
    "age = df['Age']\n",
    "time_on_site = df['Time on Site']\n",
    "\n",
    "# Calcular o coeficiente de correlação de Pearson\n",
    "correlation, _ = pearsonr(age, time_on_site)\n",
    "\n",
    "# Criar um gráfico de dispersão\n",
    "plt.figure(figsize=(10, 6))\n",
    "plt.scatter(age, time_on_site, alpha=0.5)\n",
    "plt.title(f'Gráfico de Dispersão: Idade vs Tempo no Site\\nCoeficiente de Pearson: {correlation:.2f}')\n",
    "plt.xlabel('Idade')\n",
    "plt.ylabel('Tempo no Site')\n",
    "plt.grid(True)\n",
    "plt.show()\n",
    "\n",
    "# Exibir o valor do coeficiente de correlação de Pearson\n",
    "print(f'Coeficiente de correlação de Pearson entre Idade e Tempo no Site: {correlation:.2f}')"
   ]
  },
  {
   "cell_type": "code",
   "execution_count": 7,
   "metadata": {},
   "outputs": [
    {
     "data": {
      "image/png": "[encoded data removed]",
      "text/plain": [
       "<Figure size 1000x600 with 1 Axes>"
      ]
     },
     "metadata": {},
     "output_type": "display_data"
    },
    {
     "name": "stdout",
     "output_type": "stream",
     "text": [
      "Coeficiente de correlação de Pearson entre Renda Anual e Tempo no Site: 0.58\n"
     ]
    }
   ],
   "source": [
    "import pandas as pd\n",
    "import matplotlib.pyplot as plt\n",
    "from scipy.stats import pearsonr\n",
    "\n",
    "# Carregar o arquivo CSV\n",
    "file_path = '../commerce/E-commerce.csv'\n",
    "df = pd.read_csv(file_path)\n",
    "\n",
    "# Extrair as colunas 'Annual Income' e 'Time on Site'\n",
    "annual_income = df['Annual Income']\n",
    "time_on_site = df['Time on Site']\n",
    "\n",
    "# Calcular o coeficiente de correlação de Pearson\n",
    "correlation, _ = pearsonr(annual_income, time_on_site)\n",
    "\n",
    "# Criar um gráfico de dispersão\n",
    "plt.figure(figsize=(10, 6))\n",
    "plt.scatter(annual_income, time_on_site, alpha=0.5)\n",
    "plt.title(f'Gráfico de Dispersão: Renda Anual vs Tempo no Site\\nCoeficiente de Pearson: {correlation:.2f}')\n",
    "plt.xlabel('Renda Anual')\n",
    "plt.ylabel('Tempo no Site')\n",
    "plt.grid(True)\n",
    "plt.show()\n",
    "\n",
    "# Exibir o valor do coeficiente de correlação de Pearson\n",
    "print(f'Coeficiente de correlação de Pearson entre Renda Anual e Tempo no Site: {correlation:.2f}')"
   ]
  },
  {
   "cell_type": "code",
   "execution_count": 12,
   "metadata": {},
   "outputs": [
    {
     "data": {
      "image/png": "[encoded data removed]",
      "text/plain": [
       "<Figure size 1000x600 with 1 Axes>"
      ]
     },
     "metadata": {},
     "output_type": "display_data"
    },
    {
     "name": "stdout",
     "output_type": "stream",
     "text": [
      "Coeficiente de correlação de Pearson entre Preço e Tempo no Site: 0.39\n"
     ]
    }
   ],
   "source": [
    "import pandas as pd\n",
    "import matplotlib.pyplot as plt\n",
    "from scipy.stats import pearsonr\n",
    "\n",
    "# Carregar o arquivo CSV\n",
    "file_path = '../commerce/E-commerce.csv'\n",
    "df = pd.read_csv(file_path)\n",
    "\n",
    "# Função para analisar strings em objetos Python (se possível)\n",
    "def parse_history(history):\n",
    "    try:\n",
    "        return ast.literal_eval(history)\n",
    "    except (ValueError, SyntaxError):\n",
    "        return None\n",
    "\n",
    "# Analisar as colunas 'Purchase History' e 'Browsing History' para convertê-las em listas/dicionários Python\n",
    "df['Purchase History'] = df['Purchase History'].apply(parse_history)\n",
    "df['Browsing History'] = df['Browsing History'].apply(parse_history)\n",
    "\n",
    "# Extrair informações relevantes para análise\n",
    "# Para 'Purchase History': Extrair Data, Categoria e Preço (se disponível)\n",
    "purchase_expanded = []\n",
    "for index, row in df.iterrows():\n",
    "    customer_id = row['Customer ID']\n",
    "    purchase_history = row['Purchase History']\n",
    "    time_on_site = row['Time on Site']\n",
    "    annual_income = row['Annual Income']\n",
    "    age = row['Age']\n",
    "    if isinstance(purchase_history, list):\n",
    "        for purchase in purchase_history:\n",
    "            date = purchase.get('Date') or purchase.get('Purchase Date')\n",
    "            category = purchase.get('Category') or purchase.get('Product Category')\n",
    "            price = purchase.get('Price', None)\n",
    "            purchase_expanded.append((customer_id, date, category, price, time_on_site, annual_income, age))\n",
    "\n",
    "# Criar um novo DataFrame para 'Purchase History'\n",
    "purchase_df = pd.DataFrame(purchase_expanded, columns=['Customer ID', 'Date', 'Category', 'Price', 'Time on Site', 'Annual Income', 'Age'])\n",
    "\n",
    "# Converter 'Date' para datetime para análise baseada no tempo\n",
    "purchase_df['Date'] = pd.to_datetime(purchase_df['Date'], errors='coerce')\n",
    "\n",
    "# Atualizar os nomes das colunas para o português\n",
    "purchase_df.rename(columns={\n",
    "    'Customer ID': 'ID do Cliente',\n",
    "    'Date': 'Data',\n",
    "    'Category': 'Categoria',\n",
    "    'Price': 'Preço',\n",
    "    'Time on Site': 'Tempo no Site',\n",
    "    'Annual Income': 'Renda Anual',\n",
    "    'Age': 'Idade'\n",
    "}, inplace=True)\n",
    "\n",
    "# Extrair as colunas 'Preço' e 'Tempo no Site'\n",
    "price = purchase_df['Preço']\n",
    "time_on_site = purchase_df['Tempo no Site']\n",
    "\n",
    "# Calcular o coeficiente de correlação de Pearson\n",
    "correlation, _ = pearsonr(time_on_site, price)\n",
    "\n",
    "# Criar um gráfico de dispersão\n",
    "plt.figure(figsize=(10, 6))\n",
    "plt.scatter(time_on_site, price, alpha=0.5)\n",
    "plt.title(f'Gráfico de Dispersão: Preço vs Tempo no Site\\nCoeficiente de Pearson: {correlation:.2f}')\n",
    "plt.ylabel('Preço')\n",
    "plt.xlabel('Tempo no Site')\n",
    "plt.grid(True)\n",
    "plt.show()\n",
    "\n",
    "# Exibir o valor do coeficiente de correlação de Pearson\n",
    "print(f'Coeficiente de correlação de Pearson entre Preço e Tempo no Site: {correlation:.2f}')"
   ]
  },
  {
   "cell_type": "code",
   "execution_count": 9,
   "metadata": {},
   "outputs": [
    {
     "data": {
      "image/png": "[encoded data removed]",
      "text/plain": [
       "<Figure size 1000x600 with 1 Axes>"
      ]
     },
     "metadata": {},
     "output_type": "display_data"
    },
    {
     "name": "stdout",
     "output_type": "stream",
     "text": [
      "Coeficiente de correlação de Pearson entre Preço e Tempo no Site: 0.39\n"
     ]
    }
   ],
   "source": [
    "import pandas as pd\n",
    "import matplotlib.pyplot as plt\n",
    "from scipy.stats import pearsonr\n",
    "import ast\n",
    "\n",
    "# Função para analisar strings em objetos Python (se possível)\n",
    "def parse_history(history):\n",
    "    try:\n",
    "        return ast.literal_eval(history)\n",
    "    except (ValueError, SyntaxError):\n",
    "        return None\n",
    "\n",
    "# Carregar o arquivo CSV\n",
    "file_path = '../commerce/E-commerce.csv'\n",
    "df = pd.read_csv(file_path)\n",
    "\n",
    "# Analisar as colunas 'Purchase History' e 'Browsing History' para convertê-las em listas/dicionários Python\n",
    "df['Purchase History'] = df['Purchase History'].apply(parse_history)\n",
    "df['Browsing History'] = df['Browsing History'].apply(parse_history)\n",
    "\n",
    "# Extrair informações relevantes para análise\n",
    "# Para 'Purchase History': Extrair Data, Categoria e Preço (se disponível)\n",
    "purchase_expanded = []\n",
    "for index, row in df.iterrows():\n",
    "    customer_id = row['Customer ID']\n",
    "    purchase_history = row['Purchase History']\n",
    "    time_on_site = row['Time on Site']\n",
    "    if isinstance(purchase_history, list):\n",
    "        for purchase in purchase_history:\n",
    "            date = purchase.get('Date') or purchase.get('Purchase Date')\n",
    "            category = purchase.get('Category') or purchase.get('Product Category')\n",
    "            price = purchase.get('Price', None)\n",
    "            purchase_expanded.append((customer_id, date, category, price, time_on_site))\n",
    "\n",
    "# Criar um novo DataFrame para 'Purchase History'\n",
    "purchase_df = pd.DataFrame(purchase_expanded, columns=['Customer ID', 'Date', 'Category', 'Price', 'Time on Site'])\n",
    "\n",
    "# Converter 'Date' para datetime para análise baseada no tempo\n",
    "purchase_df['Date'] = pd.to_datetime(purchase_df['Date'], errors='coerce')\n",
    "\n",
    "# Atualizar os nomes das colunas para o português\n",
    "purchase_df.rename(columns={\n",
    "    'Customer ID': 'ID do Cliente',\n",
    "    'Date': 'Data',\n",
    "    'Category': 'Categoria',\n",
    "    'Price': 'Preço',\n",
    "    'Time on Site': 'Tempo no Site'\n",
    "}, inplace=True)\n",
    "\n",
    "# Extrair as colunas 'ID do Cliente', 'Preço' e 'Tempo no Site'\n",
    "customer_id = purchase_df['ID do Cliente']\n",
    "price = purchase_df['Preço']\n",
    "time_on_site = purchase_df['Tempo no Site']\n",
    "\n",
    "# Calcular o coeficiente de correlação de Pearson\n",
    "correlation, _ = pearsonr(price, time_on_site)\n",
    "\n",
    "# Criar um gráfico de dispersão\n",
    "plt.figure(figsize=(10, 6))\n",
    "plt.scatter(time_on_site, price, alpha=0.5)\n",
    "plt.title(f'Gráfico de Dispersão: Preço vs Tempo no Site\\nCoeficiente de Pearson: {correlation:.2f}')\n",
    "plt.xlabel('Tempo no Site')\n",
    "plt.ylabel('Preço')\n",
    "plt.grid(True)\n",
    "plt.show()\n",
    "\n",
    "# Exibir o valor do coeficiente de correlação de Pearson\n",
    "print(f'Coeficiente de correlação de Pearson entre Preço e Tempo no Site: {correlation:.2f}')"
   ]
  },
  {
   "cell_type": "code",
   "execution_count": 10,
   "metadata": {},
   "outputs": [
    {
     "data": {
      "image/png": "[encoded data removed]",
      "text/plain": [
       "<Figure size 1000x600 with 1 Axes>"
      ]
     },
     "metadata": {},
     "output_type": "display_data"
    },
    {
     "name": "stdout",
     "output_type": "stream",
     "text": [
      "Coeficiente de correlação de Pearson entre Idade e Tempo no Site: 0.60\n"
     ]
    }
   ],
   "source": [
    "import pandas as pd\n",
    "import matplotlib.pyplot as plt\n",
    "from scipy.stats import pearsonr\n",
    "\n",
    "# Carregar o arquivo CSV\n",
    "file_path = '../commerce/E-commerce.csv'\n",
    "df = pd.read_csv(file_path)\n",
    "\n",
    "# Extrair as colunas 'Age' e 'Time on Site'\n",
    "age = df['Age']\n",
    "time_on_site = df['Time on Site']\n",
    "\n",
    "# Calcular o coeficiente de correlação de Pearson\n",
    "correlation, _ = pearsonr(age, time_on_site)\n",
    "\n",
    "# Criar um gráfico de dispersão\n",
    "plt.figure(figsize=(10, 6))\n",
    "plt.scatter(age, time_on_site, alpha=0.5)\n",
    "plt.title(f'Gráfico de Dispersão: Idade vs Tempo no Site\\nCoeficiente de Pearson: {correlation:.2f}')\n",
    "plt.xlabel('Idade')\n",
    "plt.ylabel('Tempo no Site')\n",
    "plt.grid(True)\n",
    "plt.show()\n",
    "\n",
    "# Exibir o valor do coeficiente de correlação de Pearson\n",
    "print(f'Coeficiente de correlação de Pearson entre Idade e Tempo no Site: {correlation:.2f}')"
   ]
  },
  {
   "cell_type": "markdown",
   "metadata": {},
   "source": [
    "# Identicando meses com mais ou menos vendas\n",
    "\n",
    "* Sazonalidade: Podemos identificar se há sazonalidade nas vendas, ou seja, se existem meses do ano com picos (ex.: dezembro, por conta do Natal) ou baixas (ex.: janeiro, pós-festas) que podem ser usados para planejar promoções e campanhas. \n",
    "\n",
    "* Planejamento de Estoque: Saber quais meses têm maior demanda permite um melhor planejamento de estoque, evitando falta de produtos em períodos de alta e excessos em períodos de baixa.\n",
    "\n",
    "* Oportunidades de Marketing: Períodos de baixa nas vendas podem ser alvos de campanhas promocionais específicas para aumentar o tráfego e o volume de vendas nesses meses.\n",
    "\n",
    "## Perguntas \n",
    "\n",
    "Os preços seguem um padrão sazonal?\n",
    "\n",
    "Em quais meses os preços atingem o seu ponto mais alto ou mais baixo ?\n",
    "\n",
    "\n"
   ]
  },
  {
   "cell_type": "code",
   "execution_count": 11,
   "metadata": {},
   "outputs": [
    {
     "ename": "KeyError",
     "evalue": "'Date'",
     "output_type": "error",
     "traceback": [
      "\u001b[1;31m---------------------------------------------------------------------------\u001b[0m",
      "\u001b[1;31mKeyError\u001b[0m                                  Traceback (most recent call last)",
      "File \u001b[1;32m~\\AppData\\Local\\Packages\\PythonSoftwareFoundation.Python.3.11_qbz5n2kfra8p0\\LocalCache\\local-packages\\Python311\\site-packages\\pandas\\core\\indexes\\base.py:3805\u001b[0m, in \u001b[0;36mIndex.get_loc\u001b[1;34m(self, key)\u001b[0m\n\u001b[0;32m   3804\u001b[0m \u001b[38;5;28;01mtry\u001b[39;00m:\n\u001b[1;32m-> 3805\u001b[0m     \u001b[38;5;28;01mreturn\u001b[39;00m \u001b[38;5;28;43mself\u001b[39;49m\u001b[38;5;241;43m.\u001b[39;49m\u001b[43m_engine\u001b[49m\u001b[38;5;241;43m.\u001b[39;49m\u001b[43mget_loc\u001b[49m\u001b[43m(\u001b[49m\u001b[43mcasted_key\u001b[49m\u001b[43m)\u001b[49m\n\u001b[0;32m   3806\u001b[0m \u001b[38;5;28;01mexcept\u001b[39;00m \u001b[38;5;167;01mKeyError\u001b[39;00m \u001b[38;5;28;01mas\u001b[39;00m err:\n",
      "File \u001b[1;32mindex.pyx:167\u001b[0m, in \u001b[0;36mpandas._libs.index.IndexEngine.get_loc\u001b[1;34m()\u001b[0m\n",
      "File \u001b[1;32mindex.pyx:196\u001b[0m, in \u001b[0;36mpandas._libs.index.IndexEngine.get_loc\u001b[1;34m()\u001b[0m\n",
      "File \u001b[1;32mpandas\\\\_libs\\\\hashtable_class_helper.pxi:7081\u001b[0m, in \u001b[0;36mpandas._libs.hashtable.PyObjectHashTable.get_item\u001b[1;34m()\u001b[0m\n",
      "File \u001b[1;32mpandas\\\\_libs\\\\hashtable_class_helper.pxi:7089\u001b[0m, in \u001b[0;36mpandas._libs.hashtable.PyObjectHashTable.get_item\u001b[1;34m()\u001b[0m\n",
      "\u001b[1;31mKeyError\u001b[0m: 'Date'",
      "\nThe above exception was the direct cause of the following exception:\n",
      "\u001b[1;31mKeyError\u001b[0m                                  Traceback (most recent call last)",
      "Cell \u001b[1;32mIn[11], line 8\u001b[0m\n\u001b[0;32m      1\u001b[0m \u001b[38;5;28;01mimport\u001b[39;00m \u001b[38;5;21;01mpandas\u001b[39;00m \u001b[38;5;28;01mas\u001b[39;00m \u001b[38;5;21;01mpd\u001b[39;00m\n\u001b[0;32m      3\u001b[0m \u001b[38;5;66;03m# Assumindo que purchase_df já contém os dados das compras e que a coluna 'Date' já está em formato datetime\u001b[39;00m\n\u001b[0;32m      4\u001b[0m \u001b[38;5;66;03m# Se ainda não estiver, podemos converter a coluna para datetime usando:\u001b[39;00m\n\u001b[0;32m      5\u001b[0m \u001b[38;5;66;03m# purchase_df['Date'] = pd.to_datetime(purchase_df['Date'], errors='coerce')\u001b[39;00m\n\u001b[0;32m      6\u001b[0m \n\u001b[0;32m      7\u001b[0m \u001b[38;5;66;03m# Criando uma nova coluna que extrai o mês da data de cada compra\u001b[39;00m\n\u001b[1;32m----> 8\u001b[0m purchase_df[\u001b[38;5;124m'\u001b[39m\u001b[38;5;124mMonth\u001b[39m\u001b[38;5;124m'\u001b[39m] \u001b[38;5;241m=\u001b[39m \u001b[43mpurchase_df\u001b[49m\u001b[43m[\u001b[49m\u001b[38;5;124;43m'\u001b[39;49m\u001b[38;5;124;43mDate\u001b[39;49m\u001b[38;5;124;43m'\u001b[39;49m\u001b[43m]\u001b[49m\u001b[38;5;241m.\u001b[39mdt\u001b[38;5;241m.\u001b[39mmonth\n\u001b[0;32m     10\u001b[0m \u001b[38;5;66;03m# Contando o número de compras por mês\u001b[39;00m\n\u001b[0;32m     11\u001b[0m monthly_sales \u001b[38;5;241m=\u001b[39m purchase_df[\u001b[38;5;124m'\u001b[39m\u001b[38;5;124mMonth\u001b[39m\u001b[38;5;124m'\u001b[39m]\u001b[38;5;241m.\u001b[39mvalue_counts()\u001b[38;5;241m.\u001b[39msort_index()\n",
      "File \u001b[1;32m~\\AppData\\Local\\Packages\\PythonSoftwareFoundation.Python.3.11_qbz5n2kfra8p0\\LocalCache\\local-packages\\Python311\\site-packages\\pandas\\core\\frame.py:4102\u001b[0m, in \u001b[0;36mDataFrame.__getitem__\u001b[1;34m(self, key)\u001b[0m\n\u001b[0;32m   4100\u001b[0m \u001b[38;5;28;01mif\u001b[39;00m \u001b[38;5;28mself\u001b[39m\u001b[38;5;241m.\u001b[39mcolumns\u001b[38;5;241m.\u001b[39mnlevels \u001b[38;5;241m>\u001b[39m \u001b[38;5;241m1\u001b[39m:\n\u001b[0;32m   4101\u001b[0m     \u001b[38;5;28;01mreturn\u001b[39;00m \u001b[38;5;28mself\u001b[39m\u001b[38;5;241m.\u001b[39m_getitem_multilevel(key)\n\u001b[1;32m-> 4102\u001b[0m indexer \u001b[38;5;241m=\u001b[39m \u001b[38;5;28;43mself\u001b[39;49m\u001b[38;5;241;43m.\u001b[39;49m\u001b[43mcolumns\u001b[49m\u001b[38;5;241;43m.\u001b[39;49m\u001b[43mget_loc\u001b[49m\u001b[43m(\u001b[49m\u001b[43mkey\u001b[49m\u001b[43m)\u001b[49m\n\u001b[0;32m   4103\u001b[0m \u001b[38;5;28;01mif\u001b[39;00m is_integer(indexer):\n\u001b[0;32m   4104\u001b[0m     indexer \u001b[38;5;241m=\u001b[39m [indexer]\n",
      "File \u001b[1;32m~\\AppData\\Local\\Packages\\PythonSoftwareFoundation.Python.3.11_qbz5n2kfra8p0\\LocalCache\\local-packages\\Python311\\site-packages\\pandas\\core\\indexes\\base.py:3812\u001b[0m, in \u001b[0;36mIndex.get_loc\u001b[1;34m(self, key)\u001b[0m\n\u001b[0;32m   3807\u001b[0m     \u001b[38;5;28;01mif\u001b[39;00m \u001b[38;5;28misinstance\u001b[39m(casted_key, \u001b[38;5;28mslice\u001b[39m) \u001b[38;5;129;01mor\u001b[39;00m (\n\u001b[0;32m   3808\u001b[0m         \u001b[38;5;28misinstance\u001b[39m(casted_key, abc\u001b[38;5;241m.\u001b[39mIterable)\n\u001b[0;32m   3809\u001b[0m         \u001b[38;5;129;01mand\u001b[39;00m \u001b[38;5;28many\u001b[39m(\u001b[38;5;28misinstance\u001b[39m(x, \u001b[38;5;28mslice\u001b[39m) \u001b[38;5;28;01mfor\u001b[39;00m x \u001b[38;5;129;01min\u001b[39;00m casted_key)\n\u001b[0;32m   3810\u001b[0m     ):\n\u001b[0;32m   3811\u001b[0m         \u001b[38;5;28;01mraise\u001b[39;00m InvalidIndexError(key)\n\u001b[1;32m-> 3812\u001b[0m     \u001b[38;5;28;01mraise\u001b[39;00m \u001b[38;5;167;01mKeyError\u001b[39;00m(key) \u001b[38;5;28;01mfrom\u001b[39;00m \u001b[38;5;21;01merr\u001b[39;00m\n\u001b[0;32m   3813\u001b[0m \u001b[38;5;28;01mexcept\u001b[39;00m \u001b[38;5;167;01mTypeError\u001b[39;00m:\n\u001b[0;32m   3814\u001b[0m     \u001b[38;5;66;03m# If we have a listlike key, _check_indexing_error will raise\u001b[39;00m\n\u001b[0;32m   3815\u001b[0m     \u001b[38;5;66;03m#  InvalidIndexError. Otherwise we fall through and re-raise\u001b[39;00m\n\u001b[0;32m   3816\u001b[0m     \u001b[38;5;66;03m#  the TypeError.\u001b[39;00m\n\u001b[0;32m   3817\u001b[0m     \u001b[38;5;28mself\u001b[39m\u001b[38;5;241m.\u001b[39m_check_indexing_error(key)\n",
      "\u001b[1;31mKeyError\u001b[0m: 'Date'"
     ]
    }
   ],
   "source": [
    "import pandas as pd\n",
    "\n",
    "# Assumindo que purchase_df já contém os dados das compras e que a coluna 'Date' já está em formato datetime\n",
    "# Se ainda não estiver, podemos converter a coluna para datetime usando:\n",
    "# purchase_df['Date'] = pd.to_datetime(purchase_df['Date'], errors='coerce')\n",
    "\n",
    "# Criando uma nova coluna que extrai o mês da data de cada compra\n",
    "purchase_df['Month'] = purchase_df['Date'].dt.month\n",
    "\n",
    "# Contando o número de compras por mês\n",
    "monthly_sales = purchase_df['Month'].value_counts().sort_index()\n",
    "\n",
    "# Identificando o mês com mais e menos vendas\n",
    "month_most_sales = monthly_sales.idxmax()\n",
    "month_least_sales = monthly_sales.idxmin()\n",
    "\n",
    "# Exibindo os resultados\n",
    "print(f\"Mês com mais vendas: {month_most_sales} (Total de vendas: {monthly_sales[month_most_sales]})\")\n",
    "print(f\"Mês com menos vendas: {month_least_sales} (Total de vendas: {monthly_sales[month_least_sales]})\")\n",
    "\n",
    "# Visualizando a quantidade de vendas por mês\n",
    "import matplotlib.pyplot as plt\n",
    "import seaborn as sns\n",
    "\n",
    "plt.figure(figsize=(10, 6))\n",
    "sns.barplot(x=monthly_sales.index, y=monthly_sales.values, palette='viridis')\n",
    "plt.title('Quantidade de Vendas por Mês')\n",
    "plt.xlabel('Mês')\n",
    "plt.ylabel('Número de Vendas')\n",
    "plt.xticks(rotation=45)\n",
    "plt.tight_layout()\n",
    "plt.show()\n"
   ]
  },
  {
   "cell_type": "markdown",
   "metadata": {},
   "source": [
    "# Atualizando nomes das colunas para o português"
   ]
  },
  {
   "cell_type": "code",
   "execution_count": 6,
   "metadata": {},
   "outputs": [
    {
     "data": {
      "text/html": [
       "<div>\n",
       "<style scoped>\n",
       "    .dataframe tbody tr th:only-of-type {\n",
       "        vertical-align: middle;\n",
       "    }\n",
       "\n",
       "    .dataframe tbody tr th {\n",
       "        vertical-align: top;\n",
       "    }\n",
       "\n",
       "    .dataframe thead th {\n",
       "        text-align: right;\n",
       "    }\n",
       "</style>\n",
       "<table border=\"1\" class=\"dataframe\">\n",
       "  <thead>\n",
       "    <tr style=\"text-align: right;\">\n",
       "      <th></th>\n",
       "      <th>ID do Cliente</th>\n",
       "      <th>Data</th>\n",
       "      <th>Categoria</th>\n",
       "      <th>Preço</th>\n",
       "      <th>Mes</th>\n",
       "    </tr>\n",
       "  </thead>\n",
       "  <tbody>\n",
       "    <tr>\n",
       "      <th>0</th>\n",
       "      <td>1001</td>\n",
       "      <td>2022-03-05</td>\n",
       "      <td>Clothing</td>\n",
       "      <td>34.99</td>\n",
       "      <td>3</td>\n",
       "    </tr>\n",
       "    <tr>\n",
       "      <th>1</th>\n",
       "      <td>1001</td>\n",
       "      <td>2022-02-12</td>\n",
       "      <td>Electronics</td>\n",
       "      <td>129.99</td>\n",
       "      <td>2</td>\n",
       "    </tr>\n",
       "    <tr>\n",
       "      <th>2</th>\n",
       "      <td>1001</td>\n",
       "      <td>2022-01-20</td>\n",
       "      <td>Home &amp; Garden</td>\n",
       "      <td>29.99</td>\n",
       "      <td>1</td>\n",
       "    </tr>\n",
       "    <tr>\n",
       "      <th>3</th>\n",
       "      <td>1001</td>\n",
       "      <td>2022-05-15</td>\n",
       "      <td>Clothing</td>\n",
       "      <td>34.56</td>\n",
       "      <td>5</td>\n",
       "    </tr>\n",
       "    <tr>\n",
       "      <th>4</th>\n",
       "      <td>1001</td>\n",
       "      <td>2022-06-02</td>\n",
       "      <td>Electronics</td>\n",
       "      <td>150.99</td>\n",
       "      <td>6</td>\n",
       "    </tr>\n",
       "  </tbody>\n",
       "</table>\n",
       "</div>"
      ],
      "text/plain": [
       "   ID do Cliente       Data      Categoria   Preço  Mes\n",
       "0           1001 2022-03-05       Clothing   34.99    3\n",
       "1           1001 2022-02-12    Electronics  129.99    2\n",
       "2           1001 2022-01-20  Home & Garden   29.99    1\n",
       "3           1001 2022-05-15       Clothing   34.56    5\n",
       "4           1001 2022-06-02    Electronics  150.99    6"
      ]
     },
     "execution_count": 6,
     "metadata": {},
     "output_type": "execute_result"
    }
   ],
   "source": [
    "\n",
    "# Também é necessário atualizar as colunas do DataFrame de compras\n",
    "purchase_df.rename(columns={\n",
    "    'Customer ID': 'ID do Cliente',\n",
    "    'Date': 'Data',\n",
    "    'Category': 'Categoria',\n",
    "    'Price': 'Preço',\n",
    "    'Month': 'Mes'\n",
    "}, inplace=True)\n",
    "\n",
    "purchase_df.head()\n",
    "\n"
   ]
  },
  {
   "cell_type": "markdown",
   "metadata": {},
   "source": [
    "# análise descritiva dos preços por categoria e para visualizar a distribuição de preços com um boxplot. \n",
    "\n",
    "*  O objetivo principal dessa análise é entender como os preços variam dentro de cada categoria, identificar padrões, possíveis outliers e tirar conclusões sobre a variação de preços.\n",
    "\n",
    "* count: Número de produtos em cada categoria.\n",
    "mean: Média dos preços (preço médio).\n",
    "std: Desvio padrão, que mede a dispersão dos preços.\n",
    "min e max: Preços mínimo e máximo.\n",
    "quartis: Valores nos percentis 25%, 50% (mediana) e 75%, que ajudam a entender como os preços estão distribuídos dentro de cada categoria.\n",
    "\n",
    "* Importância: Essa análise estatística fornece uma visão quantitativa da variação de preços em cada categoria. Com essas informações, podemos identificar categorias com preços mais baixos, mais altos e aquelas com maior variação de preços.\n",
    "\n",
    "* Se uma categoria tem uma média de preço alta e um desvio padrão elevado, isso sugere que os preços nessa categoria variam bastante (há itens tanto baratos quanto caros).\n",
    "\n",
    "## Perguntas\n",
    "\n",
    "Quais categorias têm os preços mais altos e mais baixos em média ?\n",
    "\n",
    "Em quais categorias os outliers são mais frequentes ?\n",
    "\n",
    "Qual categoria tem a maior variação de preços ?"
   ]
  },
  {
   "cell_type": "code",
   "execution_count": 7,
   "metadata": {},
   "outputs": [
    {
     "name": "stdout",
     "output_type": "stream",
     "text": [
      "Estatísticas descritivas dos preços por categoria:\n",
      "               count        mean         std     min       25%     50%  \\\n",
      "Categoria                                                                \n",
      "Clothing        12.0   61.404167   39.672359   25.60   34.8825   45.61   \n",
      "Electronics     13.0  217.482308   89.993144  120.00  149.9900  199.99   \n",
      "Home & Garden    9.0  179.438889  163.791852   29.99   35.0000  129.99   \n",
      "\n",
      "                    75%    max  \n",
      "Categoria                       \n",
      "Clothing        76.2475  150.2  \n",
      "Electronics    250.3400  420.0  \n",
      "Home & Garden  279.9900  450.0  \n"
     ]
    },
    {
     "name": "stderr",
     "output_type": "stream",
     "text": [
      "c:\\AppData\\Local\\Temp\\ipykernel_9124\\2316642858.py:16: FutureWarning: \n",
      "\n",
      "Passing `palette` without assigning `hue` is deprecated and will be removed in v0.14.0. Assign the `x` variable to `hue` and set `legend=False` for the same effect.\n",
      "\n",
      "  sns.boxplot(data=purchase_df, x='Categoria', y='Preço', palette='viridis')\n"
     ]
    },
    {
     "data": {
      "image/png": "[encoded data removed]",
      "text/plain": [
       "<Figure size 1200x600 with 1 Axes>"
      ]
     },
     "metadata": {},
     "output_type": "display_data"
    }
   ],
   "source": [
    "import pandas as pd\n",
    "import matplotlib.pyplot as plt\n",
    "import seaborn as sns\n",
    "\n",
    "# Assumindo que purchase_df já foi atualizado e contém as colunas 'Categoria' e 'Preço'\n",
    "\n",
    "# Análise descritiva dos preços por categoria\n",
    "price_stats = purchase_df.groupby('Categoria')['Preço'].describe()\n",
    "\n",
    "# Exibindo as estatísticas descritivas\n",
    "print(\"Estatísticas descritivas dos preços por categoria:\")\n",
    "print(price_stats)\n",
    "\n",
    "# Visualizando as distribuições de preços por categoria com um boxplot\n",
    "plt.figure(figsize=(12, 6))\n",
    "sns.boxplot(data=purchase_df, x='Categoria', y='Preço', palette='viridis')\n",
    "plt.title('Distribuição de Preços por Categoria')\n",
    "plt.xlabel('Categoria')\n",
    "plt.ylabel('Preço')\n",
    "plt.xticks(rotation=45)\n",
    "plt.tight_layout()\n",
    "plt.show()\n"
   ]
  },
  {
   "cell_type": "markdown",
   "metadata": {},
   "source": [
    "# Categoria que mais vendeu"
   ]
  },
  {
   "cell_type": "code",
   "execution_count": 8,
   "metadata": {},
   "outputs": [
    {
     "name": "stdout",
     "output_type": "stream",
     "text": [
      "A categoria que vendeu mais foi: 'Electronics' com um total de 13 vendas.\n"
     ]
    }
   ],
   "source": [
    "import pandas as pd\n",
    "\n",
    "# Assumindo que purchase_df já contém os dados das compras e que a coluna 'Categoria' está atualizada\n",
    "\n",
    "# Contando o número de vendas por categoria\n",
    "sales_by_category = purchase_df['Categoria'].value_counts()\n",
    "\n",
    "# Identificando a categoria que mais vendeu\n",
    "top_category = sales_by_category.idxmax()\n",
    "top_sales = sales_by_category.max()\n",
    "\n",
    "# Exibindo o resultado\n",
    "print(f\"A categoria que vendeu mais foi: '{top_category}' com um total de {top_sales} vendas.\")\n"
   ]
  },
  {
   "cell_type": "code",
   "execution_count": 9,
   "metadata": {},
   "outputs": [
    {
     "name": "stdout",
     "output_type": "stream",
     "text": [
      "Vendas por categoria, do menor para o maior:\n",
      "Categoria\n",
      "Home & Garden     9\n",
      "Clothing         12\n",
      "Electronics      13\n",
      "Name: count, dtype: int64\n"
     ]
    }
   ],
   "source": [
    "import pandas as pd\n",
    "\n",
    "# Assumindo que purchase_df já contém os dados das compras e que a coluna 'Categoria' está atualizada\n",
    "\n",
    "# Contando o número de vendas por categoria\n",
    "sales_by_category = purchase_df['Categoria'].value_counts()\n",
    "\n",
    "# Ordenando as categorias do menor para o maior número de vendas\n",
    "sorted_sales = sales_by_category.sort_values(ascending=True)\n",
    "\n",
    "# Exibindo o resultado\n",
    "print(\"Vendas por categoria, do menor para o maior:\")\n",
    "print(sorted_sales)\n"
   ]
  },
  {
   "cell_type": "markdown",
   "metadata": {},
   "source": [
    "# Baseado nas medidas descritivas é possível saber qual categoria poderia ter mais investmento ?"
   ]
  }
 ],
 "metadata": {
  "kernelspec": {
   "display_name": "Python 3",
   "language": "python",
   "name": "python3"
  },
  "language_info": {
   "codemirror_mode": {
    "name": "ipython",
    "version": 3
   },
   "file_extension": ".py",
   "mimetype": "text/x-python",
   "name": "python",
   "nbconvert_exporter": "python",
   "pygments_lexer": "ipython3",
   "version": "3.12.3"
  }
 },
 "nbformat": 4,
 "nbformat_minor": 2
}

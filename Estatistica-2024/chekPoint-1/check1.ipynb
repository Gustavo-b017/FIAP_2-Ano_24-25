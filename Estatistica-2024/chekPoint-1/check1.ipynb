{
 "cells": [
  {
   "cell_type": "markdown",
   "metadata": {},
   "source": [
    "## Grupo:\n",
    "\n",
    "1. Felipe Ferreira, RM:553680\n",
    "2. Gilson Dias, RM:552345\n",
    "3. Gustavo Bezerra, RM:553076\n",
    "4. Joseh Gabriel, RM:553094"
   ]
  },
  {
   "cell_type": "markdown",
   "metadata": {},
   "source": [
    "# Resolução do exercício 1\n",
    "\n",
    "   ### Na coluna \"OBRA A\" o tipo de dado é qualitativo nominal.\n",
    "\n",
    "   ### Na coluna \"CREATED\" o tipo de dado é quantitativo contínuo, porque levamos em consideração os milisegundos, onde fica extemamente dificil a mesma data e hora se repetir.\n",
    "\n",
    "   ### Na coluna \"DESCRICAO\" o tipo de dado é qualitativo nominal, pois trata-se de uma descrição e não envolve uma hierarquia.\n",
    "\n",
    "   ### Na coluna \"CLASSE_COMP\" o tipo de dado é qualitativo nominal.\n",
    "   \n",
    "   ### Na coluna \"INSUMO_ATUAL\" o tipo de dado é qualitativo nominal.\n",
    "\n",
    "   ### Na coluna \"IP_D\" o tipo de dado é quantitativo contínuo, pois não trata-se de um número inteiro, e que pode ocorrer infinitos numeros dentro da linha.\n",
    "\n",
    "   ### Na coluna \"UNIDADE\" o tipo de dado é quantitativo continuo pois \"H\" de horas pode assumir números decimais, como 3:30 horas.\n",
    "      Pois para definir isso dependemos muito da visao de quem analisa os dados. Podendo o analista ser exato na hora de medicao ou usando um valor aproximado. (ex: se usarmos 2 horas, e fizermos 5.5 m^2, o resultado da produtividade seria: 0.3636...H/m^2, dependendo do analista, usaria o valor de 0.36, e outro analista iria fazer a apriximacao para 0.3 ou colocar em um intervalo, tipo: 0.0 ate 0.5 )\n",
    "\n",
    "   ### Na coluna \"COEF_SIURB\" o tipo de dado é quantitativo continuo, pois trata-se de um numero que pode assumir qualquer numero, desde decimais ate numeros inteiros.\n"
   ]
  },
  {
   "cell_type": "code",
   "execution_count": 13,
   "metadata": {},
   "outputs": [
    {
     "data": {
      "text/html": [
       "<div>\n",
       "<style scoped>\n",
       "    .dataframe tbody tr th:only-of-type {\n",
       "        vertical-align: middle;\n",
       "    }\n",
       "\n",
       "    .dataframe tbody tr th {\n",
       "        vertical-align: top;\n",
       "    }\n",
       "\n",
       "    .dataframe thead th {\n",
       "        text-align: right;\n",
       "    }\n",
       "</style>\n",
       "<table border=\"1\" class=\"dataframe\">\n",
       "  <thead>\n",
       "    <tr style=\"text-align: right;\">\n",
       "      <th></th>\n",
       "      <th>Unnamed: 0</th>\n",
       "      <th>OBRA</th>\n",
       "      <th>CREATED</th>\n",
       "      <th>DESCRICAO</th>\n",
       "      <th>CLASSE_COMP</th>\n",
       "      <th>INSUMO_ATUAL</th>\n",
       "      <th>IP_D</th>\n",
       "      <th>UNIDADE</th>\n",
       "      <th>COEF_SIURB</th>\n",
       "    </tr>\n",
       "  </thead>\n",
       "  <tbody>\n",
       "    <tr>\n",
       "      <th>0</th>\n",
       "      <td>1</td>\n",
       "      <td>Obra A</td>\n",
       "      <td>2021-02-03 11:17:30</td>\n",
       "      <td>BLOCOS VAZADOS DE CONCRETO APARENTE - 19CM</td>\n",
       "      <td>ALVENARIA BLOCO APARENTE</td>\n",
       "      <td>MAO DE OBRA</td>\n",
       "      <td>0.342452</td>\n",
       "      <td>H/M2</td>\n",
       "      <td>1.9449</td>\n",
       "    </tr>\n",
       "    <tr>\n",
       "      <th>1</th>\n",
       "      <td>2</td>\n",
       "      <td>Obra A</td>\n",
       "      <td>2021-02-03 12:22:30</td>\n",
       "      <td>BLOCOS VAZADOS DE CONCRETO APARENTE - 19CM</td>\n",
       "      <td>ALVENARIA BLOCO APARENTE</td>\n",
       "      <td>MAO DE OBRA</td>\n",
       "      <td>0.724638</td>\n",
       "      <td>H/M2</td>\n",
       "      <td>1.9449</td>\n",
       "    </tr>\n",
       "    <tr>\n",
       "      <th>2</th>\n",
       "      <td>3</td>\n",
       "      <td>Obra A</td>\n",
       "      <td>2021-02-04 11:44:00</td>\n",
       "      <td>BLOCOS VAZADOS DE CONCRETO APARENTE - 19CM</td>\n",
       "      <td>ALVENARIA BLOCO APARENTE</td>\n",
       "      <td>MAO DE OBRA</td>\n",
       "      <td>1.123611</td>\n",
       "      <td>H/M2</td>\n",
       "      <td>1.9449</td>\n",
       "    </tr>\n",
       "    <tr>\n",
       "      <th>3</th>\n",
       "      <td>4</td>\n",
       "      <td>Obra A</td>\n",
       "      <td>2021-02-04 12:23:00</td>\n",
       "      <td>BLOCOS VAZADOS DE CONCRETO APARENTE - 19CM</td>\n",
       "      <td>ALVENARIA BLOCO APARENTE</td>\n",
       "      <td>MAO DE OBRA</td>\n",
       "      <td>2.034783</td>\n",
       "      <td>H/M2</td>\n",
       "      <td>1.9449</td>\n",
       "    </tr>\n",
       "    <tr>\n",
       "      <th>4</th>\n",
       "      <td>5</td>\n",
       "      <td>Obra A</td>\n",
       "      <td>2021-02-04 12:40:00</td>\n",
       "      <td>BLOCOS VAZADOS DE CONCRETO APARENTE - 19CM</td>\n",
       "      <td>ALVENARIA BLOCO APARENTE</td>\n",
       "      <td>MAO DE OBRA</td>\n",
       "      <td>1.037037</td>\n",
       "      <td>H/M2</td>\n",
       "      <td>1.9449</td>\n",
       "    </tr>\n",
       "  </tbody>\n",
       "</table>\n",
       "</div>"
      ],
      "text/plain": [
       "   Unnamed: 0    OBRA              CREATED  \\\n",
       "0           1  Obra A  2021-02-03 11:17:30   \n",
       "1           2  Obra A  2021-02-03 12:22:30   \n",
       "2           3  Obra A  2021-02-04 11:44:00   \n",
       "3           4  Obra A  2021-02-04 12:23:00   \n",
       "4           5  Obra A  2021-02-04 12:40:00   \n",
       "\n",
       "                                    DESCRICAO               CLASSE_COMP  \\\n",
       "0  BLOCOS VAZADOS DE CONCRETO APARENTE - 19CM  ALVENARIA BLOCO APARENTE   \n",
       "1  BLOCOS VAZADOS DE CONCRETO APARENTE - 19CM  ALVENARIA BLOCO APARENTE   \n",
       "2  BLOCOS VAZADOS DE CONCRETO APARENTE - 19CM  ALVENARIA BLOCO APARENTE   \n",
       "3  BLOCOS VAZADOS DE CONCRETO APARENTE - 19CM  ALVENARIA BLOCO APARENTE   \n",
       "4  BLOCOS VAZADOS DE CONCRETO APARENTE - 19CM  ALVENARIA BLOCO APARENTE   \n",
       "\n",
       "  INSUMO_ATUAL      IP_D UNIDADE  COEF_SIURB  \n",
       "0  MAO DE OBRA  0.342452    H/M2      1.9449  \n",
       "1  MAO DE OBRA  0.724638    H/M2      1.9449  \n",
       "2  MAO DE OBRA  1.123611    H/M2      1.9449  \n",
       "3  MAO DE OBRA  2.034783    H/M2      1.9449  \n",
       "4  MAO DE OBRA  1.037037    H/M2      1.9449  "
      ]
     },
     "execution_count": 13,
     "metadata": {},
     "output_type": "execute_result"
    }
   ],
   "source": [
    "import pandas as pd\n",
    "df = pd.read_csv('dados_produtividade_construcao.csv')\n",
    "df.head()"
   ]
  },
  {
   "cell_type": "markdown",
   "metadata": {},
   "source": [
    "# Resolução do exercício 2\n",
    "\n",
    "### Por que a obra B foi a que mais conseguiu produzir quantitades de metros quadrados em menor quantidade de tempo ?\n",
    "\n",
    "### Por que a obra A foi a que menos teve quantidade de apropriações(eventos registrados) ?\n",
    "\n",
    "### Porque os resultados da B diferem tanto dos resultados da A e C?\n",
    "\n",
    "### Qual é a relacao da espessura de blocos com a produtividade\n",
    "\n",
    "### Por que a obra B é a que mais tem frequência de  dados no intervalo da moda ? \n",
    "\n",
    "### Qual obra tem a maior variabilidade na produtividade?\n",
    "\n",
    "### Existe correlação entre o tipo de bloco e a produtividade?\n"
   ]
  },
  {
   "cell_type": "markdown",
   "metadata": {},
   "source": [
    "# Resolução do exercício 3\n",
    "\n",
    "### Sim, há diferença de produtividade entre as obras. <br> A obra mais produtiva é a obra B, pois na coluna da média é possível perceber que a obra B foi a que teve a menor média, justificando assim a menor quantidade de tempo para produzir 1 metro  quadrado. <br> Enquanto isso, a obra menos produtiva foi a obra A, com  a maior média e consequentemente maior tempo gasto para produzir.<br> Os motivos para isso acontecer pode incluir a eficiência da equipe, qualidade dos materiais, condições do local e ate mesmo as relacoes dos funcionarios."
   ]
  },
  {
   "cell_type": "markdown",
   "metadata": {},
   "source": [
    "# Resolução do exercício 4\n",
    "\n",
    "### Sim, há diferença de produtividade  entre os blocos. O bloco mais produtivo é o de 9 CM , por ser o que menos usa recurso de material, além de ser o penúltimo bloco que apresenta uma das menores médias, ficando com 1.22 de média de produtividade, perdendo apenas para o bloco de 14 cm com 1.02 de média. <br> Porém o bloco de 14 centímetro utiliza mais recurso de material, sendo assim mais gasto do que utilizar 9 cm. Para finalizar o bloco de 9 CM tem menor mediana do que o de 14 CM.\n",
    "\n",
    "### O bloco de concreto aparente de 19 CM é o menos produtivo , por apresentar a maior média de tempo gasto para produzir 1 metro quadrado além de utilizar a maior quantidade de material."
   ]
  },
  {
   "cell_type": "markdown",
   "metadata": {},
   "source": [
    "# Resolução do exercício 5\n",
    "\n",
    "## A  média e mediana estavam muito próximas umas das outras. <br> Mas a presença de outliers é possível, principalmente a obra A, pois tem a menor quantidade de dados, tem a maior variacao de produtividade no dia (tem dias que a produtividade e extremamente alta, e no dia seguinte a menor produtividade), mas no contexto geral é o menos produtivo"
   ]
  },
  {
   "cell_type": "markdown",
   "metadata": {},
   "source": [
    "# Resolução do exercício 6 \n",
    "\n",
    "## O bloco de concreto aparente de 19cm é menos previsivel, pois apresenta a maior 'largura', ou seja, tem a maior variabilidade de dados. <br> Porem, O bloco de 9 CM tem a produtividade mais previsível sendo a mediana dos dados mais proximas entre si, e com menor variabilidade."
   ]
  },
  {
   "cell_type": "markdown",
   "metadata": {},
   "source": []
  },
  {
   "cell_type": "markdown",
   "metadata": {},
   "source": [
    "# Resolução do exercício 7\n",
    "\n",
    "### O coeficiente é calculado considerando a quantidade de material, tempo de execução, e custos associados. É uma média ponderada que reflete a eficiência e os recursos necessários para completar uma tarefa específica."
   ]
  },
  {
   "cell_type": "markdown",
   "metadata": {},
   "source": [
    "# Resolução do exercício 8\n",
    "\n",
    "### A disciplina está interessante e bem estruturada. Conceitos de estatística e análise de dados são bem explicados. Algumas partes sobre a aplicação prática dos conceitos poderiam ser mais detalhadas (em especial os codigos em python [o boxplot]), mas no geral, o conteúdo é muito útil e aplicável. E tambem, adoramos o fato de poder usar casos reais, as aulas gravadas para termos uma ideia do conteudo, e tambem a maneira dinamica que ocorre as aulas."
   ]
  }
 ],
 "metadata": {
  "kernelspec": {
   "display_name": "Python 3",
   "language": "python",
   "name": "python3"
  },
  "language_info": {
   "codemirror_mode": {
    "name": "ipython",
    "version": 3
   },
   "file_extension": ".py",
   "mimetype": "text/x-python",
   "name": "python",
   "nbconvert_exporter": "python",
   "pygments_lexer": "ipython3",
   "version": "3.12.3"
  }
 },
 "nbformat": 4,
 "nbformat_minor": 2
}

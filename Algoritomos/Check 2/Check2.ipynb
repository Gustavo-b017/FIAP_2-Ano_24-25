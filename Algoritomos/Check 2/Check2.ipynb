{
 "cells": [
  {
   "cell_type": "markdown",
   "metadata": {},
   "source": [
    "# Exercícios: \n",
    "### (1) Dado uma lista ordenada L e um elemento x, remove x de L mantendo a lista ordenada;"
   ]
  },
  {
   "cell_type": "code",
   "execution_count": 1,
   "metadata": {},
   "outputs": [
    {
     "name": "stdout",
     "output_type": "stream",
     "text": [
      "[1, 2, 3, 4, 5, 6, 7, 9, 10]\n"
     ]
    }
   ],
   "source": [
    "def remove_elemento(L, x):\n",
    "  if x in L:\n",
    "    L.remove(x)\n",
    "  return L\n",
    "\n",
    "L = [1, 2, 3, 4, 5, 6, 7, 8, 9, 10]\n",
    "x = 8\n",
    "L = remove_elemento(L, x)\n",
    "print(L)  "
   ]
  },
  {
   "cell_type": "markdown",
   "metadata": {},
   "source": [
    "### (2) Considere uma pilha P e que foram executas as operações abaixo (na ordem em que forma escritas)\n",
    "- push/empilha 2\n",
    "- push/empilha 3\n",
    "- push/empilha 5\n",
    "- remove/pop um elemento da pilha\n",
    "- remove/pop um elemento da pilha\n",
    "- push/empilha 1\n",
    "- Escreva os elementos que estão na pilha, do base para o topo. Você pode usar um código em Python para verificar a situação da pilha P;"
   ]
  },
  {
   "cell_type": "code",
   "execution_count": 2,
   "metadata": {},
   "outputs": [
    {
     "name": "stdout",
     "output_type": "stream",
     "text": [
      "[2, 1]\n"
     ]
    }
   ],
   "source": [
    "class Pilha:\n",
    "  def __init__(self):\n",
    "    self.itens = []\n",
    "\n",
    "  def empilha(self, item):\n",
    "    self.itens.append(item)\n",
    "\n",
    "  def desempilha(self):\n",
    "    if not self.esta_vazia():\n",
    "      return self.itens.pop() \n",
    "    return None\n",
    "\n",
    "  def esta_vazia(self):\n",
    "    return len(self.itens) == 0\n",
    "\n",
    "  def __str__(self):\n",
    "    return str(self.itens)\n",
    "\n",
    "# Criar a pilha\n",
    "P = Pilha()\n",
    "\n",
    "P.empilha(2)\n",
    "P.empilha(3)\n",
    "P.empilha(5)\n",
    "P.desempilha()\n",
    "P.desempilha()\n",
    "P.empilha(1)\n",
    "\n",
    "print(P) "
   ]
  },
  {
   "cell_type": "markdown",
   "metadata": {},
   "source": [
    "### (3) Considere uma fila F e que foram executas as operações abaixo (na ordem em que forma escritas) \n",
    "- insere o 2\n",
    "- insere o 3\n",
    "- remove um elemento da fila\n",
    "- insere o 5\n",
    "- remove um elemento da fila\n",
    "- insere o 1\n",
    "- Escreva os elementos que estão na fila, do início para o fim. Você pode usar um código em Python para verificar a situação da pilha F."
   ]
  },
  {
   "cell_type": "code",
   "execution_count": 3,
   "metadata": {},
   "outputs": [
    {
     "name": "stdout",
     "output_type": "stream",
     "text": [
      "[5, 1]\n"
     ]
    }
   ],
   "source": [
    "class Fila:\n",
    "  def __init__(self):\n",
    "    self.itens = []\n",
    "\n",
    "  def insere(self, item):\n",
    "    self.itens.append(item)\n",
    "\n",
    "  def remove(self):\n",
    "    if not self.vazia():\n",
    "      return self.itens.pop(0)\n",
    "    return None\n",
    "\n",
    "  def vazia(self):\n",
    "    return len(self.itens) == 0\n",
    "\n",
    "  def __str__(self):\n",
    "    return str(self.itens)\n",
    "  \n",
    "F = Fila()\n",
    "F.insere(2)\n",
    "F.insere(3)\n",
    "F.remove()\n",
    "F.insere(5)\n",
    "F.remove()\n",
    "F.insere(1)\n",
    "\n",
    "print(F)"
   ]
  }
 ],
 "metadata": {
  "kernelspec": {
   "display_name": "Python 3",
   "language": "python",
   "name": "python3"
  },
  "language_info": {
   "codemirror_mode": {
    "name": "ipython",
    "version": 3
   },
   "file_extension": ".py",
   "mimetype": "text/x-python",
   "name": "python",
   "nbconvert_exporter": "python",
   "pygments_lexer": "ipython3",
   "version": "3.11.9"
  }
 },
 "nbformat": 4,
 "nbformat_minor": 2
}

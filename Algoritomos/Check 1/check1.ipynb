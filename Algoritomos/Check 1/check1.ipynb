{
 "cells": [
  {
   "cell_type": "markdown",
   "metadata": {},
   "source": [
    "Considerando os algoritmos Insertion Sort, Selection Sort e Bubble\n",
    "Sort, realize as seguintes atividades:\n",
    "\n",
    "(1) faça uma implementação destes algoritmos usando uma variável que conta a\n",
    "quantidade de trocas que cada algoritmo faz; - OKAY\n",
    "\n",
    "(2) execute as implementações para vetores ordenados em ordem crescente,\n",
    "decrescente e vetores não ordenados e anote o número de trocas; - OKAY\n",
    "\n",
    "(3) analise o número de trocas para cada uma das entradas e diga, caso\n",
    "exista um, qual é o algoritmo mais eficiente (baseado no número de\n",
    "trocas)."
   ]
  },
  {
   "cell_type": "code",
   "execution_count": 5,
   "metadata": {},
   "outputs": [
    {
     "name": "stdout",
     "output_type": "stream",
     "text": [
      "lista ordenada: [0, 1, 2, 3, 4, 4, 5, 6, 6, 7, 15, 42, 45, 53, 62, 68, 262, 3145]\n",
      "numero de trocas na lista ordenada: 0\n",
      "numero de trocas na lista decrescente: 6\n",
      "numero de trocas na lista aleatoria:: 13\n"
     ]
    }
   ],
   "source": [
    "aleatorio = [5, 3, 2, 4, 7, 1, 0, 6, 6, 15, 45, 53, 262, 3145, 4, 42, 68, 62]\n",
    "ordenado = [0, 1, 2, 3, 4, 4, 5, 6, 6, 7, 15, 42, 50]\n",
    "decrescente = [50, 42, 15, 7, 6, 6, 5, 4, 4, 3, 2, 1, 0]\n",
    "\n",
    "def selection_sort(lista):\n",
    "    trocas = 0\n",
    "\n",
    "    for i in range(len(lista)):\n",
    "        indice_min = i\n",
    "        \n",
    "        for j in range(i + 1, len(lista)):\n",
    "            if lista[j] < lista[indice_min]:\n",
    "                indice_min = j\n",
    "        \n",
    "        if i != indice_min:\n",
    "            lista[i], lista[indice_min] = lista[indice_min], lista[i]\n",
    "            trocas += 1\n",
    "    return trocas\n",
    "\n",
    "trocas = selection_sort(aleatorio)\n",
    "ordenado = selection_sort(ordenado)\n",
    "decrescente = selection_sort(decrescente)\n",
    "\n",
    "print(f\"lista ordenada: {aleatorio}\")\n",
    "print(f\"numero de trocas na lista ordenada: {ordenado}\")\n",
    "print(f\"numero de trocas na lista decrescente: {decrescente}\")\n",
    "print(f\"numero de trocas na lista aleatoria:: {trocas}\")"
   ]
  },
  {
   "cell_type": "code",
   "execution_count": 2,
   "metadata": {},
   "outputs": [
    {
     "name": "stdout",
     "output_type": "stream",
     "text": [
      "lista ordenada: [0, 1, 2, 3, 4, 4, 5, 6, 6, 7, 15, 42, 45, 53, 62, 68, 262, 3145]\n",
      "numero de trocas na lista ordenada: 0\n",
      "numero de trocas na lista decrescente: 76\n",
      "numero de trocas na lista aleatoria:: 35\n"
     ]
    }
   ],
   "source": [
    "aleatorio = [5, 3, 2, 4, 7, 1, 0, 6, 6, 15, 45, 53, 262, 3145, 4, 42, 68, 62]\n",
    "ordenado = [0, 1, 2, 3, 4, 4, 5, 6, 6, 7, 15, 42, 50]\n",
    "decrescente = [50, 42, 15, 7, 6, 6, 5, 4, 4, 3, 2, 1, 0]\n",
    "\n",
    "def insertion_sort(lista):\n",
    "    trocas = 0\n",
    "\n",
    "    for i in range(1, len(lista)):\n",
    "        chave = lista[i]\n",
    "        j = i - 1\n",
    "    \n",
    "        while j >= 0 and lista[j] > chave:\n",
    "            lista[j + 1] = lista[j]\n",
    "            j -= 1\n",
    "\n",
    "            trocas += 1\n",
    "\n",
    "        lista[j + 1] = chave\n",
    "    return trocas\n",
    "\n",
    "trocas = insertion_sort(aleatorio)\n",
    "ordenado = insertion_sort(ordenado)\n",
    "decrescente = insertion_sort(decrescente)\n",
    "\n",
    "print(f\"lista ordenada: {aleatorio}\")\n",
    "print(f\"numero de trocas na lista ordenada: {ordenado}\")\n",
    "print(f\"numero de trocas na lista decrescente: {decrescente}\")\n",
    "print(f\"numero de trocas na lista aleatoria:: {trocas}\")"
   ]
  },
  {
   "cell_type": "code",
   "execution_count": 3,
   "metadata": {},
   "outputs": [
    {
     "name": "stdout",
     "output_type": "stream",
     "text": [
      "lista ordenada: [0, 1, 2, 3, 4, 4, 5, 6, 6, 7, 15, 42, 45, 53, 62, 68, 262, 3145]\n",
      "numero de trocas na lista ordenada: 0\n",
      "numero de trocas na lista decrescente: 76\n",
      "numero de trocas na lista aleatoria:: 35\n"
     ]
    }
   ],
   "source": [
    "aleatorio = [5, 3, 2, 4, 7, 1, 0, 6, 6, 15, 45, 53, 262, 3145, 4, 42, 68, 62]\n",
    "ordenado = [0, 1, 2, 3, 4, 4, 5, 6, 6, 7, 15, 42, 50]\n",
    "decrescente = [50, 42, 15, 7, 6, 6, 5, 4, 4, 3, 2, 1, 0]\n",
    "\n",
    "def bubble_sort(lista):\n",
    "    trocas = 0\n",
    "\n",
    "    tamanho = len(lista)\n",
    "    i = 0\n",
    "    troca = True\n",
    "    \n",
    "    while i < tamanho - 1 and troca:\n",
    "        troca = False\n",
    "    \n",
    "        for j in range(tamanho - i - 1):\n",
    "            if lista[j] > lista[j + 1]:\n",
    "\n",
    "                lista[j], lista[j + 1] = lista[j + 1], lista[j]\n",
    "                trocas += 1\n",
    "                troca = True\n",
    "        i += 1\n",
    "    return trocas\n",
    "\n",
    "trocas = insertion_sort(aleatorio)\n",
    "ordenado = insertion_sort(ordenado)\n",
    "decrescente = insertion_sort(decrescente)\n",
    "\n",
    "print(f\"lista ordenada: {aleatorio}\")\n",
    "print(f\"numero de trocas na lista ordenada: {ordenado}\")\n",
    "print(f\"numero de trocas na lista decrescente: {decrescente}\")\n",
    "print(f\"numero de trocas na lista aleatoria:: {trocas}\")"
   ]
  }
 ],
 "metadata": {
  "kernelspec": {
   "display_name": "Python 3",
   "language": "python",
   "name": "python3"
  },
  "language_info": {
   "codemirror_mode": {
    "name": "ipython",
    "version": 3
   },
   "file_extension": ".py",
   "mimetype": "text/x-python",
   "name": "python",
   "nbconvert_exporter": "python",
   "pygments_lexer": "ipython3",
   "version": "3.11.9"
  }
 },
 "nbformat": 4,
 "nbformat_minor": 2
}

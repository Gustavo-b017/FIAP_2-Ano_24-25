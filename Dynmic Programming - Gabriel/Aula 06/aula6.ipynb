{
 "cells": [
  {
   "cell_type": "code",
   "execution_count": 9,
   "metadata": {},
   "outputs": [
    {
     "name": "stdout",
     "output_type": "stream",
     "text": [
      "[2, 4, 5, 6, 8, 10]\n"
     ]
    }
   ],
   "source": [
    "## cria uma lista com os números pares de 2 a 10\n",
    "V = [i for i in range(2, 10 +2, 2)]\n",
    "\n",
    "## desejo inserir o número 5 na lista V\n",
    "x = 5\n",
    "\n",
    "## faço a inserção do 5 no fim da lista. \n",
    "V.append(5)\n",
    "\n",
    "\n",
    "## começo o processo de inserir no novo elemento na posição\n",
    "## correta (usando o mesmo loop do insertion sort)\n",
    "## o índice i marca o início de onde irei começar o processo\n",
    "## de sobrescrever os elementos (vou mover os elementos da\n",
    "## posição i-1 para i)\n",
    "i = len(V) -2\n",
    "\n",
    "#  o while coloca o 5 na posição adequada\n",
    "## processo de deslocar os elementos da posição i-1 para i\n",
    "while i >= 0 and V[i] > x:\n",
    "    V[i+1] = V[i] \n",
    "    i -= 1\n",
    "V[i+1] = x\n",
    "\n",
    "## mostro a lista após a inserção e o deslocamento dos elementos,\n",
    "## que mantém a lista ordenada\n",
    "print(V)\n"
   ]
  },
  {
   "cell_type": "code",
   "execution_count": 11,
   "metadata": {},
   "outputs": [
    {
     "name": "stdout",
     "output_type": "stream",
     "text": [
      "2 sera removido\n",
      "[3, 4, 6, 10, None]\n"
     ]
    }
   ],
   "source": [
    "from typing import Any\n",
    "\n",
    "def busca_sequencial(l: list[any], x: int) -> int:\n",
    "    for i in range(len(l)):\n",
    "        if l[i] == x:\n",
    "            return i\n",
    "        return -1\n",
    "\n",
    "lista = [2,3,4,6,10]\n",
    "x = 2\n",
    "i = busca_sequencial(lista, x)\n",
    "\n",
    "if i != -1:\n",
    "    print(f\"{x} sera removido\")\n",
    "    for j in range(i+1, len(lista)):\n",
    "        lista[j-1] = lista[j]\n",
    "    \n",
    "    lista[len(lista) - 1] = None\n",
    "    print(lista)\n",
    "else:\n",
    "    print(f\"{x} nao pertence a lista\")\n",
    "\n"
   ]
  }
 ],
 "metadata": {
  "kernelspec": {
   "display_name": "Python 3",
   "language": "python",
   "name": "python3"
  },
  "language_info": {
   "codemirror_mode": {
    "name": "ipython",
    "version": 3
   },
   "file_extension": ".py",
   "mimetype": "text/x-python",
   "name": "python",
   "nbconvert_exporter": "python",
   "pygments_lexer": "ipython3",
   "version": "3.12.3"
  }
 },
 "nbformat": 4,
 "nbformat_minor": 2
}

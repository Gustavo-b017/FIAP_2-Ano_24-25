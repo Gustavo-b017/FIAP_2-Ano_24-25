{
 "cells": [
  {
   "cell_type": "markdown",
   "metadata": {},
   "source": [
    "Considerando os algoritmos Insertion Sort, Selection Sort e Bubble\n",
    "Sort, realize as seguintes atividades:\n",
    "\n",
    "(1) faça uma implementação destes algoritmos usando uma variável que conta a\n",
    "quantidade de trocas que cada algoritmo faz; - OKAY\n",
    "\n",
    "(2) execute as implementações para vetores ordenados em ordem crescente,\n",
    "decrescente e vetores não ordenados e anote o número de trocas; - OKAY\n",
    "\n",
    "(3) analise o número de trocas para cada uma das entradas e diga, caso\n",
    "exista um, qual é o algoritmo mais eficiente (baseado no número de\n",
    "trocas)."
   ]
  },
  {
   "cell_type": "code",
   "execution_count": 26,
   "metadata": {},
   "outputs": [
    {
     "name": "stdout",
     "output_type": "stream",
     "text": [
      "lista ordenada: [0, 1, 2, 3, 4, 4, 5, 6, 6, 7, 15, 42, 45, 53, 62, 68, 262, 3145]\n",
      "numero de trocas na lista ordenada: 0\n",
      "numero de trocas na lista decrescente: 32\n",
      "numero de trocas na lista aleatoria:: 21\n"
     ]
    }
   ],
   "source": [
    "aleatorio = [5, 3, 2, 4, 7, 1, 0, 6, 6, 15, 45, 53, 262, 3145, 4, 42, 68, 62]\n",
    "ordenado = [0, 1, 2, 3, 4, 4, 5, 6, 6, 7, 15, 42, 50]\n",
    "decrescente = [50, 42, 15, 7, 6, 6, 5, 4, 4, 3, 2, 1, 0]\n",
    "\n",
    "def selection_sort(vetor: list[any]) -> None:\n",
    "    trocas = 0\n",
    "\n",
    "    for i, _ in enumerate(vetor):\n",
    "        indice_min = i \n",
    "\n",
    "        for j in range(i + 1, len(vetor)):\n",
    "            if vetor[j] < vetor[indice_min]:\n",
    "                indice_min = j  \n",
    "                trocas += 1\n",
    "\n",
    "        vetor[i], vetor[indice_min] = vetor[indice_min], vetor[i]\n",
    "\n",
    "    return trocas\n",
    "\n",
    "\n",
    "trocas = selection_sort(aleatorio)\n",
    "ordenado = selection_sort(ordenado)\n",
    "decrescente = selection_sort(decrescente)\n",
    "\n",
    "print(f\"lista ordenada: {aleatorio}\")\n",
    "print(f\"numero de trocas na lista ordenada: {ordenado}\")\n",
    "print(f\"numero de trocas na lista decrescente: {decrescente}\")\n",
    "print(f\"numero de trocas na lista aleatoria:: {trocas}\")"
   ]
  },
  {
   "cell_type": "code",
   "execution_count": 10,
   "metadata": {},
   "outputs": [
    {
     "name": "stdout",
     "output_type": "stream",
     "text": [
      "lista ordenada: [0, 1, 2, 3, 4, 4, 5, 6, 6, 7, 15, 42, 45, 53, 62, 68, 262, 3145]\n",
      "numero de trocas na lista ordenada: 0\n",
      "numero de trocas na lista decrescente: 76\n",
      "numero de trocas na lista aleatoria:: 35\n"
     ]
    }
   ],
   "source": [
    "aleatorio = [5, 3, 2, 4, 7, 1, 0, 6, 6, 15, 45, 53, 262, 3145, 4, 42, 68, 62]\n",
    "ordenado = [0, 1, 2, 3, 4, 4, 5, 6, 6, 7, 15, 42, 50]\n",
    "decrescente = [50, 42, 15, 7, 6, 6, 5, 4, 4, 3, 2, 1, 0]\n",
    "\n",
    "def insertion_sort(vetor: list[any]) -> None:\n",
    "    trocas = 0\n",
    "\n",
    "    for i in range(1, len(vetor)):\n",
    "        chave = vetor[i]  \n",
    "        j = i - 1 \n",
    "        while j >= 0 and vetor[j] > chave:\n",
    "            vetor[j + 1] = vetor[j]\n",
    "            j -= 1\n",
    "            trocas += 1\n",
    "            \n",
    "        vetor[j + 1] = chave\n",
    "    return trocas\n",
    "\n",
    "trocas = insertion_sort(aleatorio)\n",
    "ordenado = insertion_sort(ordenado)\n",
    "decrescente = insertion_sort(decrescente)\n",
    "\n",
    "print(f\"lista ordenada: {aleatorio}\")\n",
    "print(f\"numero de trocas na lista ordenada: {ordenado}\")\n",
    "print(f\"numero de trocas na lista decrescente: {decrescente}\")\n",
    "print(f\"numero de trocas na lista aleatoria:: {trocas}\")"
   ]
  },
  {
   "cell_type": "code",
   "execution_count": 24,
   "metadata": {},
   "outputs": [
    {
     "name": "stdout",
     "output_type": "stream",
     "text": [
      "lista ordenada: [0, 1, 2, 3, 4, 4, 5, 6, 6, 7, 15, 42, 45, 53, 62, 68, 262, 3145]\n",
      "numero de trocas na lista ordenada: 0\n",
      "numero de trocas na lista decrescente: 76\n",
      "numero de trocas na lista aleatoria:: 35\n"
     ]
    }
   ],
   "source": [
    "aleatorio = [5, 3, 2, 4, 7, 1, 0, 6, 6, 15, 45, 53, 262, 3145, 4, 42, 68, 62]\n",
    "ordenado = [0, 1, 2, 3, 4, 4, 5, 6, 6, 7, 15, 42, 50]\n",
    "decrescente = [50, 42, 15, 7, 6, 6, 5, 4, 4, 3, 2, 1, 0]\n",
    "\n",
    "def bubble_sort(vetor: list[any]) -> None:\n",
    "    tamanho = len(vetor)  \n",
    "    i = 0 \n",
    "    troca = True \n",
    "\n",
    "    trocas = 0\n",
    "\n",
    "    while i < tamanho - 1 and troca:\n",
    "\n",
    "        for j in range(tamanho - i - 1):\n",
    "            if vetor[j] > vetor[j + 1]:\n",
    "                vetor[j], vetor[j + 1] = vetor[j + 1], vetor[j]\n",
    "                troca = True \n",
    "                trocas += 1\n",
    "\n",
    "        i += 1 \n",
    "    return trocas\n",
    "\n",
    "trocas = insertion_sort(aleatorio)\n",
    "ordenado = insertion_sort(ordenado)\n",
    "decrescente = insertion_sort(decrescente)\n",
    "\n",
    "print(f\"lista ordenada: {aleatorio}\")\n",
    "print(f\"numero de trocas na lista ordenada: {ordenado}\")\n",
    "print(f\"numero de trocas na lista decrescente: {decrescente}\")\n",
    "print(f\"numero de trocas na lista aleatoria:: {trocas}\")"
   ]
  },
  {
   "cell_type": "markdown",
   "metadata": {},
   "source": [
    "## Para analisarmos a eficiência dos algoritmos usamos:\n",
    "* Listas padrões para todos os algoritmos\n",
    "* 1 lista aleatória\n",
    "* 1 lista ordenada de forma CRESCENTE\n",
    "* 1 lista ordenada de forma DECRESCENTE\n",
    "* 1 Algoritmo de ordenação de cada tipo (selection_sort, insertion_sort, bubble_sort)\n",
    "\n",
    "## O resultado do MEU experimento local foi (em tópicos):\n",
    "* #### Selection:\n",
    "  * Numero de trocas com lista ordenada de forma ALEATORIA: 21\n",
    "  * Numero de trocas com lista ordenada de forma CRESCENTE: 0\n",
    "  * Numero de trocas com lista ordenada de forma DECRECENTE: 32\n",
    " \n",
    "* #### Insertion:\n",
    "  * Numero de trocas com lista ordenada de forma ALEATORIA: 35\n",
    "  * Numero de trocas com lista ordenada de forma CRESCENTE: 0\n",
    "  * Numero de trocas com lista ordenada de forma DECRECENTE: 76\n",
    "\n",
    "* #### Bubble:\n",
    "  * Numero de trocas com lista ordenada de forma ALEATORIA: 35\n",
    "  * Numero de trocas com lista ordenada de forma CRESCENTE: 0\n",
    "  * Numero de trocas com lista ordenada de forma DECRECENTE: 76\n",
    "\n",
    "## Conclusão:\n",
    "* Todos os algoritmos tem a mesma eficiência, no quesito de trocas, quando se usa lista já ordenadas de forma crescente. Pois o vetor já esta ordenado da forma correta.\n",
    "*  Quando o assunto e sobre ordenar listas Descrentes, o 'Selection sort' fez menos trocas para chegar ao mesmo resultado, levando apenas 32 trocas. Enquanto o insertion e o bubble sort precisaram de exatamente 76 trocas, mais que o dobro do Selection.\n",
    "*  Porem quando se trata de um vetor aleatório, as coisas dão uma equilibrada, e a diferença entre os valores diminui. Sendo que o Selection sort ainda detém o titulo de algoritmo mais eficiente usando apenas 21 trocas até a ordenação. E tanto o Bubble e o Insertion tiveram de novo o mesmo resultado, ficando empatados no numero 35. Nesse contexto os algoritmos dos empatados tiveram a mesma eficiência analisando o numero de trocas.\n",
    "\n",
    "* Conclusão do experimento local:\n",
    "  * O selection sort saiu como o mais eficiente do que os outros dois algoritmos quando testados sob a mesma condição.\n",
    "  * O Bubble e o Insertion tiveram resultados idênticos, não tendo um muitas diferenças no quesito numero de trocas."
   ]
  }
 ],
 "metadata": {
  "kernelspec": {
   "display_name": "Python 3",
   "language": "python",
   "name": "python3"
  },
  "language_info": {
   "codemirror_mode": {
    "name": "ipython",
    "version": 3
   },
   "file_extension": ".py",
   "mimetype": "text/x-python",
   "name": "python",
   "nbconvert_exporter": "python",
   "pygments_lexer": "ipython3",
   "version": "3.12.3"
  }
 },
 "nbformat": 4,
 "nbformat_minor": 2
}

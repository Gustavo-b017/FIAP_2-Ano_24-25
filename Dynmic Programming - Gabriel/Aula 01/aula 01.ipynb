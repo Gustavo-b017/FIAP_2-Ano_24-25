{
 "cells": [
  {
   "cell_type": "markdown",
   "metadata": {},
   "source": [
    "## Selection Sort\n",
    "* #### Vantagens:\n",
    "  * implementacao simples\n",
    "  * nao precisa de uma estrutura de dados auxiliar\n",
    "  * rapido em vetor pequeno\n",
    "  \n",
    "* #### Desvantagens:\n",
    "  * lento para vetores grandes\n",
    "  * complexidade de tempo O(n^2)(sempre)"
   ]
  },
  {
   "cell_type": "code",
   "execution_count": 16,
   "metadata": {},
   "outputs": [
    {
     "data": {
      "text/plain": [
       "[-23, -12, -7, 1, 2, 2, 3, 4, 5, 6, 35, 42, 53, 234, 884, 2943]"
      ]
     },
     "execution_count": 16,
     "metadata": {},
     "output_type": "execute_result"
    }
   ],
   "source": [
    "# criar uma lista nao ordenada\n",
    "lista = [4,6,35,42,53,-12,2,2943,234,-23,5,3,-7,884,2,1]\n",
    "\n",
    "# funcao para ordenar a lista\n",
    "def selection_sort(vetor):\n",
    "    # percorre toda a lista e conta a quantidade de itens\n",
    "    for i in range(len(vetor)):\n",
    "        # cria uma variavel que ira ter receber um numero da lista nao ordenada\n",
    "        id_min = i\n",
    "\n",
    "        # percorre a lista, adiciona 1 ao index( para poder seguir para o proximo numero) e conta a quantidade de numeros no vetor\n",
    "        for j in range(i +1, len(vetor)):\n",
    "            # se o valor de j for menor que o numero do index, ira subistituir o valor da variavel id_min, que contem o numero inicial\n",
    "            if vetor[j] < vetor[id_min]:\n",
    "                id_min = j\n",
    "            # print(vetor)\n",
    "        # ira trocar a posicao dos elementos, no caso, o valor atual ira 'trocar' de lugar com o valor que esta na variavel 'id_min'\n",
    "        vetor[i], vetor[id_min] = vetor[id_min], vetor[i]\n",
    "    return vetor \n",
    "\n",
    "selection_sort(lista)\n"
   ]
  },
  {
   "cell_type": "markdown",
   "metadata": {},
   "source": [
    "## Insertion:\n"
   ]
  },
  {
   "cell_type": "code",
   "execution_count": 18,
   "metadata": {},
   "outputs": [
    {
     "data": {
      "text/plain": [
       "[-23, -12, -7, 1, 2, 2, 3, 4, 5, 6, 35, 42, 53, 234, 884, 2943]"
      ]
     },
     "execution_count": 18,
     "metadata": {},
     "output_type": "execute_result"
    }
   ],
   "source": [
    "lista = [4,6,35,42,53,-12,2,2943,234,-23,5,3,-7,884,2,1]\n",
    "\n",
    "def insertion_sort (vetor):\n",
    "    # ira contar quantos elementos tem na lista e ira comecar pelo index 1, pois ele supoem que o index 0 ja esta na posicao correta\n",
    "    for i in range(1, len(vetor)):\n",
    "        # salva um 'backup' do numero atual para nao perder durante a operacao\n",
    "        chave = vetor[i]\n",
    "        # ira atribuir o numero do index anterior a uma variavel\n",
    "        j = i - 1\n",
    "\n",
    "        # enquanto o j for menor ou igual a 0 e que a chave seja menor do que a parte ja ordenada\n",
    "        while j >= 0 and vetor[j] > chave:\n",
    "            # pega a perte ja ordenada e adiociona mais 1, e nessa etapa que desloca os elementos\n",
    "            vetor[j+1] = vetor[j]\n",
    "            # diminui o valor de j, para pegar o elemento anterior\n",
    "            j-= 1\n",
    "        # adiciona o novo valor a casa criada do novo elemento de j\n",
    "        vetor[j+1] = chave\n",
    "        # print(vetor) \n",
    "    return vetor\n",
    "\n",
    "insertion_sort(lista)"
   ]
  }
 ],
 "metadata": {
  "kernelspec": {
   "display_name": "Python 3",
   "language": "python",
   "name": "python3"
  },
  "language_info": {
   "codemirror_mode": {
    "name": "ipython",
    "version": 3
   },
   "file_extension": ".py",
   "mimetype": "text/x-python",
   "name": "python",
   "nbconvert_exporter": "python",
   "pygments_lexer": "ipython3",
   "version": "3.12.3"
  }
 },
 "nbformat": 4,
 "nbformat_minor": 2
}

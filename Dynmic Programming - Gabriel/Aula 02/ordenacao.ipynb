{
 "cells": [
  {
   "cell_type": "code",
   "execution_count": 17,
   "metadata": {},
   "outputs": [
    {
     "name": "stdout",
     "output_type": "stream",
     "text": [
      "a lista ordenado por selection:  [1, 2, 3, 4, 5, 1726]\n",
      "\n",
      " a lista ordenado por insertion:  [1, 2, 3, 4, 5, 1726]\n"
     ]
    }
   ],
   "source": [
    "#  Implementacao de funcao\n",
    "lista = [3, 2, 1,1726, 5, 4]\n",
    "def selection_sort(vetor: list[any]) -> None:\n",
    "  \n",
    "  \"\"\"\n",
    "  vetor: uma lisa de elementos de tipo qualquer\n",
    "  \"\"\"\n",
    "  for i,_ in enumerate(vetor):\n",
    "    menor = i\n",
    "    \n",
    "    for j in range(i+1, len(vetor)):\n",
    "      if vetor[j] < vetor[menor]:\n",
    "        menor = j \n",
    "    \n",
    "    vetor[i], vetor[menor] = vetor[menor], vetor[i] \n",
    "  return(vetor)\n",
    "\n",
    "def insertion_sort(vetor: list[any]) -> None:\n",
    "  \n",
    "  for i in range(1, len( vetor)):\n",
    "    chave = vetor[i]\n",
    "    j = i - 1\n",
    "    \n",
    "    while j >= 0 and vetor[j] > chave:\n",
    "      vetor[j + 1] = vetor[j]\n",
    "      j -= 1\n",
    "    \n",
    "    vetor[j + 1] = chave\n",
    "  return vetor\n",
    "print('a lista ordenado por selection: ',selection_sort(lista) )\n",
    "\n",
    "print('\\n a lista ordenado por insertion: ',insertion_sort(lista)) "
   ]
  },
  {
   "cell_type": "markdown",
   "metadata": {},
   "source": [
    "## Bubble"
   ]
  },
  {
   "cell_type": "code",
   "execution_count": null,
   "metadata": {},
   "outputs": [],
   "source": [
    "def bubble_sort(vetor: list[any]) -> None:\n",
    "  tamanho = len(vetor)\n",
    "  i = 0\n",
    "  troca = True\n",
    "  \n",
    "  while i < tamanho -1 and troca != False:\n",
    "    troca = False\n",
    "    \n",
    "    for j in range(tamanho - i - 1):\n",
    "      if vetor[j] > vetor[j+1]:\n",
    "        vetor[j], vetor[j+1] = vetor[j+1], vetor[j]\n",
    "        troca = True\n",
    "    i += 1\n",
    "  return vetor"
   ]
  },
  {
   "cell_type": "markdown",
   "metadata": {},
   "source": []
  },
  {
   "cell_type": "markdown",
   "metadata": {},
   "source": [
    "## verifica se a importacao de um algoritmo esta correta\n"
   ]
  },
  {
   "cell_type": "code",
   "execution_count": 6,
   "metadata": {},
   "outputs": [
    {
     "name": "stdout",
     "output_type": "stream",
     "text": [
      "Invalid input argument. Using default value for n.\n"
     ]
    },
    {
     "ename": "ValueError",
     "evalue": "invalid literal for int() with base 10: '--f=c:\\\\Users\\\\Gustavo\\\\AppData\\\\Roaming\\\\jupyter\\\\runtime\\\\kernel-v2-11000kEkCwT97DHZf.json'",
     "output_type": "error",
     "traceback": [
      "\u001b[1;31m---------------------------------------------------------------------------\u001b[0m",
      "\u001b[1;31mValueError\u001b[0m                                Traceback (most recent call last)",
      "Cell \u001b[1;32mIn[6], line 18\u001b[0m\n\u001b[0;32m     15\u001b[0m random\u001b[38;5;241m.\u001b[39mseed(\u001b[38;5;241m42\u001b[39m)\n\u001b[0;32m     17\u001b[0m \u001b[38;5;28;01mif\u001b[39;00m \u001b[38;5;28mlen\u001b[39m(sys\u001b[38;5;241m.\u001b[39margv) \u001b[38;5;241m>\u001b[39m \u001b[38;5;241m1\u001b[39m:\n\u001b[1;32m---> 18\u001b[0m   n \u001b[38;5;241m=\u001b[39m \u001b[38;5;28;43mint\u001b[39;49m\u001b[43m(\u001b[49m\u001b[43msys\u001b[49m\u001b[38;5;241;43m.\u001b[39;49m\u001b[43margv\u001b[49m\u001b[43m[\u001b[49m\u001b[38;5;241;43m1\u001b[39;49m\u001b[43m]\u001b[49m\u001b[43m)\u001b[49m\n\u001b[0;32m     20\u001b[0m \u001b[38;5;28;01melse\u001b[39;00m: \n\u001b[0;32m     21\u001b[0m   n \u001b[38;5;241m=\u001b[39m \u001b[38;5;241m100\u001b[39m\n",
      "\u001b[1;31mValueError\u001b[0m: invalid literal for int() with base 10: '--f=c:\\\\Users\\\\Gustavo\\\\AppData\\\\Roaming\\\\jupyter\\\\runtime\\\\kernel-v2-11000kEkCwT97DHZf.json'"
     ]
    }
   ],
   "source": [
    "import random\n",
    "import sys\n",
    "import typing\n",
    "\n",
    "if __name__ == \"__main__\":\n",
    "  random.seed(42)\n",
    "  \n",
    "  if len(sys.argv) > 1:\n",
    "    n = int(sys.argv[1])\n",
    "    \n",
    "  else: \n",
    "    n = 100\n",
    "\n",
    "  v = [random.randint(1, n) for _ in range(n)]\n",
    "  merge_sort(v, 0, len(v) -1)\n",
    "  assert verifica_vetor_ordenado(v)\n",
    "  print(v)"
   ]
  }
 ],
 "metadata": {
  "kernelspec": {
   "display_name": "Python 3",
   "language": "python",
   "name": "python3"
  },
  "language_info": {
   "codemirror_mode": {
    "name": "ipython",
    "version": 3
   },
   "file_extension": ".py",
   "mimetype": "text/x-python",
   "name": "python",
   "nbconvert_exporter": "python",
   "pygments_lexer": "ipython3",
   "version": "3.11.9"
  }
 },
 "nbformat": 4,
 "nbformat_minor": 2
}

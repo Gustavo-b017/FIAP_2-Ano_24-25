{
 "cells": [
  {
   "cell_type": "code",
   "execution_count": null,
   "metadata": {},
   "outputs": [],
   "source": [
    "grafo = {\n",
    "  'a': ['b', 'c'],\n",
    "  'b': ['d', 'e'],\n",
    "  'c': ['f'],\n",
    "  'd': [],\n",
    "  'e': ['f'],\n",
    "  'f': []\n",
    "}\n",
    "\n",
    "# largura\n",
    "# a, b, c, d, e, f\n",
    "\n",
    "# profundidade\n",
    "# a, b, d,\n",
    "# b, e, f,\n",
    "# a, c, f"
   ]
  }
 ],
 "metadata": {
  "language_info": {
   "name": "python"
  }
 },
 "nbformat": 4,
 "nbformat_minor": 2
}

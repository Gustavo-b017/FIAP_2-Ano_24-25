{
 "cells": [
  {
   "cell_type": "code",
   "execution_count": 4,
   "metadata": {},
   "outputs": [
    {
     "data": {
      "text/plain": [
       "[1250, 3500, 4000, 5000, 5500, 6000, 7000]"
      ]
     },
     "execution_count": 4,
     "metadata": {},
     "output_type": "execute_result"
    }
   ],
   "source": [
    "salario = [5000, 6000, 4000, 5500, 3500, 1250, 7000]\n",
    "salario.sort()\n",
    "salario"
   ]
  },
  {
   "cell_type": "code",
   "execution_count": 48,
   "metadata": {},
   "outputs": [
    {
     "name": "stdout",
     "output_type": "stream",
     "text": [
      "resp:  None\n"
     ]
    }
   ],
   "source": [
    "lista = [[1250, 3500, 4000, 5000, 5500, 6000, 7000]]\n",
    "lista.sort()\n",
    "lista\n",
    "\n",
    "def busca_binaria(lista, item):\n",
    "  left = 0 # primeiro elemento\n",
    "  right = len(lista) - 1 # último elemento\n",
    "\n",
    "  while left <= right: # vai rodar enquanto existir a possivilidade de nao achar o q quero\n",
    "    media = (left + right) / 2 # calculo a posição do meio\n",
    "\n",
    "    if media == item: # se o media for o que eu quero, retorno a posição \n",
    "      return lista[media]\n",
    "    \n",
    "    elif media > item: # se o media for maior que o que eu quero, eu diminuo o valor de right\n",
    "      right = media - 1\n",
    "      \n",
    "    else: # se o media for menor que o que eu quero, eu aumento o valor de L\n",
    "      left = media + 1\n",
    "\n",
    "  return None\n",
    "\n",
    "print(\"resp: \", busca_binaria(lista, 3500)) \n"
   ]
  }
 ],
 "metadata": {
  "kernelspec": {
   "display_name": "Python 3",
   "language": "python",
   "name": "python3"
  },
  "language_info": {
   "codemirror_mode": {
    "name": "ipython",
    "version": 3
   },
   "file_extension": ".py",
   "mimetype": "text/x-python",
   "name": "python",
   "nbconvert_exporter": "python",
   "pygments_lexer": "ipython3",
   "version": "3.11.9"
  }
 },
 "nbformat": 4,
 "nbformat_minor": 2
}

{
 "cells": [
  {
   "cell_type": "code",
   "execution_count": 1,
   "metadata": {},
   "outputs": [
    {
     "name": "stdout",
     "output_type": "stream",
     "text": [
      "2\n",
      "[2, 5]\n",
      "[8, 4, 3]\n"
     ]
    }
   ],
   "source": [
    "lista = [2, 5, 8, 4, 3]\n",
    "\n",
    "meio = len(lista) // 2\n",
    "\n",
    "esquerda = lista[:meio]\n",
    "direita = lista[meio:]\n",
    "print(meio)\n",
    "print(esquerda)\n",
    "print(direita)"
   ]
  },
  {
   "cell_type": "code",
   "execution_count": 2,
   "metadata": {},
   "outputs": [
    {
     "name": "stdout",
     "output_type": "stream",
     "text": [
      "1\n",
      "[2]\n",
      "[4, 3]\n"
     ]
    }
   ],
   "source": [
    "lista = [2, 5, 8, 4, 3]\n",
    "\n",
    "meio2 = len(lista) // 2\n",
    "\n",
    "esquerda1 = lista[:meio]\n",
    "direita1 = lista[meio:]\n",
    "\n",
    "meio2 = len(esquerda) // meio2\n",
    "\n",
    "esquerda2 = esquerda1[:meio2]\n",
    "direita2 = direita1[meio2:]\n",
    "\n",
    "print(meio2)\n",
    "print(esquerda2)\n",
    "print(direita2)"
   ]
  },
  {
   "cell_type": "code",
   "execution_count": 10,
   "metadata": {},
   "outputs": [
    {
     "data": {
      "text/plain": [
       "[2, 3, 4, 5, 8]"
      ]
     },
     "execution_count": 10,
     "metadata": {},
     "output_type": "execute_result"
    }
   ],
   "source": [
    "def merge_sort(lista):\n",
    "  if len(lista) <= 1:\n",
    "    return lista\n",
    "\n",
    "  meio = len(lista) // 2\n",
    "  esquerda = merge_sort(lista[:meio])\n",
    "  direita = merge_sort(lista[meio:])\n",
    "\n",
    "  resultado = []\n",
    "  \n",
    "  i = j = 0\n",
    "\n",
    "  while i < len(esquerda) and j < len(direita):\n",
    "    if esquerda[i] < direita[j]:\n",
    "      resultado.append(esquerda[i])\n",
    "      i += 1\n",
    "    else:\n",
    "      resultado.append(direita[j])\n",
    "      j += 1\n",
    "\n",
    "  return resultado + esquerda[i:] + direita[j:]\n",
    "\n",
    "lista = [2, 5, 8, 4, 3]\n",
    "merge_sort(lista)"
   ]
  }
 ],
 "metadata": {
  "kernelspec": {
   "display_name": "Python 3",
   "language": "python",
   "name": "python3"
  },
  "language_info": {
   "codemirror_mode": {
    "name": "ipython",
    "version": 3
   },
   "file_extension": ".py",
   "mimetype": "text/x-python",
   "name": "python",
   "nbconvert_exporter": "python",
   "pygments_lexer": "ipython3",
   "version": "3.11.9"
  }
 },
 "nbformat": 4,
 "nbformat_minor": 2
}

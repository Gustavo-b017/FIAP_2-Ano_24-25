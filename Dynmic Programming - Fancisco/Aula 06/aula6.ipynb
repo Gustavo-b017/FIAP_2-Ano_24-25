{
 "cells": [
  {
   "cell_type": "code",
   "execution_count": 17,
   "metadata": {},
   "outputs": [
    {
     "name": "stdout",
     "output_type": "stream",
     "text": [
      "O cliente prioritário a foi atendido.\n",
      "O cliente prioritário c foi atendido.\n",
      "O cliente prioritário a foi atendido.\n",
      "O cliente prioritário c foi atendido.\n",
      "O cliente normal s foi atendido.\n",
      "O cliente normal s foi atendido.\n",
      "Não há clientes na fila.\n"
     ]
    }
   ],
   "source": [
    "prioridade = []\n",
    "normal = []\n",
    "\n",
    "while True:\n",
    "    clientePri = input('Digite \"A\" ou \"C\" para prioridade, ou \"fim\" para encerrar: ')\n",
    "    if clientePri in ['a', 'c', 'A', 'C']:\n",
    "        prioridade.append(clientePri)\n",
    "    elif clientePri == 'fim':\n",
    "        break\n",
    "    elif clientePri:  # Adiciona apenas entradas não vazias\n",
    "        normal.append(clientePri)\n",
    "    else:\n",
    "        print(\"Entrada inválida. Tente novamente.\")\n",
    "\n",
    "# Atendimento dos clientes\n",
    "while prioridade:\n",
    "    cliente = prioridade.pop(0)\n",
    "    print(f\"O cliente prioritário {cliente} foi atendido.\")\n",
    "\n",
    "while normal:\n",
    "    cliente = normal.pop(0)\n",
    "    print(f\"O cliente normal {cliente} foi atendido.\")\n",
    "\n",
    "if not prioridade and not normal:\n",
    "    print(\"Não há clientes na fila.\")"
   ]
  },
  {
   "cell_type": "code",
   "execution_count": 18,
   "metadata": {},
   "outputs": [
    {
     "name": "stdout",
     "output_type": "stream",
     "text": [
      "O cliente prioritário 5 foi atendido.\n",
      "O cliente prioritário 5 foi atendido.\n",
      "O cliente prioritário 4 foi atendido.\n",
      "O cliente prioritário 4 foi atendido.\n",
      "O cliente prioritário 3 foi atendido.\n",
      "O cliente prioritário 3 foi atendido.\n",
      "O cliente prioritário 3 foi atendido.\n",
      "O cliente prioritário 3 foi atendido.\n",
      "O cliente prioritário 2 foi atendido.\n",
      "O cliente prioritário 2 foi atendido.\n",
      "O cliente prioritário 2 foi atendido.\n",
      "O cliente prioritário 1 foi atendido.\n",
      "O cliente prioritário 1 foi atendido.\n"
     ]
    }
   ],
   "source": [
    "fila = []\n",
    "\n",
    "while True:\n",
    "  paciente = input('qual a urgencia, 1 a 5: ')\n",
    "  if paciente == 'fim':\n",
    "    break\n",
    "  fila.append(paciente)\n",
    "\n",
    "muitoBaixa = []\n",
    "baixa = []\n",
    "media = []\n",
    "alta = []\n",
    "muitoAlta = []\n",
    "# tratamento dos pacientes\n",
    "while fila:\n",
    "  if fila[0] == '1':\n",
    "    muitoBaixa.append(fila[0])\n",
    "    fila.pop(0)\n",
    "  elif fila[0] == '2':\n",
    "    baixa.append(fila[0])\n",
    "    fila.pop(0)\n",
    "  elif fila[0] == '3':\n",
    "    media.append(fila[0])\n",
    "    fila.pop(0)\n",
    "  elif fila[0] == '4':\n",
    "    alta.append(fila[0])\n",
    "    fila.pop(0)\n",
    "  elif fila[0] == '5':\n",
    "    muitoAlta.append(fila[0])\n",
    "    fila.pop(0)\n",
    "\n",
    "while muitoAlta:\n",
    "  cliente = muitoAlta.pop(0)\n",
    "  print(f\"O cliente prioritário {cliente} foi atendido.\")\n",
    "  \n",
    "while alta:\n",
    "  cliente = alta.pop(0)\n",
    "  print(f\"O cliente prioritário {cliente} foi atendido.\")\n",
    "\n",
    "while media:\n",
    "  cliente = media.pop(0)\n",
    "  print(f\"O cliente prioritário {cliente} foi atendido.\")\n",
    "\n",
    "while baixa:\n",
    "  cliente = baixa.pop(0)\n",
    "  print(f\"O cliente prioritário {cliente} foi atendido.\")\n",
    "\n",
    "while muitoBaixa:\n",
    "  cliente = muitoBaixa.pop(0)\n",
    "  print(f\"O cliente prioritário {cliente} foi atendido.\")"
   ]
  }
 ],
 "metadata": {
  "kernelspec": {
   "display_name": "Python 3",
   "language": "python",
   "name": "python3"
  },
  "language_info": {
   "codemirror_mode": {
    "name": "ipython",
    "version": 3
   },
   "file_extension": ".py",
   "mimetype": "text/x-python",
   "name": "python",
   "nbconvert_exporter": "python",
   "pygments_lexer": "ipython3",
   "version": "3.11.9"
  }
 },
 "nbformat": 4,
 "nbformat_minor": 2
}

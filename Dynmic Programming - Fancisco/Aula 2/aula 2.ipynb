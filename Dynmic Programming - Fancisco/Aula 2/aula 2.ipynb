{
 "cells": [
  {
   "cell_type": "code",
   "execution_count": 42,
   "metadata": {},
   "outputs": [
    {
     "name": "stdout",
     "output_type": "stream",
     "text": [
      "a resposta de x é -1.0\n"
     ]
    }
   ],
   "source": [
    "a = float(input(\"qual é o valor de a ?\"))\n",
    "b = float(input(\"qual é o valor de b ?\"))\n",
    "\n",
    "x = -b/a\n",
    "\n",
    "print(f'a resposta de x é {x:.2}')\n"
   ]
  },
  {
   "cell_type": "code",
   "execution_count": null,
   "metadata": {},
   "outputs": [],
   "source": [
    "p = float(input(\"qual é o valor da potencia ?\"))\n",
    "v = float(input(\"qual é o valor da voltagem ?\"))\n",
    "r = float(input(\"qual é o valor da resistencia ?\"))\n",
    "i = float(input(\"qual é o valor da corrente ?\"))\n",
    "\n",
    "\n",
    "\n",
    "if i != 0 and r != 0:\n",
    "  v = i * r\n",
    "  print(f'a resposta da voltagem é {v:.2}')\n",
    "elif v != 0 and r != 0:\n",
    "  i = v / r\n",
    "  print(f'a resposta da corrente é {i:.2}')\n",
    "elif v != 0 and i != 0:\n",
    "  p = v / i\n",
    "  print(f'a resposta da potencia é {p:.2} W')\n",
    "elif r != 0 and i != 0:\n",
    "  p = r * i**2\n",
    "  print(f'a resposta da potencia é {p:.2} W')\n",
    "elif v != 0 and r != 0:\n",
    "  p = v**2 / r\n",
    "  print(f'a resposta da potencia é {p:.2} W')\n",
    "  \n",
    "else:\n",
    "  print(\"não foi possivel calcular\")"
   ]
  },
  {
   "cell_type": "code",
   "execution_count": null,
   "metadata": {},
   "outputs": [],
   "source": [
    "escolha = int(input(\"qual é a sua escolha ? 1 = v; 2 = i; 4 = p;\"))\n",
    "\n",
    "\n",
    "if escolha == 1:\n",
    "  r = float(input(\"qual é o valor da resistencia ?\"))\n",
    "  i = float(input(\"qual é o valor da corrente ?\"))  \n",
    "  \n",
    "  v = i * r\n",
    "  print(f'a resposta da voltagem é {v:.2}')\n",
    "elif escolha == 2:\n",
    "  v = float(input(\"qual é o valor da voltagem ?\"))\n",
    "  r = float(input(\"qual é o valor da resistencia ?\"))\n",
    "  \n",
    "  i = v / r\n",
    "  print(f'a resposta da corrente é {i:.2}')\n",
    "elif escolha == 3:\n",
    "  v = float(input(\"qual é o valor da voltagem ?\"))\n",
    "  i = float(input(\"qual é o valor da corrente ?\"))\n",
    "  r = float(input(\"qual é o valor da resistencia ?\"))\n",
    "  \n",
    "  if v != 0 and i != 0:\n",
    "    p = v / i\n",
    "    print(f'a resposta da potencia é {p:.2} W')\n",
    "  elif r != 0 and i != 0:\n",
    "    p = r * i**2\n",
    "    print(f'a resposta da potencia é {p:.2} W')\n",
    "  elif v != 0 and r != 0:\n",
    "    p = v**2 / r\n",
    "    print(f'a resposta da potencia é {p:.2} W')\n",
    "  else:\n",
    "    print(\"não foi possivel calcular\")\n",
    "  \n",
    "  "
   ]
  },
  {
   "cell_type": "code",
   "execution_count": null,
   "metadata": {},
   "outputs": [],
   "source": [
    "idade = 16\n",
    "\n",
    "if idade >= 18:\n",
    "  print(\"pode votar\")\n",
    "  \n",
    "else:\n",
    "  print(\"não pode votar\")"
   ]
  },
  {
   "cell_type": "code",
   "execution_count": null,
   "metadata": {},
   "outputs": [],
   "source": [
    "esc = int(input(\"qual é a sua escolha ? 1 = ensolarado; 2 = chuvoso; 3 = nublado; 4 = nevendo;\"))\n",
    "\n",
    "if esc == 1:\n",
    "  print(\"Dia de futebol e churrasco\")\n",
    "elif esc == 2:\n",
    "  print(\"Ficar em casa e assistir filmes\")\n",
    "elif esc == 3:\n",
    "  print(\"tomar um sorvete ou cafe\")\n",
    "elif esc == 4:\n",
    "  print(\"ficar em casa e tomar chocolate quente ou esquiar\")\n",
    "else:\n",
    "  print(\"não foi possivel identificar a sua escolha\")"
   ]
  },
  {
   "cell_type": "code",
   "execution_count": null,
   "metadata": {},
   "outputs": [],
   "source": [
    "esc = int(input(\"1: cilindro; 2: retangulo\"))\n",
    "\n",
    "if esc == 1:\n",
    "  r = float(input(\"qual é o valor do raio ?\"))\n",
    "  h = float(input(\"qual é o valor da altura ?\"))\n",
    "  \n",
    "  v = 3.1415 * r**2 \n",
    "  vv = 3.1415 * r**2 * h\n",
    "  print(f'o valor da area do circulo é: {v:.3f}')\n",
    "  print(f'o valor do volume do cilindro é: {vv:.3f}')\n",
    "  \n",
    "elif esc == 2:\n",
    "  a = float(input(\"qual é o valor da altura ?\"))\n",
    "  l = float(input(\"qual é o valor da largura ?\"))\n",
    "  c = float(input(\"qual é o valor do comprimento ?\"))\n",
    "  \n",
    "  r = a * l\n",
    "  rv = a * l * c\n",
    "  print(f\"o valor da area do retangulo é: {r:.3f} m²\")\n",
    "  print(f\"o valor do volume do retangulo é: {rv:.3f} m²\")\n",
    "else:\n",
    "  print(\"não foi possivel identificar a sua escolha\")\n",
    "  "
   ]
  },
  {
   "cell_type": "code",
   "execution_count": null,
   "metadata": {},
   "outputs": [],
   "source": [
    "for k in range(5):\n",
    "  print(k)"
   ]
  },
  {
   "cell_type": "code",
   "execution_count": null,
   "metadata": {},
   "outputs": [],
   "source": [
    "i = 0\n",
    "while i < 5:\n",
    "  print(i)\n",
    "  i += 1"
   ]
  },
  {
   "cell_type": "code",
   "execution_count": null,
   "metadata": {},
   "outputs": [],
   "source": [
    "# busca linear\n",
    "\n",
    "lista = [1, 2, 3, 4, 5, 6, 7, 8, 9, 10]\n",
    "\n",
    "for k in lista:\n",
    "  if k == 4:\n",
    "    print(\"achou\")\n",
    "    break\n",
    "  print(k)"
   ]
  },
  {
   "cell_type": "code",
   "execution_count": null,
   "metadata": {},
   "outputs": [
    {
     "name": "stdout",
     "output_type": "stream",
     "text": [
      "1\n",
      "2\n",
      "3\n"
     ]
    }
   ],
   "source": [
    "num =0\n",
    "\n",
    "while num < 5 :\n",
    "  num += 1\n",
    "  \n",
    "  if num == 4:\n",
    "    break\n",
    "  print(num)\n",
    "  "
   ]
  }
 ],
 "metadata": {
  "kernelspec": {
   "display_name": "Python 3",
   "language": "python",
   "name": "python3"
  },
  "language_info": {
   "codemirror_mode": {
    "name": "ipython",
    "version": 3
   },
   "file_extension": ".py",
   "mimetype": "text/x-python",
   "name": "python",
   "nbconvert_exporter": "python",
   "pygments_lexer": "ipython3",
   "version": "3.11.9"
  }
 },
 "nbformat": 4,
 "nbformat_minor": 2
}

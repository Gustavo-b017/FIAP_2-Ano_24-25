{
 "cells": [
  {
   "cell_type": "code",
   "execution_count": 1,
   "metadata": {},
   "outputs": [
    {
     "name": "stdout",
     "output_type": "stream",
     "text": [
      "Equipamentos pendentes: [101, 103, 105, 108]\n",
      "Equipamentos concluídos: [102, 104, 106, 107]\n"
     ]
    }
   ],
   "source": [
    "def separar_status(codigos, status):\n",
    "  \n",
    "  pendente = []   \n",
    "  concluido = [] \n",
    "\n",
    "  for i in range(len(codigos)):\n",
    "    if status[i] == 0:\n",
    "      pendente.append(codigos[i])  \n",
    "    elif status[i] == 1:\n",
    "      concluido.append(codigos[i])  \n",
    "\n",
    "  \n",
    "  return pendente, concluido\n",
    "\n",
    "codigos_equipamentos = [101, 102, 103, 104, 105, 106, 107, 108]\n",
    "status_manutencao = [0, 1, 0, 1, 0, 1, 1, 0]\n",
    "\n",
    "lista_pendente, lista_concluido = separar_status(codigos_equipamentos, status_manutencao)\n",
    "\n",
    "print(\"Equipamentos pendentes:\", lista_pendente)\n",
    "print(\"Equipamentos concluídos:\", lista_concluido)\n"
   ]
  },
  {
   "cell_type": "code",
   "execution_count": 3,
   "metadata": {},
   "outputs": [
    {
     "name": "stdout",
     "output_type": "stream",
     "text": [
      "\n",
      "Resumo dos produtos:\n",
      "Aprovados: ['1', '2', '5', '6', '7', '10']\n",
      "Reprovados: ['3', '8', '9']\n",
      "Pendentes: ['4']\n"
     ]
    }
   ],
   "source": [
    "numero_serie = []  \n",
    "list_status = []   \n",
    "\n",
    "aprovados = []    \n",
    "reprovados = []   \n",
    "pendentes = []   \n",
    "\n",
    "for i in range(10):\n",
    "  numero = input(f\"Digite o número de série do produto {i+1}: \")\n",
    "  numero_serie.append(numero)\n",
    "\n",
    "for i in range(10):\n",
    "  status = int(input(f\"Digite o status do produto {i+1} (1 = aprovado, 0 = reprovado, -1 = pendente): \"))\n",
    "  list_status.append(status)\n",
    "\n",
    "for i in range(10):\n",
    "  if list_status[i] == 1:\n",
    "    aprovados.append(numero_serie[i])\n",
    "      \n",
    "  elif list_status[i] == 0:\n",
    "    reprovados.append(numero_serie[i])\n",
    "      \n",
    "  elif list_status[i] == -1:\n",
    "    pendentes.append(numero_serie[i])\n",
    "  else:\n",
    "    print(f\"Status inválido para o produto {numero_serie[i]}. Produto não será classificado.\")\n",
    "\n",
    "print(\"\\nResumo dos produtos:\")\n",
    "print(\"Aprovados:\", aprovados)\n",
    "print(\"Reprovados:\", reprovados)\n",
    "print(\"Pendentes:\", pendentes)\n",
    "\n"
   ]
  }
 ],
 "metadata": {
  "kernelspec": {
   "display_name": "Python 3",
   "language": "python",
   "name": "python3"
  },
  "language_info": {
   "codemirror_mode": {
    "name": "ipython",
    "version": 3
   },
   "file_extension": ".py",
   "mimetype": "text/x-python",
   "name": "python",
   "nbconvert_exporter": "python",
   "pygments_lexer": "ipython3",
   "version": "3.11.9"
  }
 },
 "nbformat": 4,
 "nbformat_minor": 2
}

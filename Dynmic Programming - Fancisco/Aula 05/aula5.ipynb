{
 "cells": [
  {
   "cell_type": "code",
   "execution_count": 1,
   "metadata": {},
   "outputs": [
    {
     "name": "stdout",
     "output_type": "stream",
     "text": [
      "16\n"
     ]
    }
   ],
   "source": [
    "# busca binaria\n",
    "\n",
    "def busca_binaria(lista, alvo):\n",
    "  l = 0\n",
    "  h = len(lista) - 1\n",
    "\n",
    "  for interacao in range(len(lista)):\n",
    "    m = (l + h) // 2\n",
    "\n",
    "    if lista[m] == alvo:\n",
    "      return m\n",
    "    \n",
    "    elif lista[m] < alvo:\n",
    "      l = m + 1\n",
    "\n",
    "    else:\n",
    "      h = m - 1\n",
    "\n",
    "  return -1\n",
    "\n",
    "\n",
    "lista = [11, 18, 19, 21, 25, 29, 32, 35, 37, 40, 45, 49, 51, 53, 55, 57, 60, 63, 65, 68, 70, 72, 75, 77, 80, 82, 85, 88, 90, 92, 95, 97, 99]\n",
    "alvo = 60\n",
    "\n",
    "print(busca_binaria(lista, alvo))"
   ]
  },
  {
   "cell_type": "code",
   "execution_count": 7,
   "metadata": {},
   "outputs": [
    {
     "name": "stdout",
     "output_type": "stream",
     "text": [
      "[10, 15, 37, 17, 199, 83, 25, 30, 45, 50, 82, 90, 100]\n",
      "[10, 15, 17, 25, 30, 37, 45, 50, 82, 83, 90, 100, 199]\n",
      "Iteração 1: l = 0, m = 6, h = 12\n",
      "Iteração 2: l = 7, m = 9, h = 12\n",
      "Iteração 3: l = 7, m = 7, h = 8\n",
      "Iteração 4: l = 8, m = 8, h = 8\n"
     ]
    },
    {
     "data": {
      "text/plain": [
       "8"
      ]
     },
     "execution_count": 7,
     "metadata": {},
     "output_type": "execute_result"
    }
   ],
   "source": [
    "def busca_binaria(lista, alvo):\n",
    "  l, h = 0, len(lista) - 1\n",
    "  iteracao = 0\n",
    "\n",
    "  while l <= h:\n",
    "    iteracao += 1\n",
    "    m = (l + h ) // 2\n",
    "    print(f'Iteração {iteracao}: l = {l}, m = {m}, h = {h}')\n",
    "\n",
    "\n",
    "    if lista[m] == alvo:\n",
    "      return m\n",
    "\n",
    "    elif lista[m] < alvo:\n",
    "      l = m + 1\n",
    "\n",
    "    else:\n",
    "      h = m - 1\n",
    "  return -1\n",
    "\n",
    "lista = [10, 15, 37, 17, 199, 83, 25, 30, 45, 50, 82, 90, 100]\n",
    "alvo = 82\n",
    "\n",
    "print(lista)\n",
    "\n",
    "lista_ordenada = sorted(lista)\n",
    "print(lista_ordenada)\n",
    "\n",
    "# resultado = busca_binaria(lista_ordenada, alvo)\n",
    "# print(f'O alvo {alvo} foi encontrado no índice {resultado}')\n",
    "\n",
    "busca_binaria(lista_ordenada, alvo)"
   ]
  },
  {
   "cell_type": "code",
   "execution_count": 19,
   "metadata": {},
   "outputs": [
    {
     "name": "stdout",
     "output_type": "stream",
     "text": [
      "o Cliente a está atendido\n",
      "Fila atual: ['b', 'c', 'd']\n",
      "o Cliente b está atendido\n",
      "Fila atual: ['c', 'd']\n",
      "o Cliente c está atendido\n",
      "Fila atual: ['d']\n",
      "o Cliente d está atendido\n",
      "Fila atual: []\n",
      "todos os clientes foram atendidos\n"
     ]
    }
   ],
   "source": [
    "fila = []\n",
    "\n",
    "\n",
    "while True:\n",
    "  cliente = input('Digite o nome do cliente: ')\n",
    "\n",
    "  if cliente == 'fim':\n",
    "    break\n",
    "  fila.append(cliente)\n",
    "\n",
    "for i in range(len(fila)):\n",
    "\n",
    "  if len(fila) != 0:\n",
    "    print(f'o Cliente {fila[0]} está atendido')\n",
    "    fila.pop(0)\n",
    "    print(f'Fila atual: {fila}')\n",
    "\n",
    "print('todos os clientes foram atendidos')\n"
   ]
  }
 ],
 "metadata": {
  "kernelspec": {
   "display_name": "Python 3",
   "language": "python",
   "name": "python3"
  },
  "language_info": {
   "codemirror_mode": {
    "name": "ipython",
    "version": 3
   },
   "file_extension": ".py",
   "mimetype": "text/x-python",
   "name": "python",
   "nbconvert_exporter": "python",
   "pygments_lexer": "ipython3",
   "version": "3.11.9"
  }
 },
 "nbformat": 4,
 "nbformat_minor": 2
}

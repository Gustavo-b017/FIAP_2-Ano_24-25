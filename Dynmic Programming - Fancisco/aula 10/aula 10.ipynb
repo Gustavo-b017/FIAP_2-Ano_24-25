{
 "cells": [
  {
   "cell_type": "code",
   "execution_count": 5,
   "metadata": {},
   "outputs": [
    {
     "name": "stdout",
     "output_type": "stream",
     "text": [
      "Amigos em comum entre maria e pedro: {'joão', 'ana'}\n",
      "Amigos de pedro que não são amigos de ana: {'lucas', 'joão', 'ana'}\n",
      "Amigos de ana que não são amigos de pedro: {'pedro', 'clara'}\n",
      "Amigos de ana ou lucas: {'maria', 'clara', 'joão', 'pedro'}\n"
     ]
    }
   ],
   "source": [
    "amizades = {\n",
    "  'maria': ['ana', 'pedro', 'joão'],\n",
    "  'João': ['pedro', 'maria', 'lucas'],\n",
    "  'pedro': ['ana', 'maria', 'lucas', 'joão'],\n",
    "  'ana': ['pedro', 'clara', 'maria'],\n",
    "  'lucas': ['pedro', 'joão'],\n",
    "  'clara': ['ana'],\n",
    "}\n",
    "\n",
    "# 1. use set para encontrar amigos em comum entre maria e pedro\n",
    "amigos_maria = set(amizades['maria'])\n",
    "amigos_pedro = set(amizades['pedro'])\n",
    "\n",
    "amigos_em_comum = amigos_maria & amigos_pedro\n",
    "print(f\"Amigos em comum entre maria e pedro: {amigos_em_comum}\")\n",
    "\n",
    "# 2. calcule a diferença entre os amigos de pedro e ana\n",
    "amigos_pedro = set(amizades['pedro'])\n",
    "amigos_ana = set(amizades['ana'])\n",
    "\n",
    "dif_pedro_ana = amigos_pedro - amigos_ana\n",
    "dif_ana_pedro = amigos_ana - amigos_pedro\n",
    "\n",
    "print(f\"Amigos de pedro que não são amigos de ana: {dif_pedro_ana}\")\n",
    "print(f\"Amigos de ana que não são amigos de pedro: {dif_ana_pedro}\")\n",
    "\n",
    "# 3. liste todas as pessoas que sao amigas de ana ou lucaas (união)\n",
    "amigos_ana = set(amizades['ana'])\n",
    "amigos_lucas = set(amizades['lucas'])\n",
    "\n",
    "amigos_ana_lucas = amigos_ana | amigos_lucas\n",
    "print(f\"Amigos de ana ou lucas: {amigos_ana_lucas}\")"
   ]
  },
  {
   "cell_type": "code",
   "execution_count": null,
   "metadata": {},
   "outputs": [
    {
     "name": "stdout",
     "output_type": "stream",
     "text": [
      "Materiais comuns entre Projeto1 e Projeto2: {'tinta', 'cola', 'verniz'}\n",
      "Materiais exclusivos do projeto3 (em relação ao projeto1): {'papelão', 'parafusos', 'cola quente'}\n",
      "Materiais em pelo menos um dos projetos projeto2 ou projeto5: {'lixa', 'cola', 'tinta', 'verniz', 'papel', 'papelão', 'pregos'}\n",
      "Materiais em pelo menos um dos projetos projeto2 ou projeto5: {'tinta', 'cola', 'papel'}\n",
      "Materiais usados simultaneamente em projeto1, projeto2 e projeto5: {'tinta', 'cola'}\n",
      "Materiais usados em pelo menos dois projetos diferentes: {'lixa', 'cola', 'areia', 'parafusos', 'madeira', 'tinta', 'cola quente', 'cimento', 'papelão', 'verniz', 'papel', 'pregos'}\n"
     ]
    }
   ],
   "source": [
    "# exercicio 1\n",
    "\n",
    "# 1. Materiais comuns entre Projeto1 e Projeto2\n",
    "# 2. Materiais exclusivos do projeto3 (em relação ao projeto1)\n",
    "# 3. Materiais em pelo menos um dos projetos projeto2 ou projeto5\n",
    "# 4. Materiais usados simultaneamente em projeto1, projeto2 e projeto5\n",
    "# 5. Liste todos os materiais usados em pelo menso dois projetos diferentes\n",
    "\n",
    "materiais = {\n",
    "  \"Projeto1\": {\"madeira\", \"cola\", \"tinta\", \"pregos\", \"verniz\"},\n",
    "  \"Projeto2\": {\"cola\", \"papel\", \"tinta\", \"lixa\", \"verniz\"},\n",
    "  \"Projeto3\": {\"madeira\", \"papelão\", \"parafusos\", \"cola quente\"},\n",
    "  \"Projeto4\": {\"cimento\", \"areia\", \"tinta\", \"cola\"},\n",
    "  \"Projeto5\": {\"papel\", \"papelão\", \"cola\", \"tinta\", \"pregos\"},\n",
    "  \"Projeto6\": {\"madeira\", \"lixa\", \"parafusos\", \"cimento\"},\n",
    "  \"Projeto7\": {\"papelão\", \"cola quente\", \"tinta\", \"areia\"},\n",
    "}\n",
    "\n",
    "# 1. Materiais comuns entre Projeto1 e Projeto2\n",
    "materiais_projeto1 = materiais[\"Projeto1\"]\n",
    "materiais_projeto2 = materiais[\"Projeto2\"]\n",
    "\n",
    "materiais_comuns = materiais_projeto1 & materiais_projeto2\n",
    "print(f\"Materiais comuns entre Projeto1 e Projeto2: {materiais_comuns}\")\n",
    "\n",
    "# 2. Materiais exclusivos do projeto3 (em relação ao projeto1)\n",
    "materiais_projeto1 = materiais[\"Projeto1\"]\n",
    "materiais_projeto3 = materiais[\"Projeto3\"]\n",
    "\n",
    "materiais_excluisovos_projeto3 = materiais_projeto3 - materiais_projeto1\n",
    "print(f\"Materiais exclusivos do projeto3 (em relação ao projeto1): {materiais_excluisovos_projeto3}\")\n",
    "\n",
    "# 3. Materiais em pelo menos um dos projetos projeto2 ou projeto5\n",
    "materiais_projeto2 = materiais[\"Projeto2\"]\n",
    "materiais_projeto5 = materiais[\"Projeto5\"]\n",
    "\n",
    "materiais_projeto2_5 = materiais_projeto2 | materiais_projeto5\n",
    "print(f\"Materiais em pelo menos um dos projetos projeto2 ou projeto5: {materiais_projeto2_5}\")\n",
    "\n",
    "# --- ou ---\n",
    "\n",
    "materiais_projeto2 = materiais[\"Projeto2\"]\n",
    "materiais_projeto5 = materiais[\"Projeto5\"]\n",
    "\n",
    "materiais_projeto2_5 = materiais_projeto2 & materiais_projeto5\n",
    "print(f\"Materiais em pelo menos um dos projetos projeto2 ou projeto5: {materiais_projeto2_5}\")\n",
    "\n",
    "# 4. Materiais usados simultaneamente em projeto1, projeto2 e projeto5\n",
    "materiais_projeto1 = materiais[\"Projeto1\"]\n",
    "materiais_projeto2 = materiais[\"Projeto2\"]\n",
    "materiais_projeto5 = materiais[\"Projeto5\"]\n",
    "\n",
    "materiais_projeto1_2_5 = materiais_projeto1 & materiais_projeto2 & materiais_projeto5\n",
    "print(f\"Materiais usados simultaneamente em projeto1, projeto2 e projeto5: {materiais_projeto1_2_5}\")\n",
    "\n",
    "# 5. Liste todos os materiais usados em pelo menos dois projetos diferentes\n",
    "# set - seta uma vairiavel como um conjunto, ou seja, não aceita valores repetidos\n",
    "\n",
    "vistos = set()\n",
    "repetidos = set()\n",
    "\n",
    "for materiais_projeto in materiais.values():\n",
    "  for material in materiais_projeto:\n",
    "    if material in vistos:\n",
    "      repetidos.add(material)  # Se o material já foi visto, adiciona ao conjunto de repetidos\n",
    "    else:\n",
    "      vistos.add(material)  # Caso contrário, adiciona ao conjunto de vistos\n",
    "print(f\"Materiais usados em pelo menos dois projetos diferentes: {repetidos}\")"
   ]
  },
  {
   "cell_type": "code",
   "execution_count": 31,
   "metadata": {},
   "outputs": [
    {
     "name": "stdout",
     "output_type": "stream",
     "text": [
      "Notas iguais entre Ana e Diana: {9}\n",
      "Notas que Ana tirou e Bruno não: {8, 9}\n",
      "Todas as notas: {4, 5, 6, 7, 8, 9, 10}\n"
     ]
    }
   ],
   "source": [
    "notas = {\n",
    "  \"Ana\": [8, 9, 7],\n",
    "  \"Bruno\": [6, 7, 5],\n",
    "  \"Carlos\": [9, 7, 6],\n",
    "  \"Diana\": [10, 9, 6],\n",
    "  \"Eduardo\": [6, 5, 4],\n",
    "}\n",
    "\n",
    "# 1. quais alunos tiraram notas iguais? entre dois alunos\n",
    "# 2. quais notas ana tirou e bruno nao?\n",
    "# 3. união de todos as notas\n",
    "\n",
    "# 1. quais alunos tiraram notas iguais? entre dois alunos\n",
    "ana = set(notas[\"Ana\"])\n",
    "diana = set(notas[\"Diana\"])\n",
    "\n",
    "notas_iguais = ana & diana\n",
    "print(f\"Notas iguais entre Ana e Diana: {notas_iguais}\")\n",
    "\n",
    "# 2. quais notas ana tirou e bruno nao?\n",
    "bruno = set(notas[\"Bruno\"])\n",
    "ana = set(notas[\"Ana\"])\n",
    "\n",
    "ana_não_bruno = ana - bruno\n",
    "print(f\"Notas que Ana tirou e Bruno não: {ana_não_bruno}\")\n",
    "\n",
    "# 3. união de todos as notas\n",
    "todas_as_notas = set()\n",
    "for notas_aluno in notas.values():\n",
    "  todas_as_notas.update(notas_aluno)  # Adiciona as notas do aluno ao conjunto de todas as notas\n",
    "print(f\"Todas as notas: {todas_as_notas}\")\n",
    "\n"
   ]
  }
 ],
 "metadata": {
  "kernelspec": {
   "display_name": "Python 3",
   "language": "python",
   "name": "python3"
  },
  "language_info": {
   "codemirror_mode": {
    "name": "ipython",
    "version": 3
   },
   "file_extension": ".py",
   "mimetype": "text/x-python",
   "name": "python",
   "nbconvert_exporter": "python",
   "pygments_lexer": "ipython3",
   "version": "3.11.9"
  }
 },
 "nbformat": 4,
 "nbformat_minor": 2
}

{
 "cells": [
  {
   "cell_type": "code",
   "execution_count": 1,
   "metadata": {},
   "outputs": [],
   "source": [
    "grafo = {\n",
    "  'a': ['b', 'c'],\n",
    "  'b': ['d', 'e'],\n",
    "  'c': ['f'],\n",
    "  'd': [],\n",
    "  'e': ['f'],\n",
    "  'f': []\n",
    "}"
   ]
  },
  {
   "cell_type": "code",
   "execution_count": 9,
   "metadata": {},
   "outputs": [
    {
     "name": "stdout",
     "output_type": "stream",
     "text": [
      "b - d - e - f - "
     ]
    }
   ],
   "source": [
    "from collections import deque\n",
    "\n",
    "def busca_largura(grafo, inicio):\n",
    "  visitados = set()\n",
    "  fila = deque([inicio])\n",
    "\n",
    "  while fila:\n",
    "    no = fila.popleft()\n",
    "\n",
    "    if no not in visitados:\n",
    "      print(no, end=' - ')\n",
    "      visitados.add(no)\n",
    "      fila.extend(grafo[no]) #extend -- cria o no dentro do grafo \n",
    "\n",
    "busca_largura(grafo, 'b')"
   ]
  },
  {
   "cell_type": "code",
   "execution_count": 10,
   "metadata": {},
   "outputs": [],
   "source": [
    "def busca_profundidade(grafo, inicio, visitados=None):\n",
    "  if visitados is None:\n",
    "    visitados = set()\n",
    "\n",
    "    if inicio not in visitados:\n",
    "      print(inicio, end=' - ')\n",
    "      visitados.add(inicio)\n",
    "\n",
    "      for vizinho in grafo[inicio]:\n",
    "        busca_profundidade(grafo, vizinho, visitados)"
   ]
  }
 ],
 "metadata": {
  "kernelspec": {
   "display_name": "Python 3",
   "language": "python",
   "name": "python3"
  },
  "language_info": {
   "codemirror_mode": {
    "name": "ipython",
    "version": 3
   },
   "file_extension": ".py",
   "mimetype": "text/x-python",
   "name": "python",
   "nbconvert_exporter": "python",
   "pygments_lexer": "ipython3",
   "version": "3.11.9"
  }
 },
 "nbformat": 4,
 "nbformat_minor": 2
}

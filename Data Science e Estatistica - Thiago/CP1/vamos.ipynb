{
 "cells": [
  {
   "cell_type": "markdown",
   "metadata": {},
   "source": [
    "estudar a aula passada do dashbord\n",
    "\n",
    "colocar a minha analise, colocando uma racioncio proprio\n",
    "\n",
    "disdiscutir com mais profundidade\n",
    "\n",
    "<!-- tirar as colunas que nao sei o que é -->\n",
    "\n",
    "pode tirar dados desde que discuta ainda mais profundo\n",
    "\n",
    "saiba do que sao os dados e o que de util pode tirar de la"
   ]
  },
  {
   "cell_type": "code",
   "execution_count": null,
   "metadata": {},
   "outputs": [
    {
     "name": "stdout",
     "output_type": "stream",
     "text": [
      "Planilha criada: historico_btg_pactual.xlsx\n",
      "Planilha carregada com sucesso!\n",
      "Dados após remoção de outliers:\n",
      "             Open        High         Low       Close        Volume\n",
      "count  431.000000  431.000000  431.000000  431.000000  4.310000e+02\n",
      "mean    32.240730   32.651262   31.823040   32.249454  8.464618e+06\n",
      "std      2.435752    2.413656    2.416023    2.433872  3.201469e+06\n",
      "min     25.065380   26.071793   24.951448   25.900894  0.000000e+00\n",
      "25%     30.761810   31.242934   30.320208   30.821671  6.132050e+06\n",
      "50%     31.968059   32.330169   31.552911   32.035343  7.943300e+06\n",
      "75%     34.300457   34.662562   33.827083   34.236162  1.032560e+07\n",
      "max     37.246711   37.528442   36.926119   37.373005  1.757480e+07\n"
     ]
    }
   ],
   "source": [
    "import yfinance as yf\n",
    "import pandas as pd\n",
    "import numpy as np\n",
    "\n",
    "def remove_outliers(df, factor=1.5):\n",
    "    \n",
    "    df_clean = df.copy()\n",
    "    numeric_cols = df_clean.select_dtypes(include=[np.number]).columns\n",
    "\n",
    "    for col in numeric_cols:\n",
    "        Q1 = df_clean[col].quantile(0.25)\n",
    "        Q3 = df_clean[col].quantile(0.75)\n",
    "        IQR = Q3 - Q1\n",
    "        lower_bound = Q1 - factor * IQR\n",
    "        upper_bound = Q3 + factor * IQR\n",
    "        # Filtra o DataFrame para manter somente os valores dentro dos limites\n",
    "        df_clean = df_clean[(df_clean[col] >= lower_bound) & (df_clean[col] <= upper_bound)]\n",
    "    \n",
    "    return df_clean\n",
    "\n",
    "# 1. Baixar dados históricos do BTG Pactual (BPAC11) para os últimos 2 anos\n",
    "btg = yf.Ticker(\"BPAC11.SA\")\n",
    "historico = btg.history(period=\"2y\")  # Agora utiliza apenas os últimos 2 anos\n",
    "\n",
    "# Remover timezone das datas\n",
    "historico.index = historico.index.tz_convert(None)\n",
    "\n",
    "# Remover colunas indesejadas\n",
    "colunas_para_remover = ['Dividends', 'Stock Splits']\n",
    "historico = historico.drop(columns=colunas_para_remover)\n",
    "\n",
    "# Salvando os dados para um arquivo Excel\n",
    "arquivo_excel = \"historico_btg_pactual.xlsx\"\n",
    "historico.to_excel(arquivo_excel)\n",
    "print(f\"Planilha criada: {arquivo_excel}\")\n",
    "\n",
    "# 2. Carregar a planilha Excel e remover outliers\n",
    "try:\n",
    "    df = pd.read_excel(arquivo_excel, parse_dates=[\"Date\"], index_col=0)\n",
    "    print(\"Planilha carregada com sucesso!\")\n",
    "except Exception as e:\n",
    "    print(\"Erro ao carregar a planilha:\", e)\n",
    "    df = pd.DataFrame()  # DataFrame vazio para evitar erros posteriores\n",
    "\n",
    "if not df.empty:\n",
    "    df_sem_outliers = remove_outliers(df)\n",
    "    print(\"Dados após remoção de outliers:\")\n",
    "    print(df_sem_outliers.describe())\n"
   ]
  }
 ],
 "metadata": {
  "kernelspec": {
   "display_name": "Python 3",
   "language": "python",
   "name": "python3"
  },
  "language_info": {
   "codemirror_mode": {
    "name": "ipython",
    "version": 3
   },
   "file_extension": ".py",
   "mimetype": "text/x-python",
   "name": "python",
   "nbconvert_exporter": "python",
   "pygments_lexer": "ipython3",
   "version": "3.11.9"
  }
 },
 "nbformat": 4,
 "nbformat_minor": 2
}
